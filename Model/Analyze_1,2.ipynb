{
 "cells": [
  {
   "cell_type": "code",
   "execution_count": 1,
   "metadata": {},
   "outputs": [],
   "source": [
    "import numpy as np\n",
    "import pandas as pd\n",
    "import time\n",
    "import os\n",
    "import pathlib\n",
    "import copy\n",
    "from matplotlib import pyplot as plt\n",
    "from scipy import stats\n",
    "\n",
    "\n",
    "answer_m1 = pd.read_csv('Answer_m1.csv')\n",
    "answer_m2 = pd.read_csv('Answer_m2.csv')\n",
    "answer_m3 = pd.read_csv('Answer_m3.csv')\n",
    "\n",
    "std =[260,310,400]\n",
    "\n",
    "_n_hist = 10\n",
    "_n_samples = 26"
   ]
  },
  {
   "cell_type": "code",
   "execution_count": 2,
   "metadata": {},
   "outputs": [],
   "source": [
    "def load_data(_n = 0,_n_file = 10,name = 'Predict_Modified_M',start=0) :\n",
    "    _data = list()\n",
    "    for i in range(start,_n_file+start) :\n",
    "        data = pd.read_csv('{}{}_{}.csv'.format(name,_n,i))\n",
    "        _data.append(data)\n",
    "    return _data"
   ]
  },
  {
   "cell_type": "code",
   "execution_count": 3,
   "metadata": {},
   "outputs": [],
   "source": [
    "def dist_euclidean(data = '', answer='',robot='',step='',std = 500) :\n",
    "    _x = '{}_{}_x'.format(step,robot)\n",
    "    _y = '{}_{}_y'.format(step,robot)\n",
    "    ans_x = answer[_x]\n",
    "    data_x = data[_x]\n",
    "    dist_x = (ans_x - data_x) * std\n",
    "\n",
    "    ans_y = answer[_y]\n",
    "    data_y = data[_y]\n",
    "    dist_y = (ans_y - data_y) * std\n",
    "\n",
    "    dist = np.sqrt(np.square(dist_x)+np.square(dist_y))\n",
    "    average = np.average(dist)\n",
    "    std = np.std(dist)\n",
    "    return dist, average, std"
   ]
  },
  {
   "cell_type": "code",
   "execution_count": 4,
   "metadata": {},
   "outputs": [],
   "source": [
    "def cal_result(data='',robots=['H','F1','F2','F3','F4'],_n_hist = 10,_n_samples=26,std = 0,answer='') :\n",
    "    _avgs = list()\n",
    "#    _stds = list()\n",
    "    for i in range(0,len(data)) :\n",
    "        _tmp_avgs = list()\n",
    "#        _tmp_stds = list()\n",
    "        for j,_robot in enumerate(robots) :\n",
    "            _tmp_avg = list()\n",
    "#            _tmp_std = list()\n",
    "            for step in range(_n_hist, _n_samples) :\n",
    "                data1,avg1,std1 = dist_euclidean(data=data[i],answer=answer,std=std,\n",
    "                                      robot=_robot,step=step)\n",
    "                _tmp_avg.append(avg1)\n",
    " #               _tmp_std.append(std1)\n",
    "            _tmp_avgs.append(_tmp_avg)\n",
    " #           _tmp_stds.append(_tmp_std)\n",
    "        _avgs.append(_tmp_avgs)\n",
    " #       _stds.append(_tmp_stds)\n",
    " #  return _stds,_avgs\n",
    "    return np.array(_avgs)"
   ]
  },
  {
   "cell_type": "code",
   "execution_count": 5,
   "metadata": {},
   "outputs": [],
   "source": [
    "def find_average(data = '',_n_hist = 10,_n_samples=26,type = 0,_n_robot = 5,delete_list=[100,100]) :\n",
    "    ## data[i][j][k] -> i : Model // j -> Robots(H,F1,F2,F3,F4) // k -> steps\n",
    "    result = list()\n",
    "    _avgs = list()\n",
    "    _stds = list()\n",
    "    _data = list()\n",
    "    for i in range(len(data)) :\n",
    "        if i != delete_list[0] and i != delete_list[1] :\n",
    "            _data.append(data[i])\n",
    "    _data = np.array(_data)\n",
    "    \n",
    "    if type == 1 :\n",
    "        for i in range(0,_n_robot) :\n",
    "            _tmp_avgs = list()\n",
    "            _tmp_stds = list()\n",
    "            for j in range(0,_n_samples-_n_hist) :                \n",
    "                _tmp_avgs.append(np.average(_data[:,i,j])/3)\n",
    "                _tmp_stds.append(np.std(_data[:,i,j])/3)\n",
    "        #            print(np.sum(data[:,i,j]))\n",
    "    #            print(np.average(data[:,i,j]))\n",
    "    #            _tmp_result.append(_sum/(3*len(data)))\n",
    "            _avgs.append(_tmp_avgs)\n",
    "            _stds.append(_tmp_stds)\n",
    "    elif type == 2 :\n",
    "        for i in range(0,len(data)) :\n",
    "            _tmp_avgs = list()\n",
    "            _tmp_stds = list()\n",
    "            for j in range(0,_n_robot) :\n",
    "                _tmp_avgs.append(np.average(data[i,j,:_n_samples-_n_hist-5])/3)\n",
    "                _tmp_stds.append(np.std(data[i,j,:_n_samples-_n_hist-5])/3)                \n",
    "            _avgs.append(_tmp_avgs)\n",
    "            _stds.append(_tmp_stds)\n",
    "    return np.array(_avgs),np.array(_stds)"
   ]
  },
  {
   "cell_type": "code",
   "execution_count": 6,
   "metadata": {},
   "outputs": [],
   "source": [
    "def average_error(avg = '',length = 9) :\n",
    "    _avgs = list()\n",
    "    _stds = list()\n",
    "    _total_avg = 0\n",
    "    _total_n = 0\n",
    "    for i in range(len(avg)) :\n",
    "        _n = length+i\n",
    "        _total_n += _n\n",
    "        _avgs.append(np.average(avg[i,:_n]))\n",
    "        _stds.append(np.std(avg[i,:_n]))\n",
    "        _total_avg += np.sum(avg[i,:_n])\n",
    "    _total_avg /= _total_n\n",
    "    return _avgs,_stds,_total_avg\n"
   ]
  },
  {
   "cell_type": "code",
   "execution_count": 7,
   "metadata": {},
   "outputs": [],
   "source": [
    "def temp_method(data='') :\n",
    "    _tmp = list()\n",
    "    for i in range(len(data)) :\n",
    "        _tmp.append(np.average(data[i]))\n",
    "    _tmp = np.array(_tmp)\n",
    "#    print('max : {} / min :{}'.format(np.argmax(_tmp),np.argmin(_tmp)))\n",
    "    _data = list()\n",
    "    for i in range(len(data)) :\n",
    "        if np.argmax(_tmp) != i and np.argmin(_tmp) != i :\n",
    "            _data.append(data[i])\n",
    "    \n",
    "    return np.array(_data),[np.argmax(_tmp),np.argmin(_tmp)]"
   ]
  },
  {
   "cell_type": "markdown",
   "metadata": {},
   "source": [
    "## Model\n",
    "* m1 : 1 cue\n",
    "* m2 : 2 cue\n",
    "* m2_2 : 2 cue + sametime\n",
    "* m3 : 3 cue\n",
    "* m3_2 : 3 cue + nearestonly\n",
    "* m3_3 : 3 cue + sametime"
   ]
  },
  {
   "cell_type": "code",
   "execution_count": 8,
   "metadata": {},
   "outputs": [],
   "source": [
    "data_m1 = load_data(_n=1,_n_file=10)\n",
    "data_m2 = load_data(_n=2,_n_file=10)\n",
    "#data_m2_2 = load_data(_n='',name='Predict_Modified_M2_sametime')\n",
    "data_m3 = load_data(_n=3,_n_file=10)\n",
    "data_m3_2 = load_data(_n='',name='Predict_Modified_M3_nearestonly',_n_file=10)\n",
    "data_m3_3 = load_data(_n='',name='Predict_Modified_M3_sametime',_n_file=10)"
   ]
  },
  {
   "cell_type": "code",
   "execution_count": 9,
   "metadata": {},
   "outputs": [],
   "source": [
    "result_m1 = cal_result(data=data_m1,answer = answer_m1,std=std[0],_n_hist = _n_hist,_n_samples=_n_samples)\n",
    "result_m2 = cal_result(data=data_m2,answer = answer_m2,std=std[1],_n_hist = _n_hist,_n_samples=_n_samples)\n",
    "#result_m2_2 = cal_result(data=data_m2_2,answer = answer_m2,std=std[1],_n_hist = _n_hist,_n_samples=_n_samples)\n",
    "result_m3 = cal_result(data=data_m3,answer = answer_m3,std=std[2],_n_hist = _n_hist,_n_samples=_n_samples)\n",
    "result_m3_2 = cal_result(data=data_m3_2,answer =answer_m3,std=std[2],_n_hist = _n_hist,_n_samples=_n_samples)\n",
    "result_m3_3 = cal_result(data=data_m3_3,answer = answer_m3,std=std[2],_n_hist = _n_hist,_n_samples=_n_samples)\n"
   ]
  },
  {
   "cell_type": "code",
   "execution_count": 10,
   "metadata": {},
   "outputs": [],
   "source": [
    "### Model들 전체 평균 -> H, F1, F2, F3, F4로 : type = 1\n",
    "avg_m1 ,std_m1= find_average(type = 2, data=result_m1,_n_hist = _n_hist,_n_samples=_n_samples)\n",
    "avg_m2 ,std_m2= find_average(type = 2,data=result_m2,_n_hist = _n_hist,_n_samples=_n_samples)\n",
    "#avg_m2_2 ,std_m2_2= find_average(type = 2,data=result_m2_2,_n_hist = _n_hist,_n_samples=_n_samples)\n",
    "avg_m3 ,std_m3= find_average(type = 2, data=result_m3,_n_hist = _n_hist,_n_samples=_n_samples)\n",
    "avg_m3_2 ,std_m3_2= find_average(type = 2, data=result_m3_2,_n_hist = _n_hist,_n_samples=_n_samples)\n",
    "avg_m3_3 ,std_m3_3= find_average(type = 2, data=result_m3_3,_n_hist = _n_hist,_n_samples=_n_samples)"
   ]
  },
  {
   "cell_type": "code",
   "execution_count": 11,
   "metadata": {},
   "outputs": [],
   "source": [
    "avg_m1_t,delete_list_m1 = temp_method(avg_m1)\n",
    "avg_m2_t,delete_list_m2 = temp_method(avg_m2)\n",
    "avg_m3_t,delete_list_m3 = temp_method(avg_m3)\n",
    "avg_m3_2_t,delete_list_m3_2 = temp_method(avg_m3_2)\n",
    "avg_m3_3_t,delete_list_m3_3 = temp_method(avg_m3_3)"
   ]
  },
  {
   "cell_type": "code",
   "execution_count": 12,
   "metadata": {},
   "outputs": [],
   "source": [
    "avg_err_m1,std_err_m1, error_m1 = average_error(avg = avg_m1,length = 11) \n",
    "avg_err_m2,std_err_m2, error_m2 = average_error(avg = avg_m2,length = 11) \n",
    "#avg_err_m2_2,std_err_m2_2, error_m2_2 = average_error(avg = avg_m2_2,length = 11) \n",
    "avg_err_m3,std_err_m3, error_m3 = average_error(avg = avg_m3,length = 11) \n",
    "avg_err_m3_2,std_err_m3_2, error_m3_2 = average_error(avg = avg_m3_2,length = 11) \n",
    "avg_err_m3_3,std_err_m3_3, error_m3_3 = average_error(avg = avg_m3_3,length = 11) "
   ]
  },
  {
   "cell_type": "code",
   "execution_count": 13,
   "metadata": {},
   "outputs": [],
   "source": [
    "### Model들 전체 평균 -> H, F1, F2, F3, F4로 : type = 1\n",
    "avg_m1_timestep ,std_m1_timestep= find_average(type = 1, data=result_m1,_n_hist = _n_hist,_n_samples=_n_samples,\n",
    "                                               delete_list=delete_list_m1)\n",
    "avg_m2_timestep ,std_m2_timestep= find_average(type = 1,data=result_m2,_n_hist = _n_hist,_n_samples=_n_samples,\n",
    "                                              delete_list=delete_list_m2)\n",
    "#avg_m2_2_timestep ,std_m2_2_timestep= find_average(type = 1,data=result_m2_2,_n_hist = _n_hist,_n_samples=_n_samples)\n",
    "avg_m3_timestep ,std_m3_timestep= find_average(type = 1, data=result_m3,_n_hist = _n_hist,_n_samples=_n_samples,\n",
    "                                              delete_list=delete_list_m3)\n",
    "avg_m3_2_timestep ,std_m3_2_timestep= find_average(type = 1, data=result_m3_2,_n_hist = _n_hist,_n_samples=_n_samples,\n",
    "                                                  delete_list=delete_list_m3_2)\n",
    "avg_m3_3_timestep ,std_m3_3_timestep= find_average(type = 1, data=result_m3_3,_n_hist = _n_hist,_n_samples=_n_samples,\n",
    "                                                  delete_list=delete_list_m3_3)"
   ]
  },
  {
   "cell_type": "markdown",
   "metadata": {},
   "source": [
    "# Comparison 1"
   ]
  },
  {
   "cell_type": "markdown",
   "metadata": {},
   "source": [
    "## P-value"
   ]
  },
  {
   "cell_type": "code",
   "execution_count": 14,
   "metadata": {},
   "outputs": [
    {
     "name": "stdout",
     "output_type": "stream",
     "text": [
      "3 prediction\n",
      "         M1       M2       M3\n",
      "M1  1.00000  0.56006  0.00004\n",
      "M2  0.56006  1.00000  0.00015\n",
      "M3  0.00004  0.00015  1.00000\n",
      "----\n",
      "2 prediction\n",
      "         M1       M2       M3\n",
      "M1  1.00000  0.46289  0.00026\n",
      "M2  0.46289  1.00000  0.00605\n",
      "M3  0.00026  0.00605  1.00000\n",
      "----\n",
      "1 prediction\n",
      "         M1       M2   M3\n",
      "M1  1.00000  0.01347  0.0\n",
      "M2  0.01347  1.00000  0.0\n",
      "M3  0.00000  0.00000  1.0\n",
      "----\n"
     ]
    }
   ],
   "source": [
    "# _n = 로봇 (0 : H, 1 : F1 , 2 : F2, 3: F3, 4 : F4)\n",
    "#_n = 0\n",
    "\n",
    "# _n = pred 로봇 (0 : 3rd Pred, 1 : 2nd Pred , 2 : 1st pred)\n",
    "_set = [3,2,1]\n",
    "for _n in range(0,3) :\n",
    "\n",
    "    #Model_list = [avg_m1_t[:,_n:_n+1],avg_m2_t[:,_n:_n+1],avg_m3_t[:,_n:_n+1]]\n",
    "    Model_list = [avg_m1_t[:,_n+2:_n+3],avg_m2_t[:,_n+1:_n+2],avg_m3_t[:,_n:_n+1]]\n",
    "\n",
    "    result = np.array(np.zeros((3,3)))\n",
    "    for i in range(0,3) :\n",
    "        for j in range(i,3) :\n",
    "            _result = stats.ttest_ind(Model_list[i],Model_list[j])\n",
    "            result[i][j] = \"%.5f\"%(_result[1])\n",
    "            result[j][i] = \"%.5f\"%(_result[1])\n",
    "\n",
    "    result = pd.DataFrame(result, columns = ['M1','M2','M3'],index=['M1','M2','M3'])\n",
    "    print('{} prediction'.format(_set[_n]))\n",
    "    print(result)\n",
    "    print('----')"
   ]
  },
  {
   "cell_type": "code",
   "execution_count": 28,
   "metadata": {},
   "outputs": [
    {
     "name": "stdout",
     "output_type": "stream",
     "text": [
      "H prediction\n",
      "         M1       M2       M3\n",
      "M1  1.00000  0.00430  0.00003\n",
      "M2  0.00430  1.00000  0.01889\n",
      "M3  0.00003  0.01889  1.00000\n",
      "----\n",
      "F1 prediction\n",
      "         M1       M2       M3\n",
      "M1  1.00000  0.00008  0.00000\n",
      "M2  0.00008  1.00000  0.00072\n",
      "M3  0.00000  0.00072  1.00000\n",
      "----\n",
      "F2 prediction\n",
      "         M1       M2       M3\n",
      "M1  1.00000  0.00002  0.00000\n",
      "M2  0.00002  1.00000  0.00002\n",
      "M3  0.00000  0.00002  1.00000\n",
      "----\n"
     ]
    }
   ],
   "source": [
    "# _n = 로봇 (0 : H, 1 : F1 , 2 : F2, 3: F3, 4 : F4)\n",
    "#_n = 0\n",
    "_set = ['H','F1','F2']\n",
    "for _n in range(0,3) :\n",
    "\n",
    "    #Model_list = [avg_m1_t[:,_n:_n+1],avg_m2_t[:,_n:_n+1],avg_m3_t[:,_n:_n+1]]\n",
    "    Model_list = [avg_m1_t[:,_n:_n+1],avg_m2_t[:,_n:_n+1],avg_m3_t[:,_n:_n+1]]\n",
    "\n",
    "    result = np.array(np.zeros((3,3)))\n",
    "    for i in range(0,3) :\n",
    "        for j in range(i,3) :\n",
    "            _result = stats.ttest_ind(Model_list[i],Model_list[j])\n",
    "            result[i][j] = \"%.5f\"%(_result[1])\n",
    "            result[j][i] = \"%.5f\"%(_result[1])\n",
    "\n",
    "    result = pd.DataFrame(result, columns = ['M1','M2','M3'],index=['M1','M2','M3'])\n",
    "    print('{} prediction'.format(_set[_n]))\n",
    "    print(result)\n",
    "    print('----')"
   ]
  },
  {
   "cell_type": "code",
   "execution_count": 123,
   "metadata": {},
   "outputs": [
    {
     "name": "stdout",
     "output_type": "stream",
     "text": [
      "A vs B : t검정 통계량: -2.437, pvalue=0.041\n",
      "A vs C : t검정 통계량: -3.975, pvalue=0.004\n",
      "B vs C : t검정 통계량: -1.389, pvalue=0.202\n"
     ]
    }
   ],
   "source": [
    "# _n = pred 로봇 (0 : 3rd Pred, 1 : 2nd Pred , 2 : 1st pred)\n",
    "_n = 1\n",
    "A = avg_m1_t[:,_n+2:_n+3]\n",
    "B = avg_m2_t[:,_n+1:_n+2]\n",
    "C = avg_m3_t[:,_n:_n+1]\n",
    "result = stats.ttest_ind(A,B)\n",
    "print(\"A vs B : t검정 통계량: %.3f, pvalue=%.3f\"%(result))\n",
    "result = stats.ttest_ind(A,C)\n",
    "print(\"A vs C : t검정 통계량: %.3f, pvalue=%.3f\"%(result))\n",
    "result = stats.ttest_ind(B,C)\n",
    "print(\"B vs C : t검정 통계량: %.3f, pvalue=%.3f\"%(result))"
   ]
  },
  {
   "cell_type": "code",
   "execution_count": 124,
   "metadata": {},
   "outputs": [
    {
     "name": "stdout",
     "output_type": "stream",
     "text": [
      "A vs B : t검정 통계량: 3.939, pvalue=0.004\n",
      "A vs C : t검정 통계량: 8.462, pvalue=0.000\n",
      "B vs C : t검정 통계량: 2.934, pvalue=0.019\n"
     ]
    }
   ],
   "source": [
    "# _n = 로봇 (0 : H, 1 : F1 , 2 : F2)\n",
    "_n = 0\n",
    "A = avg_m1_t[:,_n:_n+1]\n",
    "B = avg_m2_t[:,_n:_n+1]\n",
    "C = avg_m3_t[:,_n:_n+1]\n",
    "result = stats.ttest_ind(A,B)\n",
    "print(\"A vs B : t검정 통계량: %.3f, pvalue=%.3f\"%(result))\n",
    "result = stats.ttest_ind(A,C)\n",
    "print(\"A vs C : t검정 통계량: %.3f, pvalue=%.3f\"%(result))\n",
    "result = stats.ttest_ind(B,C)\n",
    "print(\"B vs C : t검정 통계량: %.3f, pvalue=%.3f\"%(result))"
   ]
  },
  {
   "cell_type": "markdown",
   "metadata": {},
   "source": [
    "# Slope\n"
   ]
  },
  {
   "cell_type": "code",
   "execution_count": 125,
   "metadata": {},
   "outputs": [
    {
     "name": "stdout",
     "output_type": "stream",
     "text": [
      "H\n",
      "M1 = 0 : 1.9448128853355113  // 8 : 22.990734775983142 // dist = 21.04592189064763, slope = 2.3384357656275143\n",
      "M2 = 0 : 2.7908293376550137  // 8 : 20.718416554958544 // dist = 17.927587217303532, slope = 1.991954135255948\n",
      "M3 = 0 : 3.2124299939864596  // 8 : 18.625493829306645 // dist = 15.413063835320186, slope = 1.7125626483689096\n",
      "------------\n",
      "F1\n",
      "M1 = 0 : 1.8592068143141567  // 9 : 22.889345350682778 // dist = 21.03013853636862, slope = 2.1030138536368623\n",
      "M2 = 0 : 2.508217777530648  // 9 : 19.105891687476074 // dist = 16.597673909945428, slope = 1.6597673909945427\n",
      "M3 = 0 : 2.8120658689783173  // 9 : 15.859991082277448 // dist = 13.04792521329913, slope = 1.304792521329913\n",
      "------------\n",
      "F2\n",
      "M1 = 0 : 1.7978296055810896  // 10 : 20.584044520483577 // dist = 18.786214914902487, slope = 1.7078377195365897\n",
      "M2 = 0 : 2.5683560820601192  // 10 : 16.61521535416907 // dist = 14.04685927210895, slope = 1.2769872065553591\n",
      "M3 = 0 : 2.835819510301006  // 10 : 12.190354578272666 // dist = 9.35453506797166, slope = 0.8504122789065146\n",
      "------------\n"
     ]
    }
   ],
   "source": [
    "_n_steps = 8\n",
    "_t_robot = ['H','F1','F2']\n",
    "for i in range(0,3) :\n",
    "    print(_t_robot[i])\n",
    "    print('M1 = 0 : {}  // {} : {} // dist = {}, slope = {}'.format(avg_m1_timestep[i][0],\n",
    "                                                                    _n_steps+i,\n",
    "                                                                    avg_m1_timestep[i][_n_steps+i],\n",
    "                                                                    avg_m1_timestep[i][_n_steps+i]-avg_m1_timestep[i][0],\n",
    "                                                                    (avg_m1_timestep[i][_n_steps+i]-avg_m1_timestep[i][0])/(_n_steps+i+1)))\n",
    "    print('M2 = 0 : {}  // {} : {} // dist = {}, slope = {}'.format(avg_m2_timestep[i][0],\n",
    "                                                                _n_steps+i,\n",
    "                                                                avg_m2_timestep[i][_n_steps+i],\n",
    "                                                                avg_m2_timestep[i][_n_steps+i]-avg_m2_timestep[i][0],\n",
    "                                                                (avg_m2_timestep[i][_n_steps+i]-avg_m2_timestep[i][0])/(_n_steps+i+1)))\n",
    "    print('M3 = 0 : {}  // {} : {} // dist = {}, slope = {}'.format(avg_m3_timestep[i][0],\n",
    "                                                            _n_steps+i,\n",
    "                                                            avg_m3_timestep[i][_n_steps+i],\n",
    "                                                            avg_m3_timestep[i][_n_steps+i]-avg_m3_timestep[i][0],\n",
    "                                                            (avg_m3_timestep[i][_n_steps+i]-avg_m3_timestep[i][0])/(_n_steps+i+1)))\n",
    "    print('------------')"
   ]
  },
  {
   "cell_type": "markdown",
   "metadata": {},
   "source": [
    "# Bar"
   ]
  },
  {
   "cell_type": "code",
   "execution_count": 14,
   "metadata": {},
   "outputs": [],
   "source": [
    "Avg_Compare = list()\n",
    "Std_Compare = list()\n",
    "for i in range(2,-1,-1) :\n",
    "#    Avg_Compare.append([np.average(avg_m1[:,4-i:5-i]),np.average(avg_m2[:,3-i:4-i]),np.average(avg_m3[:,2-i:3-i])])\n",
    "#    Std_Compare.append([np.std(avg_m1[:,4-i:5-i]),np.std(avg_m2[:,3-i:4-i]),np.std(avg_m3[:,2-i:3-i])])\n",
    "    Avg_Compare.append([np.average(avg_m1_t[:,i:i+1]),np.average(avg_m2_t[:,i:i+1]),np.average(avg_m3_t[:,i:i+1])])\n",
    "    Std_Compare.append([np.std(avg_m1_t[:,i:i+1]),np.std(avg_m2_t[:,i:i+1]),np.std(avg_m3_t[:,i:i+1])])"
   ]
  },
  {
   "cell_type": "code",
   "execution_count": 15,
   "metadata": {},
   "outputs": [
    {
     "data": {
      "text/plain": [
       "Text(0.5, 0, 'Target Robot')"
      ]
     },
     "execution_count": 15,
     "metadata": {},
     "output_type": "execute_result"
    },
    {
     "data": {
      "image/png": "[encoded data removed]",
      "text/plain": [
       "<Figure size 576x288 with 1 Axes>"
      ]
     },
     "metadata": {
      "needs_background": "light"
     },
     "output_type": "display_data"
    }
   ],
   "source": [
    "#_x = pd.DataFrame(Avg_Compare,columns = ['M1','M2','M3'],index =['P1','P2','P3'])\n",
    "#_x_std = pd.DataFrame(Std_Compare,columns = ['M1','M2','M3'],index =['P1','P2','P3'])\n",
    "_x = pd.DataFrame(Avg_Compare,columns = ['M1','M2','M3'],index =['F4','F5','H'])\n",
    "_x_std = pd.DataFrame(Std_Compare,columns = ['M1','M2','M3'],index =['F4','F5','H'])\n",
    "\n",
    "ax1 = _x.plot(kind='bar',yerr=_x_std,capsize=4, rot=0,width=0.8, ylim=(6,20),figsize=(8,4))\n",
    "ax1.set_ylabel('Average Error Distance (cm)')\n",
    "ax1.set_xlabel('Target Robot')\n"
   ]
  },
  {
   "cell_type": "code",
   "execution_count": 16,
   "metadata": {},
   "outputs": [
    {
     "name": "stdout",
     "output_type": "stream",
     "text": [
      "           M1         M2         M3\n",
      "F4  11.079715   8.956960   7.335915\n",
      "F5  13.413301  10.902846   9.868515\n",
      "H   14.898473  13.052844  12.926158\n"
     ]
    }
   ],
   "source": [
    "print(_x)"
   ]
  },
  {
   "cell_type": "code",
   "execution_count": 18,
   "metadata": {},
   "outputs": [],
   "source": [
    "a = [11.138201, 9.306729, 7.301042]\n",
    "b = [1.93, 2.15, 2.64]\n",
    "for i in range(3,6) :\n",
    "    Avg_Compare.append([a[0]+b[0]*i,a[1]+b[1]*i,a[2]+b[2]*i])"
   ]
  },
  {
   "cell_type": "code",
   "execution_count": 19,
   "metadata": {},
   "outputs": [
    {
     "data": {
      "text/plain": [
       "Text(0.5, 0, 'Robot(Remote from T)')"
      ]
     },
     "execution_count": 19,
     "metadata": {},
     "output_type": "execute_result"
    },
    {
     "data": {
      "image/png": "[encoded data removed]",
      "text/plain": [
       "<Figure size 720x144 with 1 Axes>"
      ]
     },
     "metadata": {
      "needs_background": "light"
     },
     "output_type": "display_data"
    }
   ],
   "source": [
    "_x = pd.DataFrame(Avg_Compare,columns = ['M1','M2','M3'],index =['F4(4th)','F5(5th)','H(6th)','7th','8th','9th'])\n",
    "\n",
    "ax1 = _x.plot(kind='bar', rot=0,width=0.8, ylim=(3,24),figsize=(10,2))\n",
    "ax1.set_ylabel('Average Error Distance (cm)')\n",
    "ax1.set_xlabel('Robot(Remote from T)')\n"
   ]
  },
  {
   "cell_type": "code",
   "execution_count": 53,
   "metadata": {},
   "outputs": [
    {
     "name": "stdout",
     "output_type": "stream",
     "text": [
      "                M1         M2         M3\n",
      "F2(4th)  11.138201   9.306729   7.301042\n",
      "F1(5th)  13.512781  11.366787   9.683678\n",
      "H(6th)   14.997858  13.605302  12.598175\n",
      "7th      16.928201  15.756729  15.221042\n",
      "8th      18.858201  17.906729  17.861042\n",
      "9th      20.788201  20.056729  20.501042\n"
     ]
    }
   ],
   "source": [
    "print(_x)"
   ]
  },
  {
   "cell_type": "code",
   "execution_count": 15,
   "metadata": {},
   "outputs": [],
   "source": [
    "Avg_Compare = list()\n",
    "Std_Compare = list()\n",
    "for i in range(2,0,-1) :\n",
    "#    Avg_Compare.append([np.average(avg_m1[:,4-i:5-i]),np.average(avg_m2[:,3-i:4-i]),np.average(avg_m3[:,2-i:3-i])])\n",
    "#    Std_Compare.append([np.std(avg_m1[:,4-i:5-i]),np.std(avg_m2[:,3-i:4-i]),np.std(avg_m3[:,2-i:3-i])])\n",
    "    Avg_Compare.append([np.average(avg_m1_t[:,i+2:i+3]),np.average(avg_m2_t[:,i+1:i+2]),np.average(avg_m3_t[:,i:i+1])])\n",
    "    Std_Compare.append([np.std(avg_m1_t[:,i+2:i+3]),np.std(avg_m2_t[:,i+1:i+2]),np.std(avg_m3_t[:,i:i+1])])"
   ]
  },
  {
   "cell_type": "code",
   "execution_count": 17,
   "metadata": {
    "scrolled": true
   },
   "outputs": [
    {
     "data": {
      "text/plain": [
       "Text(0, 0.5, 'Average Error Distance (cm)')"
      ]
     },
     "execution_count": 17,
     "metadata": {},
     "output_type": "execute_result"
    },
    {
     "data": {
      "image/png": "[encoded data removed]",
      "text/plain": [
       "<Figure size 576x288 with 1 Axes>"
      ]
     },
     "metadata": {
      "needs_background": "light"
     },
     "output_type": "display_data"
    }
   ],
   "source": [
    "#_x = pd.DataFrame(Avg_Compare,columns = ['M1','M2','M3'],index =['P1','P2','P3'])\n",
    "#_x_std = pd.DataFrame(Std_Compare,columns = ['M1','M2','M3'],index =['P1','P2','P3'])\n",
    "_x = pd.DataFrame(Avg_Compare,columns = ['M1','M2','M3'],index =['P1(# of Relay=0)','P2(# of Relay=1)'])\n",
    "_x_std = pd.DataFrame(Std_Compare,columns = ['M1','M2','M3'],index =['P1(# of Relay=0)','P2(# of Relay=1)'])\n",
    "\n",
    "ax1 = _x.plot(kind='bar',yerr=_x_std,capsize=2, rot=0,width=0.8, ylim=(5,11),figsize=(8,4))\n",
    "ax1.set_ylabel('Average Error Distance (cm)')\n"
   ]
  },
  {
   "cell_type": "code",
   "execution_count": 19,
   "metadata": {},
   "outputs": [
    {
     "name": "stdout",
     "output_type": "stream",
     "text": [
      "                          M1        M2        M3\n",
      "1st(# of Relay=0)   5.903098  6.194259  7.335915\n",
      "2nd (# of Relay=1)  8.782072  8.956960  9.868515\n"
     ]
    }
   ],
   "source": [
    "print(_x)"
   ]
  },
  {
   "cell_type": "markdown",
   "metadata": {},
   "source": [
    "# Graph"
   ]
  },
  {
   "cell_type": "markdown",
   "metadata": {},
   "source": [
    "## Robots"
   ]
  },
  {
   "cell_type": "code",
   "execution_count": 29,
   "metadata": {},
   "outputs": [
    {
     "ename": "ValueError",
     "evalue": "shape mismatch: objects cannot be broadcast to a single shape",
     "output_type": "error",
     "traceback": [
      "\u001b[1;31m---------------------------------------------------------------------------\u001b[0m",
      "\u001b[1;31mValueError\u001b[0m                                Traceback (most recent call last)",
      "\u001b[1;32m<ipython-input-29-a0695edc990b>\u001b[0m in \u001b[0;36m<module>\u001b[1;34m\u001b[0m\n\u001b[0;32m     11\u001b[0m \u001b[1;33m\u001b[0m\u001b[0m\n\u001b[0;32m     12\u001b[0m ax1 = plt.errorbar(x[:length-_minus+_num],avg_m1_timestep[_num,:length-_minus+_num-2],std_m1_timestep[_num,:length-_minus+_num-2],\n\u001b[1;32m---> 13\u001b[1;33m                 fmt=\"o-\",capsize=3,label = 'H(M1)')\n\u001b[0m\u001b[0;32m     14\u001b[0m ax1 = plt.errorbar(x[:length-_minus+_num],avg_m2_timestep[_num,:length-_minus+_num-2],std_m2_timestep[_num,:length-_minus+_num-2],\n\u001b[0;32m     15\u001b[0m                 fmt=\"o-\",capsize=3,label = 'H(M2)')\n",
      "\u001b[1;32mc:\\users\\sehyeok\\appdata\\local\\programs\\python\\python36\\lib\\site-packages\\matplotlib\\pyplot.py\u001b[0m in \u001b[0;36merrorbar\u001b[1;34m(x, y, yerr, xerr, fmt, ecolor, elinewidth, capsize, barsabove, lolims, uplims, xlolims, xuplims, errorevery, capthick, data, **kwargs)\u001b[0m\n\u001b[0;32m   2552\u001b[0m         \u001b[0mlolims\u001b[0m\u001b[1;33m=\u001b[0m\u001b[0mlolims\u001b[0m\u001b[1;33m,\u001b[0m \u001b[0muplims\u001b[0m\u001b[1;33m=\u001b[0m\u001b[0muplims\u001b[0m\u001b[1;33m,\u001b[0m \u001b[0mxlolims\u001b[0m\u001b[1;33m=\u001b[0m\u001b[0mxlolims\u001b[0m\u001b[1;33m,\u001b[0m\u001b[1;33m\u001b[0m\u001b[1;33m\u001b[0m\u001b[0m\n\u001b[0;32m   2553\u001b[0m         \u001b[0mxuplims\u001b[0m\u001b[1;33m=\u001b[0m\u001b[0mxuplims\u001b[0m\u001b[1;33m,\u001b[0m \u001b[0merrorevery\u001b[0m\u001b[1;33m=\u001b[0m\u001b[0merrorevery\u001b[0m\u001b[1;33m,\u001b[0m \u001b[0mcapthick\u001b[0m\u001b[1;33m=\u001b[0m\u001b[0mcapthick\u001b[0m\u001b[1;33m,\u001b[0m\u001b[1;33m\u001b[0m\u001b[1;33m\u001b[0m\u001b[0m\n\u001b[1;32m-> 2554\u001b[1;33m         **({\"data\": data} if data is not None else {}), **kwargs)\n\u001b[0m\u001b[0;32m   2555\u001b[0m \u001b[1;33m\u001b[0m\u001b[0m\n\u001b[0;32m   2556\u001b[0m \u001b[1;33m\u001b[0m\u001b[0m\n",
      "\u001b[1;32mc:\\users\\sehyeok\\appdata\\local\\programs\\python\\python36\\lib\\site-packages\\matplotlib\\__init__.py\u001b[0m in \u001b[0;36minner\u001b[1;34m(ax, data, *args, **kwargs)\u001b[0m\n\u001b[0;32m   1587\u001b[0m     \u001b[1;32mdef\u001b[0m \u001b[0minner\u001b[0m\u001b[1;33m(\u001b[0m\u001b[0max\u001b[0m\u001b[1;33m,\u001b[0m \u001b[1;33m*\u001b[0m\u001b[0margs\u001b[0m\u001b[1;33m,\u001b[0m \u001b[0mdata\u001b[0m\u001b[1;33m=\u001b[0m\u001b[1;32mNone\u001b[0m\u001b[1;33m,\u001b[0m \u001b[1;33m**\u001b[0m\u001b[0mkwargs\u001b[0m\u001b[1;33m)\u001b[0m\u001b[1;33m:\u001b[0m\u001b[1;33m\u001b[0m\u001b[1;33m\u001b[0m\u001b[0m\n\u001b[0;32m   1588\u001b[0m         \u001b[1;32mif\u001b[0m \u001b[0mdata\u001b[0m \u001b[1;32mis\u001b[0m \u001b[1;32mNone\u001b[0m\u001b[1;33m:\u001b[0m\u001b[1;33m\u001b[0m\u001b[1;33m\u001b[0m\u001b[0m\n\u001b[1;32m-> 1589\u001b[1;33m             \u001b[1;32mreturn\u001b[0m \u001b[0mfunc\u001b[0m\u001b[1;33m(\u001b[0m\u001b[0max\u001b[0m\u001b[1;33m,\u001b[0m \u001b[1;33m*\u001b[0m\u001b[0mmap\u001b[0m\u001b[1;33m(\u001b[0m\u001b[0msanitize_sequence\u001b[0m\u001b[1;33m,\u001b[0m \u001b[0margs\u001b[0m\u001b[1;33m)\u001b[0m\u001b[1;33m,\u001b[0m \u001b[1;33m**\u001b[0m\u001b[0mkwargs\u001b[0m\u001b[1;33m)\u001b[0m\u001b[1;33m\u001b[0m\u001b[1;33m\u001b[0m\u001b[0m\n\u001b[0m\u001b[0;32m   1590\u001b[0m \u001b[1;33m\u001b[0m\u001b[0m\n\u001b[0;32m   1591\u001b[0m         \u001b[0mbound\u001b[0m \u001b[1;33m=\u001b[0m \u001b[0mnew_sig\u001b[0m\u001b[1;33m.\u001b[0m\u001b[0mbind\u001b[0m\u001b[1;33m(\u001b[0m\u001b[0max\u001b[0m\u001b[1;33m,\u001b[0m \u001b[1;33m*\u001b[0m\u001b[0margs\u001b[0m\u001b[1;33m,\u001b[0m \u001b[1;33m**\u001b[0m\u001b[0mkwargs\u001b[0m\u001b[1;33m)\u001b[0m\u001b[1;33m\u001b[0m\u001b[1;33m\u001b[0m\u001b[0m\n",
      "\u001b[1;32mc:\\users\\sehyeok\\appdata\\local\\programs\\python\\python36\\lib\\site-packages\\matplotlib\\axes\\_axes.py\u001b[0m in \u001b[0;36merrorbar\u001b[1;34m(self, x, y, yerr, xerr, fmt, ecolor, elinewidth, capsize, barsabove, lolims, uplims, xlolims, xuplims, errorevery, capthick, **kwargs)\u001b[0m\n\u001b[0;32m   3312\u001b[0m         \u001b[1;32mif\u001b[0m \u001b[0mplot_line\u001b[0m\u001b[1;33m:\u001b[0m\u001b[1;33m\u001b[0m\u001b[1;33m\u001b[0m\u001b[0m\n\u001b[0;32m   3313\u001b[0m             \u001b[0mdata_line\u001b[0m \u001b[1;33m=\u001b[0m \u001b[0mmlines\u001b[0m\u001b[1;33m.\u001b[0m\u001b[0mLine2D\u001b[0m\u001b[1;33m(\u001b[0m\u001b[0mx\u001b[0m\u001b[1;33m,\u001b[0m \u001b[0my\u001b[0m\u001b[1;33m,\u001b[0m \u001b[1;33m**\u001b[0m\u001b[0mplot_line_style\u001b[0m\u001b[1;33m)\u001b[0m\u001b[1;33m\u001b[0m\u001b[1;33m\u001b[0m\u001b[0m\n\u001b[1;32m-> 3314\u001b[1;33m             \u001b[0mself\u001b[0m\u001b[1;33m.\u001b[0m\u001b[0madd_line\u001b[0m\u001b[1;33m(\u001b[0m\u001b[0mdata_line\u001b[0m\u001b[1;33m)\u001b[0m\u001b[1;33m\u001b[0m\u001b[1;33m\u001b[0m\u001b[0m\n\u001b[0m\u001b[0;32m   3315\u001b[0m \u001b[1;33m\u001b[0m\u001b[0m\n\u001b[0;32m   3316\u001b[0m         \u001b[0mbarcols\u001b[0m \u001b[1;33m=\u001b[0m \u001b[1;33m[\u001b[0m\u001b[1;33m]\u001b[0m\u001b[1;33m\u001b[0m\u001b[1;33m\u001b[0m\u001b[0m\n",
      "\u001b[1;32mc:\\users\\sehyeok\\appdata\\local\\programs\\python\\python36\\lib\\site-packages\\matplotlib\\axes\\_base.py\u001b[0m in \u001b[0;36madd_line\u001b[1;34m(self, line)\u001b[0m\n\u001b[0;32m   1898\u001b[0m             \u001b[0mline\u001b[0m\u001b[1;33m.\u001b[0m\u001b[0mset_clip_path\u001b[0m\u001b[1;33m(\u001b[0m\u001b[0mself\u001b[0m\u001b[1;33m.\u001b[0m\u001b[0mpatch\u001b[0m\u001b[1;33m)\u001b[0m\u001b[1;33m\u001b[0m\u001b[1;33m\u001b[0m\u001b[0m\n\u001b[0;32m   1899\u001b[0m \u001b[1;33m\u001b[0m\u001b[0m\n\u001b[1;32m-> 1900\u001b[1;33m         \u001b[0mself\u001b[0m\u001b[1;33m.\u001b[0m\u001b[0m_update_line_limits\u001b[0m\u001b[1;33m(\u001b[0m\u001b[0mline\u001b[0m\u001b[1;33m)\u001b[0m\u001b[1;33m\u001b[0m\u001b[1;33m\u001b[0m\u001b[0m\n\u001b[0m\u001b[0;32m   1901\u001b[0m         \u001b[1;32mif\u001b[0m \u001b[1;32mnot\u001b[0m \u001b[0mline\u001b[0m\u001b[1;33m.\u001b[0m\u001b[0mget_label\u001b[0m\u001b[1;33m(\u001b[0m\u001b[1;33m)\u001b[0m\u001b[1;33m:\u001b[0m\u001b[1;33m\u001b[0m\u001b[1;33m\u001b[0m\u001b[0m\n\u001b[0;32m   1902\u001b[0m             \u001b[0mline\u001b[0m\u001b[1;33m.\u001b[0m\u001b[0mset_label\u001b[0m\u001b[1;33m(\u001b[0m\u001b[1;34m'_line%d'\u001b[0m \u001b[1;33m%\u001b[0m \u001b[0mlen\u001b[0m\u001b[1;33m(\u001b[0m\u001b[0mself\u001b[0m\u001b[1;33m.\u001b[0m\u001b[0mlines\u001b[0m\u001b[1;33m)\u001b[0m\u001b[1;33m)\u001b[0m\u001b[1;33m\u001b[0m\u001b[1;33m\u001b[0m\u001b[0m\n",
      "\u001b[1;32mc:\\users\\sehyeok\\appdata\\local\\programs\\python\\python36\\lib\\site-packages\\matplotlib\\axes\\_base.py\u001b[0m in \u001b[0;36m_update_line_limits\u001b[1;34m(self, line)\u001b[0m\n\u001b[0;32m   1920\u001b[0m         \u001b[0mFigures\u001b[0m \u001b[0mout\u001b[0m \u001b[0mthe\u001b[0m \u001b[0mdata\u001b[0m \u001b[0mlimit\u001b[0m \u001b[0mof\u001b[0m \u001b[0mthe\u001b[0m \u001b[0mgiven\u001b[0m \u001b[0mline\u001b[0m\u001b[1;33m,\u001b[0m \u001b[0mupdating\u001b[0m \u001b[0mself\u001b[0m\u001b[1;33m.\u001b[0m\u001b[0mdataLim\u001b[0m\u001b[1;33m.\u001b[0m\u001b[1;33m\u001b[0m\u001b[1;33m\u001b[0m\u001b[0m\n\u001b[0;32m   1921\u001b[0m         \"\"\"\n\u001b[1;32m-> 1922\u001b[1;33m         \u001b[0mpath\u001b[0m \u001b[1;33m=\u001b[0m \u001b[0mline\u001b[0m\u001b[1;33m.\u001b[0m\u001b[0mget_path\u001b[0m\u001b[1;33m(\u001b[0m\u001b[1;33m)\u001b[0m\u001b[1;33m\u001b[0m\u001b[1;33m\u001b[0m\u001b[0m\n\u001b[0m\u001b[0;32m   1923\u001b[0m         \u001b[1;32mif\u001b[0m \u001b[0mpath\u001b[0m\u001b[1;33m.\u001b[0m\u001b[0mvertices\u001b[0m\u001b[1;33m.\u001b[0m\u001b[0msize\u001b[0m \u001b[1;33m==\u001b[0m \u001b[1;36m0\u001b[0m\u001b[1;33m:\u001b[0m\u001b[1;33m\u001b[0m\u001b[1;33m\u001b[0m\u001b[0m\n\u001b[0;32m   1924\u001b[0m             \u001b[1;32mreturn\u001b[0m\u001b[1;33m\u001b[0m\u001b[1;33m\u001b[0m\u001b[0m\n",
      "\u001b[1;32mc:\\users\\sehyeok\\appdata\\local\\programs\\python\\python36\\lib\\site-packages\\matplotlib\\lines.py\u001b[0m in \u001b[0;36mget_path\u001b[1;34m(self)\u001b[0m\n\u001b[0;32m   1025\u001b[0m         \"\"\"\n\u001b[0;32m   1026\u001b[0m         \u001b[1;32mif\u001b[0m \u001b[0mself\u001b[0m\u001b[1;33m.\u001b[0m\u001b[0m_invalidy\u001b[0m \u001b[1;32mor\u001b[0m \u001b[0mself\u001b[0m\u001b[1;33m.\u001b[0m\u001b[0m_invalidx\u001b[0m\u001b[1;33m:\u001b[0m\u001b[1;33m\u001b[0m\u001b[1;33m\u001b[0m\u001b[0m\n\u001b[1;32m-> 1027\u001b[1;33m             \u001b[0mself\u001b[0m\u001b[1;33m.\u001b[0m\u001b[0mrecache\u001b[0m\u001b[1;33m(\u001b[0m\u001b[1;33m)\u001b[0m\u001b[1;33m\u001b[0m\u001b[1;33m\u001b[0m\u001b[0m\n\u001b[0m\u001b[0;32m   1028\u001b[0m         \u001b[1;32mreturn\u001b[0m \u001b[0mself\u001b[0m\u001b[1;33m.\u001b[0m\u001b[0m_path\u001b[0m\u001b[1;33m\u001b[0m\u001b[1;33m\u001b[0m\u001b[0m\n\u001b[0;32m   1029\u001b[0m \u001b[1;33m\u001b[0m\u001b[0m\n",
      "\u001b[1;32mc:\\users\\sehyeok\\appdata\\local\\programs\\python\\python36\\lib\\site-packages\\matplotlib\\lines.py\u001b[0m in \u001b[0;36mrecache\u001b[1;34m(self, always)\u001b[0m\n\u001b[0;32m    677\u001b[0m             \u001b[0my\u001b[0m \u001b[1;33m=\u001b[0m \u001b[0mself\u001b[0m\u001b[1;33m.\u001b[0m\u001b[0m_y\u001b[0m\u001b[1;33m\u001b[0m\u001b[1;33m\u001b[0m\u001b[0m\n\u001b[0;32m    678\u001b[0m \u001b[1;33m\u001b[0m\u001b[0m\n\u001b[1;32m--> 679\u001b[1;33m         \u001b[0mself\u001b[0m\u001b[1;33m.\u001b[0m\u001b[0m_xy\u001b[0m \u001b[1;33m=\u001b[0m \u001b[0mnp\u001b[0m\u001b[1;33m.\u001b[0m\u001b[0mcolumn_stack\u001b[0m\u001b[1;33m(\u001b[0m\u001b[0mnp\u001b[0m\u001b[1;33m.\u001b[0m\u001b[0mbroadcast_arrays\u001b[0m\u001b[1;33m(\u001b[0m\u001b[0mx\u001b[0m\u001b[1;33m,\u001b[0m \u001b[0my\u001b[0m\u001b[1;33m)\u001b[0m\u001b[1;33m)\u001b[0m\u001b[1;33m.\u001b[0m\u001b[0mastype\u001b[0m\u001b[1;33m(\u001b[0m\u001b[0mfloat\u001b[0m\u001b[1;33m)\u001b[0m\u001b[1;33m\u001b[0m\u001b[1;33m\u001b[0m\u001b[0m\n\u001b[0m\u001b[0;32m    680\u001b[0m         \u001b[0mself\u001b[0m\u001b[1;33m.\u001b[0m\u001b[0m_x\u001b[0m\u001b[1;33m,\u001b[0m \u001b[0mself\u001b[0m\u001b[1;33m.\u001b[0m\u001b[0m_y\u001b[0m \u001b[1;33m=\u001b[0m \u001b[0mself\u001b[0m\u001b[1;33m.\u001b[0m\u001b[0m_xy\u001b[0m\u001b[1;33m.\u001b[0m\u001b[0mT\u001b[0m  \u001b[1;31m# views\u001b[0m\u001b[1;33m\u001b[0m\u001b[1;33m\u001b[0m\u001b[0m\n\u001b[0;32m    681\u001b[0m \u001b[1;33m\u001b[0m\u001b[0m\n",
      "\u001b[1;32mc:\\users\\sehyeok\\appdata\\local\\programs\\python\\python36\\lib\\site-packages\\numpy\\lib\\stride_tricks.py\u001b[0m in \u001b[0;36mbroadcast_arrays\u001b[1;34m(*args, **kwargs)\u001b[0m\n\u001b[0;32m    257\u001b[0m     \u001b[0margs\u001b[0m \u001b[1;33m=\u001b[0m \u001b[1;33m[\u001b[0m\u001b[0mnp\u001b[0m\u001b[1;33m.\u001b[0m\u001b[0marray\u001b[0m\u001b[1;33m(\u001b[0m\u001b[0m_m\u001b[0m\u001b[1;33m,\u001b[0m \u001b[0mcopy\u001b[0m\u001b[1;33m=\u001b[0m\u001b[1;32mFalse\u001b[0m\u001b[1;33m,\u001b[0m \u001b[0msubok\u001b[0m\u001b[1;33m=\u001b[0m\u001b[0msubok\u001b[0m\u001b[1;33m)\u001b[0m \u001b[1;32mfor\u001b[0m \u001b[0m_m\u001b[0m \u001b[1;32min\u001b[0m \u001b[0margs\u001b[0m\u001b[1;33m]\u001b[0m\u001b[1;33m\u001b[0m\u001b[1;33m\u001b[0m\u001b[0m\n\u001b[0;32m    258\u001b[0m \u001b[1;33m\u001b[0m\u001b[0m\n\u001b[1;32m--> 259\u001b[1;33m     \u001b[0mshape\u001b[0m \u001b[1;33m=\u001b[0m \u001b[0m_broadcast_shape\u001b[0m\u001b[1;33m(\u001b[0m\u001b[1;33m*\u001b[0m\u001b[0margs\u001b[0m\u001b[1;33m)\u001b[0m\u001b[1;33m\u001b[0m\u001b[1;33m\u001b[0m\u001b[0m\n\u001b[0m\u001b[0;32m    260\u001b[0m \u001b[1;33m\u001b[0m\u001b[0m\n\u001b[0;32m    261\u001b[0m     \u001b[1;32mif\u001b[0m \u001b[0mall\u001b[0m\u001b[1;33m(\u001b[0m\u001b[0marray\u001b[0m\u001b[1;33m.\u001b[0m\u001b[0mshape\u001b[0m \u001b[1;33m==\u001b[0m \u001b[0mshape\u001b[0m \u001b[1;32mfor\u001b[0m \u001b[0marray\u001b[0m \u001b[1;32min\u001b[0m \u001b[0margs\u001b[0m\u001b[1;33m)\u001b[0m\u001b[1;33m:\u001b[0m\u001b[1;33m\u001b[0m\u001b[1;33m\u001b[0m\u001b[0m\n",
      "\u001b[1;32mc:\\users\\sehyeok\\appdata\\local\\programs\\python\\python36\\lib\\site-packages\\numpy\\lib\\stride_tricks.py\u001b[0m in \u001b[0;36m_broadcast_shape\u001b[1;34m(*args)\u001b[0m\n\u001b[0;32m    191\u001b[0m     \u001b[1;31m# use the old-iterator because np.nditer does not handle size 0 arrays\u001b[0m\u001b[1;33m\u001b[0m\u001b[1;33m\u001b[0m\u001b[1;33m\u001b[0m\u001b[0m\n\u001b[0;32m    192\u001b[0m     \u001b[1;31m# consistently\u001b[0m\u001b[1;33m\u001b[0m\u001b[1;33m\u001b[0m\u001b[1;33m\u001b[0m\u001b[0m\n\u001b[1;32m--> 193\u001b[1;33m     \u001b[0mb\u001b[0m \u001b[1;33m=\u001b[0m \u001b[0mnp\u001b[0m\u001b[1;33m.\u001b[0m\u001b[0mbroadcast\u001b[0m\u001b[1;33m(\u001b[0m\u001b[1;33m*\u001b[0m\u001b[0margs\u001b[0m\u001b[1;33m[\u001b[0m\u001b[1;33m:\u001b[0m\u001b[1;36m32\u001b[0m\u001b[1;33m]\u001b[0m\u001b[1;33m)\u001b[0m\u001b[1;33m\u001b[0m\u001b[1;33m\u001b[0m\u001b[0m\n\u001b[0m\u001b[0;32m    194\u001b[0m     \u001b[1;31m# unfortunately, it cannot handle 32 or more arguments directly\u001b[0m\u001b[1;33m\u001b[0m\u001b[1;33m\u001b[0m\u001b[1;33m\u001b[0m\u001b[0m\n\u001b[0;32m    195\u001b[0m     \u001b[1;32mfor\u001b[0m \u001b[0mpos\u001b[0m \u001b[1;32min\u001b[0m \u001b[0mrange\u001b[0m\u001b[1;33m(\u001b[0m\u001b[1;36m32\u001b[0m\u001b[1;33m,\u001b[0m \u001b[0mlen\u001b[0m\u001b[1;33m(\u001b[0m\u001b[0margs\u001b[0m\u001b[1;33m)\u001b[0m\u001b[1;33m,\u001b[0m \u001b[1;36m31\u001b[0m\u001b[1;33m)\u001b[0m\u001b[1;33m:\u001b[0m\u001b[1;33m\u001b[0m\u001b[1;33m\u001b[0m\u001b[0m\n",
      "\u001b[1;31mValueError\u001b[0m: shape mismatch: objects cannot be broadcast to a single shape"
     ]
    },
    {
     "data": {
      "image/png": "[encoded data removed]",
      "text/plain": [
       "<Figure size 864x288 with 1 Axes>"
      ]
     },
     "metadata": {
      "needs_background": "light"
     },
     "output_type": "display_data"
    }
   ],
   "source": [
    "x = list()\n",
    "length = len(avg_m1_timestep[0])\n",
    "for i in range(0,length) :\n",
    "    x.append(i)\n",
    "\n",
    "title = ['H','F1','F2','F3']\n",
    "_num = 0\n",
    "_minus = 3\n",
    "\n",
    "fig, ax1 = plt.subplots(nrows=1,ncols=1, sharey=False, figsize=(12, 4))\n",
    "\n",
    "ax1 = plt.errorbar(x[:length-_minus+_num],avg_m1_timestep[_num,:length-_minus+_num-2],std_m1_timestep[_num,:length-_minus+_num-2],\n",
    "                fmt=\"o-\",capsize=3,label = 'H(M1)')\n",
    "ax1 = plt.errorbar(x[:length-_minus+_num],avg_m2_timestep[_num,:length-_minus+_num-2],std_m2_timestep[_num,:length-_minus+_num-2],\n",
    "                fmt=\"o-\",capsize=3,label = 'H(M2)')\n",
    "#plt.errorbar(x[:length-_minus+_num-1],avg_m2_2[_num,:length-_minus+_num-1],std_m2_2[_num,:length-_minus+_num-1],\n",
    "#                fmt=\"o-\",capsize=3,label = 'M2_2')\n",
    "ax1 = plt.errorbar(x[:length-_minus-2+_num],avg_m3_timestep[_num,:length-_minus-2+_num],std_m3_timestep[_num,:length-_minus-2+_num],\n",
    "                fmt=\"o-\",capsize=3,label = 'H(M3)')\n",
    "#plt.errorbar(x[:length-_minus+_num],avg_m3_2[_num,:length-_minus+_num],std_m3_2[_num,:length-_minus+_num],\n",
    "#                fmt=\"o-\",capsize=3,label = 'M3_2')\n",
    "#plt.errorbar(x[:length-_minus+_num],avg_m3_3[_num,:length-_minus+_num],std_m3_3[_num,:length-_minus+_num],\n",
    "#                fmt=\"o-\",capsize=3,label = 'M3_3')\n",
    "\n",
    "\n",
    "\n",
    "\n",
    "\n",
    "ax1 = plt.ylim([0,32])\n",
    "ax1 = plt.xticks(x[:length-_minus-2+_num])\n",
    "ax1 = plt.ylabel('Average Error Distance (cm)')\n",
    "ax1 = plt.xlabel('Time step (0.5 sec)')\n",
    "ax1 = plt.legend()\n",
    "plt.show()"
   ]
  },
  {
   "cell_type": "code",
   "execution_count": 61,
   "metadata": {
    "scrolled": false
   },
   "outputs": [
    {
     "data": {
      "image/png": "[encoded data removed]",
      "text/plain": [
       "<Figure size 576x360 with 1 Axes>"
      ]
     },
     "metadata": {
      "needs_background": "light"
     },
     "output_type": "display_data"
    }
   ],
   "source": [
    "x = list()\n",
    "length = len(avg_m1_timestep[0])\n",
    "for i in range(0,length) :\n",
    "    x.append(i)\n",
    "\n",
    "title = ['H','F1','F2','F3']\n",
    "_num = 0\n",
    "_minus = 3\n",
    "\n",
    "fig, ax1 = plt.subplots(nrows=1,ncols=1, sharey=False, figsize=(8, 5))\n",
    "\n",
    "ax1 = plt.errorbar(x[:length-_minus+_num-2],avg_m1_timestep[_num,:length-_minus+_num-2],std_m1_timestep[_num,:length-_minus+_num-2],\n",
    "                fmt=\"bo-\",capsize=3,label = 'H(M1)')\n",
    "ax1 = plt.errorbar(x[:length-_minus+_num-2],avg_m2_timestep[_num,:length-_minus+_num-2],std_m2_timestep[_num,:length-_minus+_num-2],\n",
    "                fmt=\"ro-\",capsize=3,label = 'H(M2)')\n",
    "#plt.errorbar(x[:length-_minus+_num-1],avg_m2_2[_num,:length-_minus+_num-1],std_m2_2[_num,:length-_minus+_num-1],\n",
    "#                fmt=\"o-\",capsize=3,label = 'M2_2')\n",
    "ax1 = plt.errorbar(x[:length-_minus-2+_num],avg_m3_timestep[_num,:length-_minus-2+_num],std_m3_timestep[_num,:length-_minus-2+_num],\n",
    "                fmt=\"go-\",capsize=3,label = 'H(M3)')\n",
    "#plt.errorbar(x[:length-_minus+_num],avg_m3_2[_num,:length-_minus+_num],std_m3_2[_num,:length-_minus+_num],\n",
    "#                fmt=\"o-\",capsize=3,label = 'M3_2')\n",
    "#plt.errorbar(x[:length-_minus+_num],avg_m3_3[_num,:length-_minus+_num],std_m3_3[_num,:length-_minus+_num],\n",
    "#                fmt=\"o-\",capsize=3,label = 'M3_3')\n",
    "\n",
    "_num = 2\n",
    "ax1 = plt.errorbar(x[:length-_minus+_num-2],avg_m1_timestep[_num,:length-_minus+_num-2],std_m1_timestep[_num,:length-_minus+_num-2],\n",
    "                fmt=\"bo-.\",capsize=3,label = 'F4(M1)')\n",
    "ax1 = plt.errorbar(x[:length-_minus+_num-2],avg_m2_timestep[_num,:length-_minus+_num-2],std_m2_timestep[_num,:length-_minus+_num-2],\n",
    "                fmt=\"ro-.\",capsize=3,label = 'F4(M2)')\n",
    "ax1 = plt.errorbar(x[:length-_minus-2+_num],avg_m3_timestep[_num,:length-_minus-2+_num],std_m3_timestep[_num,:length-_minus-2+_num],\n",
    "                fmt=\"go-.\",capsize=3,label = 'F4(M3)')\n",
    "\n",
    "\n",
    "\n",
    "\n",
    "\n",
    "ax1 = plt.ylim([0,32])\n",
    "ax1 = plt.xticks(x[:length-_minus-2+_num])\n",
    "ax1 = plt.ylabel('Average Error Distance (cm)')\n",
    "ax1 = plt.xlabel('Time step (0.5 sec)')\n",
    "ax1 = plt.legend()\n",
    "plt.show()"
   ]
  },
  {
   "cell_type": "code",
   "execution_count": 23,
   "metadata": {},
   "outputs": [
    {
     "name": "stdout",
     "output_type": "stream",
     "text": [
      "20.584044520483577\n",
      "16.61521535416907\n",
      "12.190354578272666\n",
      "8.39368994221091\n"
     ]
    }
   ],
   "source": [
    "_n = 2\n",
    "print(avg_m1_timestep[_n][10])\n",
    "print(avg_m2_timestep[_n][10])\n",
    "print(avg_m3_timestep[_n][10])\n",
    "print(avg_m1_timestep[_n][10]-avg_m3_timestep[_n][10])\n"
   ]
  },
  {
   "cell_type": "markdown",
   "metadata": {},
   "source": [
    "## Relay (P1)"
   ]
  },
  {
   "cell_type": "code",
   "execution_count": 22,
   "metadata": {
    "scrolled": true
   },
   "outputs": [
    {
     "data": {
      "image/png": "[encoded data removed]",
      "text/plain": [
       "<Figure size 576x288 with 1 Axes>"
      ]
     },
     "metadata": {
      "needs_background": "light"
     },
     "output_type": "display_data"
    }
   ],
   "source": [
    "x = list()\n",
    "length = len(avg_m1_timestep[0])\n",
    "for i in range(0,length) :\n",
    "    x.append(i)\n",
    "    \n",
    "title = ['3rd Prediction (P3, relay=2)','2nd Prediction (P2, relay=1)','1st Prediction (P1, relay=0)']\n",
    "_num = 1\n",
    "_minus = 3 \n",
    "_robot = ['H','F5','F4','F3','F2']\n",
    "\n",
    "fig, ax1 = plt.subplots(nrows=1,ncols=1, sharey=False, figsize=(8, 4))\n",
    "\n",
    "plt.errorbar(x[:length-_minus+_num],avg_m1_timestep[_num+2,:length-_minus+_num],std_m1_timestep[_num+2,:length-_minus+_num],\n",
    "                fmt=\"o-\",capsize=3,label = 'M1(target: {})'.format(_robot[_num+2]))\n",
    "plt.errorbar(x[:length-_minus+_num-1],avg_m2_timestep[_num+1,:length-_minus+_num-1],std_m2_timestep[_num+1,:length-_minus+_num-1],\n",
    "                fmt=\"o-\",capsize=3,label = 'M2(target: {})'.format(_robot[_num+1]))\n",
    "plt.errorbar(x[:length-_minus+_num-2],avg_m3_timestep[_num,:length-_minus+_num-2],std_m3_timestep[_num,:length-_minus+_num-2],\n",
    "                fmt=\"o-\",capsize=3,label = 'M3(target: {})'.format(_robot[_num]))\n",
    "#for i in range(0,len(avg_h12)) :\n",
    "#    plt.errorbar(x[:len(avg_h12[0])-5+i],avg_h12[i,:len(avg_h12[0])-5+i],std_h12[i,:len(avg_h12[0])-5+i],\n",
    "#                 fmt=\"o-\",capsize=3,label = '{}'.format(i))\n",
    "\n",
    "plt.ylim([0,30])\n",
    "plt.xticks(x[:length-_minus+_num])\n",
    "plt.ylabel('Average Error Distance (cm)')\n",
    "plt.xlabel('Time step (0.5 sec)')\n",
    "plt.title('{}'.format(title[_num]))\n",
    "plt.legend()\n",
    "plt.show()"
   ]
  },
  {
   "cell_type": "code",
   "execution_count": 34,
   "metadata": {},
   "outputs": [
    {
     "name": "stdout",
     "output_type": "stream",
     "text": [
      "[ 1.56309904  2.60434837  3.46088511  4.24480607  5.01593552  5.86355067\n",
      "  6.74782398  7.71248832  8.56981255  9.29951204 10.10322621 11.00153732\n",
      " 11.96231749 12.93758413 13.89487823]\n",
      "[ 2.10267725  2.84780733  3.71946075  4.44073991  5.26304384  6.30306518\n",
      "  7.05300803  7.94901789  8.91648655  9.84774924 10.86165349 11.83064654\n",
      " 12.74996192 13.65265565]\n",
      "[ 2.83581951  3.74220906  4.59523824  5.38787106  6.20803937  7.12277033\n",
      "  8.08595305  9.01456971 10.02399575 11.10464014 12.19035458 13.26428982\n",
      " 14.29753845]\n"
     ]
    }
   ],
   "source": [
    "print(avg_m1_timestep[_num+2,:length-_minus+_num])\n",
    "print(avg_m2_timestep[_num+1,:length-_minus+_num-1])\n",
    "print(avg_m3_timestep[_num,:length-_minus+_num-2])\n"
   ]
  },
  {
   "cell_type": "code",
   "execution_count": 32,
   "metadata": {},
   "outputs": [
    {
     "name": "stdout",
     "output_type": "stream",
     "text": [
      "1.2727204699999999\n",
      "2.335220959999999\n"
     ]
    }
   ],
   "source": [
    "print(2.83581951-1.56309904)\n",
    "print(14.29753845-11.96231749)\n",
    "\n",
    "0.800\n",
    "0.819\n",
    "0.881"
   ]
  },
  {
   "cell_type": "markdown",
   "metadata": {},
   "source": [
    "# Comparison 2"
   ]
  },
  {
   "cell_type": "markdown",
   "metadata": {},
   "source": [
    "# P-value"
   ]
  },
  {
   "cell_type": "code",
   "execution_count": 69,
   "metadata": {},
   "outputs": [
    {
     "name": "stdout",
     "output_type": "stream",
     "text": [
      "H prediction\n",
      "           M3     M3_2     M3_3\n",
      "M3    1.00000  0.01251  0.11643\n",
      "M3_2  0.01251  1.00000  0.00320\n",
      "M3_3  0.11643  0.00320  1.00000\n",
      "----\n",
      "F1 prediction\n",
      "           M3     M3_2     M3_3\n",
      "M3    1.00000  0.02316  0.20722\n",
      "M3_2  0.02316  1.00000  0.00502\n",
      "M3_3  0.20722  0.00502  1.00000\n",
      "----\n",
      "F2 prediction\n",
      "           M3     M3_2     M3_3\n",
      "M3    1.00000  0.00785  0.44355\n",
      "M3_2  0.00785  1.00000  0.02123\n",
      "M3_3  0.44355  0.02123  1.00000\n",
      "----\n"
     ]
    }
   ],
   "source": [
    "# _n = 로봇 (0 : H, 1 : F1 , 2 : F2, 3: F3, 4 : F4)\n",
    "#_n = 0\n",
    "_set = ['H','F1','F2']\n",
    "for _n in range(0,3) :\n",
    "\n",
    "    #Model_list = [avg_m1_t[:,_n:_n+1],avg_m2_t[:,_n:_n+1],avg_m3_t[:,_n:_n+1]]\n",
    "    Model_list = [avg_m3_t[:,_n:_n+1],avg_m3_2_t[:,_n:_n+1],avg_m3_3_t[:,_n:_n+1]]\n",
    "\n",
    "    result = np.array(np.zeros((3,3)))\n",
    "    for i in range(0,3) :\n",
    "        for j in range(i,3) :\n",
    "            _result = stats.ttest_ind(Model_list[i],Model_list[j])\n",
    "            result[i][j] = \"%.5f\"%(_result[1])\n",
    "            result[j][i] = \"%.5f\"%(_result[1])\n",
    "\n",
    "    result = pd.DataFrame(result, columns = ['M3','M3_2','M3_3'],index=['M3','M3_2','M3_3'])\n",
    "    print('{} prediction'.format(_set[_n]))\n",
    "    print(result)\n",
    "    print('----')"
   ]
  },
  {
   "cell_type": "markdown",
   "metadata": {},
   "source": [
    "0.126 -> 0.232 -> 0.476"
   ]
  },
  {
   "cell_type": "markdown",
   "metadata": {},
   "source": [
    "# Bar"
   ]
  },
  {
   "cell_type": "code",
   "execution_count": 30,
   "metadata": {},
   "outputs": [],
   "source": [
    "Avg_Compare = list()\n",
    "Std_Compare = list()\n",
    "for i in range(2,-1,-1) :\n",
    "#    Avg_Compare.append([np.average(avg_m1[:,4-i:5-i]),np.average(avg_m2[:,3-i:4-i]),np.average(avg_m3[:,2-i:3-i])])\n",
    "#    Std_Compare.append([np.std(avg_m1[:,4-i:5-i]),np.std(avg_m2[:,3-i:4-i]),np.std(avg_m3[:,2-i:3-i])])\n",
    "    Avg_Compare.append([np.average(avg_m3_t[:,i:i+1]),np.average(avg_m3_2_t[:,i:i+1]),np.average(avg_m3_3_t[:,i:i+1])])\n",
    "    Std_Compare.append([np.std(avg_m3_t[:,i:i+1]),np.std(avg_m3_2_t[:,i:i+1]),np.std(avg_m3_3_t[:,i:i+1])])"
   ]
  },
  {
   "cell_type": "code",
   "execution_count": 31,
   "metadata": {
    "scrolled": true
   },
   "outputs": [
    {
     "data": {
      "text/plain": [
       "Text(0.5, 0, 'Target Robot')"
      ]
     },
     "execution_count": 31,
     "metadata": {},
     "output_type": "execute_result"
    },
    {
     "data": {
      "image/png": "[encoded data removed]",
      "text/plain": [
       "<Figure size 720x288 with 1 Axes>"
      ]
     },
     "metadata": {
      "needs_background": "light"
     },
     "output_type": "display_data"
    }
   ],
   "source": [
    "#_x = pd.DataFrame(Avg_Compare,columns = ['M1','M2','M3'],index =['P1','P2','P3'])\n",
    "#_x_std = pd.DataFrame(Std_Compare,columns = ['M1','M2','M3'],index =['P1','P2','P3'])\n",
    "_x = pd.DataFrame(Avg_Compare,columns = ['M3 (Different time step)','M3-2 (Nearest only)','M3-3 (Same time step)'],index =['F2','F1','H'])\n",
    "_x_std = pd.DataFrame(Std_Compare,columns = ['M3 (Different time step)','M3-2 (Nearest only)','M3-3 (Same time step)'],index =['F2','F1','H'])\n",
    "\n",
    "ax1 = _x.plot(kind='bar',yerr=_x_std,capsize=2, rot=0,width=0.8, ylim=(4,18),figsize=(10,4))\n",
    "ax1.set_ylabel('Average Error Distance (cm)')\n",
    "ax1.set_xlabel('Target Robot')\n"
   ]
  },
  {
   "cell_type": "code",
   "execution_count": 32,
   "metadata": {},
   "outputs": [
    {
     "name": "stdout",
     "output_type": "stream",
     "text": [
      "    M3 (Different time step)  M3-2 (Nearest only)  M3-3 (Same time step)\n",
      "F2                  7.335915             6.822850               7.384242\n",
      "F1                  9.868515            10.320293               9.518625\n",
      "H                  12.926158            13.709902              12.372303\n"
     ]
    }
   ],
   "source": [
    "print(_x)"
   ]
  },
  {
   "cell_type": "markdown",
   "metadata": {},
   "source": [
    "# Graph"
   ]
  },
  {
   "cell_type": "markdown",
   "metadata": {},
   "source": [
    "## Robots"
   ]
  },
  {
   "cell_type": "code",
   "execution_count": 21,
   "metadata": {
    "scrolled": false
   },
   "outputs": [
    {
     "data": {
      "image/png": "[encoded data removed]",
      "text/plain": [
       "<Figure size 864x216 with 1 Axes>"
      ]
     },
     "metadata": {
      "needs_background": "light"
     },
     "output_type": "display_data"
    }
   ],
   "source": [
    "x = list()\n",
    "length = len(avg_m1_timestep[0])\n",
    "for i in range(0,length) :\n",
    "    x.append(i)\n",
    "\n",
    "title = ['H','F1','F2']\n",
    "_num = 0\n",
    "_minus = 3\n",
    "fig, ax1 = plt.subplots(nrows=1,ncols=1, sharey=False, figsize=(12, 3))\n",
    "\n",
    "#plt.errorbar(x[:length-_minus+_num-2],avg_m3_timestep[_num,:length-_minus+_num-2],std_m1_timestep[_num,:length-_minus+_num-2],\n",
    "#                fmt=\"o-\",capsize=3,label = 'M1')\n",
    "#plt.errorbar(x[:length-_minus+_num-2],avg_m2_timestep[_num,:length-_minus+_num-2],std_m2_timestep[_num,:length-_minus+_num-2],\n",
    "#                fmt=\"o-\",capsize=3,label = 'M2')\n",
    "#plt.errorbar(x[:length-_minus+_num-1],avg_m2_2[_num,:length-_minus+_num-1],std_m2_2[_num,:length-_minus+_num-1],\n",
    "#                fmt=\"o-\",capsize=3,label = 'M2_2')\n",
    "plt.errorbar(x[:length-_minus-2+_num],avg_m3_timestep[_num,:length-_minus-2+_num],std_m3_timestep[_num,:length-_minus-2+_num],\n",
    "                fmt=\"o-\",capsize=3,label = 'M3')\n",
    "plt.errorbar(x[:length-_minus+_num-2],avg_m3_2_timestep[_num,:length-_minus+_num-2],std_m3_2_timestep[_num,:length-_minus+_num-2],\n",
    "                fmt=\"o-\",capsize=3,label = 'M3_2')\n",
    "plt.errorbar(x[:length-_minus+_num-2],avg_m3_3_timestep[_num,:length-_minus+_num-2],std_m3_3_timestep[_num,:length-_minus+_num-2],\n",
    "                fmt=\"o-\",capsize=3,label = 'M3_3')\n",
    "plt.ylim([0,30])\n",
    "plt.xticks(x[:length-_minus+_num-2])\n",
    "plt.ylabel('Average Error Distance (cm)')\n",
    "plt.xlabel('Time step (0.5 sec)')\n",
    "plt.title('Target Robot: {}'.format(title[_num]))\n",
    "plt.legend()\n",
    "plt.show()"
   ]
  },
  {
   "cell_type": "code",
   "execution_count": null,
   "metadata": {},
   "outputs": [],
   "source": []
  },
  {
   "cell_type": "code",
   "execution_count": 44,
   "metadata": {},
   "outputs": [
    {
     "name": "stdout",
     "output_type": "stream",
     "text": [
      "12.290255592510414\n",
      "12.348736918269893\n",
      "-0.05848132575947851\n"
     ]
    }
   ],
   "source": [
    "_n = 2\n",
    "_n_timestep=10\n",
    "print(avg_m3_timestep[_n][_n_timestep])\n",
    "#print(avg_m3_2_timestep[_n][_n_timestep])\n",
    "print(avg_m3_3_timestep[_n][_n_timestep])\n",
    "#print(avg_m3_2_timestep[_n][_n_timestep]-avg_m3_timestep[_n][_n_timestep])\n",
    "print(avg_m3_timestep[_n][_n_timestep]-avg_m3_3_timestep[_n][_n_timestep])\n",
    "#print('slope')\n",
    "#print((avg_m3_timestep[_n][_n_timestep]-avg_m3_timestep[_n][0])/_n_timestep)\n",
    "#print((avg_m3_timestep[_n][_n_timestep]-avg_m3_timestep[_n][0])/_n_timestep)\n",
    "#print((avg_m3_timestep[_n][_n_timestep]-avg_m3_timestep[_n][0])/_n_timestep)"
   ]
  },
  {
   "cell_type": "markdown",
   "metadata": {},
   "source": [
    "# Slopes"
   ]
  },
  {
   "cell_type": "code",
   "execution_count": 87,
   "metadata": {},
   "outputs": [
    {
     "name": "stdout",
     "output_type": "stream",
     "text": [
      "H\n",
      "M3 = 0 : 3.2124299939864596  // 10 : 23.70130917021648 // dist = 20.48887917623002, slope = 1.8626253796572747\n",
      "M3_2 = 0 : 2.9357481246777297  // 10 : 26.56452596457569 // dist = 23.62877783989796, slope = 2.1480707127179963\n",
      "M3_3 = 0 : 3.094872650666319  // 10 : 22.306156382471766 // dist = 19.211283731805448, slope = 1.7464803392550408\n",
      "------------\n",
      "F1\n",
      "M3 = 0 : 2.8120658689783173  // 11 : 19.60166549377831 // dist = 16.78959962479999, slope = 1.3991333020666659\n",
      "M3_2 = 0 : 2.566691346112543  // 11 : 21.441234759914277 // dist = 18.874543413801735, slope = 1.5728786178168113\n",
      "M3_3 = 0 : 2.723587515487574  // 11 : 18.496524073242707 // dist = 15.772936557755132, slope = 1.3144113798129278\n",
      "------------\n",
      "F2\n",
      "M3 = 0 : 2.835819510301006  // 12 : 14.297538449743394 // dist = 11.461718939442388, slope = 0.8816706876494145\n",
      "M3_2 = 0 : 2.2817155530348026  // 12 : 14.056059847782699 // dist = 11.774344294747896, slope = 0.9057187919036843\n",
      "M3_3 = 0 : 2.7793352639825097  // 12 : 13.823217116771465 // dist = 11.043881852788955, slope = 0.8495293732914581\n",
      "------------\n"
     ]
    }
   ],
   "source": [
    "_n_steps = 10\n",
    "_t_robot = ['H','F1','F2']\n",
    "for i in range(0,3) :\n",
    "    print(_t_robot[i])\n",
    "    print('M3 = 0 : {}  // {} : {} // dist = {}, slope = {}'.format(avg_m3_timestep[i][0],\n",
    "                                                                    _n_steps+i,\n",
    "                                                                    avg_m3_timestep[i][_n_steps+i],\n",
    "                                                                    avg_m3_timestep[i][_n_steps+i]-avg_m3_timestep[i][0],\n",
    "                                                                    (avg_m3_timestep[i][_n_steps+i]-avg_m3_timestep[i][0])/(_n_steps+i+1)))\n",
    "    print('M3_2 = 0 : {}  // {} : {} // dist = {}, slope = {}'.format(avg_m3_2_timestep[i][0],\n",
    "                                                                _n_steps+i,\n",
    "                                                                avg_m3_2_timestep[i][_n_steps+i],\n",
    "                                                                avg_m3_2_timestep[i][_n_steps+i]-avg_m3_2_timestep[i][0],\n",
    "                                                                (avg_m3_2_timestep[i][_n_steps+i]-avg_m3_2_timestep[i][0])/(_n_steps+i+1)))\n",
    "    print('M3_3 = 0 : {}  // {} : {} // dist = {}, slope = {}'.format(avg_m3_3_timestep[i][0],\n",
    "                                                            _n_steps+i,\n",
    "                                                            avg_m3_3_timestep[i][_n_steps+i],\n",
    "                                                            avg_m3_3_timestep[i][_n_steps+i]-avg_m3_3_timestep[i][0],\n",
    "                                                            (avg_m3_3_timestep[i][_n_steps+i]-avg_m3_3_timestep[i][0])/(_n_steps+i+1)))\n",
    "    print('------------')"
   ]
  },
  {
   "cell_type": "code",
   "execution_count": 88,
   "metadata": {},
   "outputs": [
    {
     "name": "stdout",
     "output_type": "stream",
     "text": [
      "-0.4700000000000002\n"
     ]
    }
   ],
   "source": [
    "print(1.39-1.86)"
   ]
  },
  {
   "cell_type": "markdown",
   "metadata": {},
   "source": [
    "## Draw Error bar"
   ]
  },
  {
   "cell_type": "code",
   "execution_count": null,
   "metadata": {},
   "outputs": [],
   "source": [
    "_x_avg = list()\n",
    "_x_std = list()\n",
    "for i in range(0,5) :\n",
    "    _x_tmp = [np.average(avg_h12_t2[:,i]),\n",
    "             np.average(avg_h10_t2[:,i]),\n",
    "             np.average(avg_h8_t2[:,i]),\n",
    "             np.average(avg_h6_t2[:,i]),\n",
    "             np.average(avg_h4_t2[:,i]),\n",
    "             np.average(avg_h2_t2[:,i])]\n",
    "    _x_tmp_std = [np.std(avg_h12_t2[:,i]),\n",
    "             np.std(avg_h10_t2[:,i]),\n",
    "             np.std(avg_h8_t2[:,i]),\n",
    "             np.std(avg_h6_t2[:,i]),\n",
    "             np.std(avg_h4_t2[:,i]),\n",
    "             np.std(avg_h2_t2[:,i])]\n",
    "    _x_avg.append(_x_tmp)\n",
    "    _x_std.append(_x_tmp_std)\n"
   ]
  },
  {
   "cell_type": "code",
   "execution_count": null,
   "metadata": {},
   "outputs": [],
   "source": [
    "_x = pd.DataFrame(_x_avg,columns = ['12','10','8','6','4','2'],index =['H','F1','F2','F3','F4'])\n",
    "_x_std = pd.DataFrame(_x_std,columns = ['12','10','8','6','4','2'],index =['H','F1','F2','F3','F4'])\n",
    "_x.plot(kind='bar',yerr=_x_std,capsize=1)"
   ]
  },
  {
   "cell_type": "markdown",
   "metadata": {},
   "source": [
    "### Total average error"
   ]
  },
  {
   "cell_type": "code",
   "execution_count": null,
   "metadata": {},
   "outputs": [],
   "source": [
    "def total_error(data='',length = 9) :\n",
    "    _sums = list()\n",
    "    for i in range(len(data)) :\n",
    "        _sum = 0\n",
    "#        _n = 0\n",
    "        for j in range(len(data[i])) :\n",
    "            _sum += data[i][j]*length\n",
    "#            _n += j\n",
    "        _sum /= length*len(data)\n",
    "        _sums.append(_sum)\n",
    "    return _sums, np.average(_sums), np.std(_sums)"
   ]
  },
  {
   "cell_type": "code",
   "execution_count": null,
   "metadata": {},
   "outputs": [],
   "source": [
    "print(_x)"
   ]
  },
  {
   "cell_type": "code",
   "execution_count": null,
   "metadata": {},
   "outputs": [],
   "source": [
    "print(avg_h12_t2)"
   ]
  },
  {
   "cell_type": "code",
   "execution_count": null,
   "metadata": {},
   "outputs": [],
   "source": [
    "_err_h12,_err_avg_h12,_err_std_h12 = total_error(data=avg_h12_t2,length=9)\n",
    "_err_h10,_err_avg_h10,_err_std_h10 = total_error(data=avg_h10_t2,length=9)\n",
    "_err_h8,_err_avg_h8,_err_std_h8 = total_error(data=avg_h8_t2,length=9)\n",
    "_err_h6,_err_avg_h6,_err_std_h6 = total_error(data=avg_h6_t2,length=9)\n",
    "_err_h4,_err_avg_h4,_err_std_h4 = total_error(data=avg_h4_t2,length=9)\n",
    "_err_h2,_err_avg_h2,_err_std_h2 = total_error(data=avg_h2_t2,length=9)"
   ]
  },
  {
   "cell_type": "code",
   "execution_count": null,
   "metadata": {},
   "outputs": [],
   "source": [
    "print(_err_avg_h12)\n",
    "print(_err_avg_h10)\n",
    "print(_err_avg_h8)\n",
    "print(_err_avg_h6)\n",
    "print(_err_avg_h4)\n",
    "print(_err_avg_h2)"
   ]
  },
  {
   "cell_type": "code",
   "execution_count": null,
   "metadata": {},
   "outputs": [],
   "source": [
    "y = [_err_avg_h2,_err_avg_h4, _err_avg_h6, _err_avg_h8, _err_avg_h10, _err_avg_h12]\n",
    "y_std = [_err_std_h2,_err_std_h4, _err_std_h6, _err_std_h8, _err_std_h10, _err_std_h12]\n",
    "plt.bar(('2','4','6','8','10','12'),y,yerr=y_std,capsize=3)\n",
    "plt.show()"
   ]
  },
  {
   "cell_type": "code",
   "execution_count": null,
   "metadata": {},
   "outputs": [],
   "source": [
    "print(avg_err_h12)\n",
    "print(avg_err_h10)\n",
    "print(avg_err_h8)\n",
    "print(avg_err_h6)\n",
    "print(avg_err_h4)\n",
    "print(avg_err_h2)"
   ]
  },
  {
   "cell_type": "markdown",
   "metadata": {},
   "source": [
    "## Orientation(방향)\n"
   ]
  },
  {
   "cell_type": "code",
   "execution_count": 9,
   "metadata": {},
   "outputs": [],
   "source": [
    "def orientation_error(data ='',answer='',robot='',step='') :\n",
    "    _o = '{}_{}_o'.format(step,robot)\n",
    "    ans_o = answer[_o]\n",
    "    data_o = data[_o]\n",
    "    _error = np.abs(ans_o - data_o)*180\n",
    "    avg_error = np.average(_error)\n",
    "    std_error = np.std(_error)\n",
    "    return _error, avg_error, std_error\n"
   ]
  },
  {
   "cell_type": "code",
   "execution_count": 10,
   "metadata": {},
   "outputs": [],
   "source": [
    "robots = ['H','F1','F2']\n",
    "_data = [data_m1,data_m2,data_m3]\n",
    "total = 247\n",
    "results = list()\n",
    "for i in range(0,len(_data)) :\n",
    "    _tmp = list()\n",
    "    for _robot in robots :\n",
    "        result = list()\n",
    "        for step in range(10, 26) :\n",
    "            _avg = 0\n",
    "            for j in range(0,len(_data[i])) :\n",
    "                data1,avg1,std1 = orientation_error(data = _data[i][j], answer = answer_m3, robot = _robot, step = step)\n",
    "                _avg += avg1\n",
    "            result.append(_avg/len(_data[i]))\n",
    "        _tmp.append(result)\n",
    "    results.append(_tmp)\n"
   ]
  },
  {
   "cell_type": "code",
   "execution_count": 19,
   "metadata": {},
   "outputs": [
    {
     "name": "stdout",
     "output_type": "stream",
     "text": [
      "[[45.211573924983156, 44.993786007371654, 46.446488418161294, 48.32352373917409, 47.166718494973274, 53.79972603622785, 54.302578269874985, 56.2249875459987, 61.579134787705264, 67.07303771871497, 71.49418144295547, 71.41055552136582, 0.0, 0.0, 0.0, 0.0], [9.495204120731984, 12.924001797673844, 13.20490475838481, 12.981011337981215, 14.635923107499789, 18.103557190375703, 17.650406826060404, 19.74151979085814, 21.365529136592713, 25.16339053878867, 31.74761267035142, 76.64172377424583, 75.12457287917182, 0.0, 0.0, 0.0], [12.686055596729556, 18.573898047917346, 21.55159196047352, 21.249971571600323, 19.378722341107693, 19.632669687528743, 22.39647452842932, 26.338781907306885, 29.94141568168745, 30.78277930041009, 32.24893809476097, 36.38017298561943, 82.54067386573928, 83.02825639115417, 0.0, 0.0]]\n",
      "[[16.251926381558384, 23.635543352521104, 28.74140355735789, 34.78378626963645, 40.01068612280486, 48.20356408836923, 51.532781226526325, 55.02695491408032, 60.74020480840001, 66.9264940191498, 71.06613701431255, 0.0, 0.0, 0.0, 0.0, 0.0], [12.120294934782185, 14.977718541945748, 16.198310792468014, 15.135567024949633, 16.657627955812792, 21.730381458660734, 23.120577981488097, 25.13216493155044, 26.83787012247449, 26.828772286470286, 30.66843835591168, 69.94977024901587, 0.0, 0.0, 0.0, 0.0], [13.501873150493278, 18.41627679874986, 22.986911640807932, 25.381188876764206, 27.372628924210197, 28.19457506374251, 27.537157373314983, 28.202029101215704, 31.562799106147605, 31.129267448454254, 36.44624162275417, 31.591268275067858, 74.17880967904308, 0.0, 0.0, 0.0]]\n",
      "[[17.254573732601777, 25.507592540515628, 31.404926940348503, 38.39026876177701, 44.59511312899757, 51.40719020502187, 54.81234548595141, 58.27290517485752, 64.36241208818882, 70.15529357258139, 73.31468905546559, 0.0, 0.0, 0.0, 0.0, 0.0], [14.021269125035627, 16.755873445288906, 16.19063418697004, 16.95876859167109, 20.28405021268988, 23.65222786866202, 23.663718696184667, 25.461896316130698, 25.44985345446478, 25.92016424069911, 30.966292584158055, 72.16809216343157, 0.0, 0.0, 0.0, 0.0], [18.374381469685666, 24.28136525810445, 26.77174181036321, 28.03962722566685, 24.601965817891823, 32.70602205236745, 33.5997452425789, 34.172141833358054, 36.440843157677406, 37.322286137447776, 39.37303671127158, 36.446139719070445, 77.1934286665587, 0.0, 0.0, 0.0]]\n"
     ]
    }
   ],
   "source": [
    "print(results[0])\n",
    "print(results[1])\n",
    "print(results[2])"
   ]
  },
  {
   "cell_type": "code",
   "execution_count": 21,
   "metadata": {},
   "outputs": [
    {
     "data": {
      "image/png": "[encoded data removed]",
      "text/plain": [
       "<Figure size 432x288 with 1 Axes>"
      ]
     },
     "metadata": {
      "needs_background": "light"
     },
     "output_type": "display_data"
    }
   ],
   "source": [
    "_n = 2\n",
    "_title = ['H','F1','F2']\n",
    "plt.plot(results[0][_n][:11],label = 'M1')\n",
    "plt.plot(results[1][_n][:11],label = 'M2')\n",
    "plt.plot(results[2][_n][:11],label = 'M3')\n",
    "\n",
    "plt.title(_title[_n])\n",
    "plt.legend()\n",
    "plt.show()"
   ]
  },
  {
   "cell_type": "markdown",
   "metadata": {},
   "source": [
    "## ETC"
   ]
  },
  {
   "cell_type": "code",
   "execution_count": 104,
   "metadata": {},
   "outputs": [
    {
     "data": {
      "image/png": "[encoded data removed]",
      "text/plain": [
       "<Figure size 432x288 with 1 Axes>"
      ]
     },
     "metadata": {
      "needs_background": "light"
     },
     "output_type": "display_data"
    }
   ],
   "source": [
    "slope = [3.44,3.62,3.345]\n",
    "_model = [[3],[3.5],[4]]\n",
    "_m = [3,3.5,4]\n",
    "for i in range(10) :\n",
    "    for j,slopes in enumerate(slope) :\n",
    "        _m[j] += slopes\n",
    "        _model[j].append(_m[j])\n",
    "\n",
    "for i in range(0,3) :\n",
    "    plt.plot(_model[i])\n",
    "\n",
    "    \n"
   ]
  }
 ],
 "metadata": {
  "kernelspec": {
   "display_name": "Python 3",
   "language": "python",
   "name": "python3"
  },
  "language_info": {
   "codemirror_mode": {
    "name": "ipython",
    "version": 3
   },
   "file_extension": ".py",
   "mimetype": "text/x-python",
   "name": "python",
   "nbconvert_exporter": "python",
   "pygments_lexer": "ipython3",
   "version": "3.6.8"
  }
 },
 "nbformat": 4,
 "nbformat_minor": 4
}
