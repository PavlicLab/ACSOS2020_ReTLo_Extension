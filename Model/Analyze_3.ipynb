{
 "cells": [
  {
   "cell_type": "code",
   "execution_count": 1,
   "metadata": {},
   "outputs": [],
   "source": [
    "import numpy as np\n",
    "import pandas as pd\n",
    "import time\n",
    "import os\n",
    "import pathlib\n",
    "import copy\n",
    "from matplotlib import pyplot as plt\n",
    "from scipy import stats\n",
    "\n",
    "\n",
    "answer = pd.read_csv('Answer_m1.csv')\n",
    "\n",
    "std = 260\n",
    "_n_hist = 10\n",
    "_n_samples = 26"
   ]
  },
  {
   "cell_type": "code",
   "execution_count": 2,
   "metadata": {},
   "outputs": [],
   "source": [
    "def load_data(_n = 0,_n_file = 7, start = 0) :\n",
    "    _data = list()\n",
    "    for i in range(start,_n_file+start) :\n",
    "        data = pd.read_csv('Diff_History_{}_{}_Predict_v2.csv'.format(_n,i))\n",
    "        _data.append(data)\n",
    "    return _data"
   ]
  },
  {
   "cell_type": "code",
   "execution_count": 3,
   "metadata": {},
   "outputs": [],
   "source": [
    "def dist_euclidean(data = '', answer='',robot='',step='',std = 260) :\n",
    "    _x = '{}_{}_x'.format(step,robot)\n",
    "    _y = '{}_{}_y'.format(step,robot)\n",
    "    ans_x = answer[_x]\n",
    "    data_x = data[_x]\n",
    "    dist_x = (ans_x - data_x) * std\n",
    "\n",
    "    ans_y = answer[_y]\n",
    "    data_y = data[_y]\n",
    "    dist_y = (ans_y - data_y) * std\n",
    "\n",
    "    dist = np.sqrt(np.square(dist_x)+np.square(dist_y))\n",
    "    average = np.average(dist)\n",
    "    std = np.std(dist)\n",
    "    return dist, average, std"
   ]
  },
  {
   "cell_type": "code",
   "execution_count": 4,
   "metadata": {},
   "outputs": [],
   "source": [
    "def cal_result(data='',robots=['H','F1','F2','F3','F4'],_n_hist = 10,_n_samples=26,std=260) :\n",
    "    _avgs = list()\n",
    "#    _stds = list()\n",
    "    for i in range(0,len(data)) :\n",
    "        _tmp_avgs = list()\n",
    "#        _tmp_stds = list()\n",
    "        for j,_robot in enumerate(robots) :\n",
    "            _tmp_avg = list()\n",
    "#            _tmp_std = list()\n",
    "            for step in range(_n_hist, _n_samples) :\n",
    "                data1,avg1,std1 = dist_euclidean(data=data[i],answer=answer,std=std,\n",
    "                                      robot=_robot,step=step)\n",
    "                _tmp_avg.append(avg1)\n",
    " #               _tmp_std.append(std1)\n",
    "            _tmp_avgs.append(_tmp_avg)\n",
    " #           _tmp_stds.append(_tmp_std)\n",
    "        _avgs.append(_tmp_avgs)\n",
    " #       _stds.append(_tmp_stds)\n",
    " #  return _stds,_avgs\n",
    "    return np.array(_avgs)"
   ]
  },
  {
   "cell_type": "code",
   "execution_count": 5,
   "metadata": {},
   "outputs": [],
   "source": [
    "def find_average(data = '',_n_hist = 10,_n_samples=26,type = 0,_n_robot = 5,delete_list=[100,100],back=5,front=0) :\n",
    "    ## data[i][j][k] -> i : Model // j -> Robots(H,F1,F2,F3,F4) // k -> steps\n",
    "    result = list()\n",
    "    _avgs = list()\n",
    "    _stds = list()\n",
    "    _data = list()\n",
    "    for i in range(len(data)) :\n",
    "        if i != delete_list[0] and i != delete_list[1] :\n",
    "            _data.append(data[i])\n",
    "    _data = np.array(_data)\n",
    "    \n",
    "    if type == 1 :\n",
    "        for i in range(0,_n_robot) :\n",
    "            _tmp_avgs = list()\n",
    "            _tmp_stds = list()\n",
    "            for j in range(0,_n_samples-_n_hist) : \n",
    "                _tmp_avgs.append(np.average(_data[:,i,j])/3)\n",
    "                _tmp_stds.append(np.std(_data[:,i,j])/3)\n",
    "        #            print(np.sum(data[:,i,j]))\n",
    "    #            print(np.average(data[:,i,j]))\n",
    "    #            _tmp_result.append(_sum/(3*len(data)))\n",
    "            _avgs.append(_tmp_avgs)\n",
    "            _stds.append(_tmp_stds)\n",
    "    elif type == 2 :\n",
    "        for i in range(0,len(data)) :\n",
    "            _tmp_avgs = list()\n",
    "            _tmp_stds = list()\n",
    "            for j in range(0,_n_robot) :\n",
    "                _tmp_avgs.append(np.average(data[i,j,front:_n_samples-_n_hist-back])/3)\n",
    "                _tmp_stds.append(np.std(data[i,j,front:_n_samples-_n_hist-back])/3)                \n",
    "            _avgs.append(_tmp_avgs)\n",
    "            _stds.append(_tmp_stds)\n",
    "    return np.array(_avgs),np.array(_stds)"
   ]
  },
  {
   "cell_type": "code",
   "execution_count": 6,
   "metadata": {},
   "outputs": [],
   "source": [
    "def average_error(avg = '',length = 9) :\n",
    "    _avgs = list()\n",
    "    _stds = list()\n",
    "    _total_avg = 0\n",
    "    _total_n = 0\n",
    "    for i in range(len(avg)) :\n",
    "        _n = length+i\n",
    "        _total_n += _n\n",
    "        _avgs.append(np.average(avg[i,:_n]))\n",
    "        _stds.append(np.std(avg[i,:_n]))\n",
    "        _total_avg += np.sum(avg[i,:_n])\n",
    "    _total_avg /= _total_n\n",
    "    return _avgs,_stds,_total_avg\n"
   ]
  },
  {
   "cell_type": "code",
   "execution_count": 7,
   "metadata": {},
   "outputs": [],
   "source": [
    "def temp_method(data='') :\n",
    "    _tmp = list()\n",
    "    for i in range(len(data)) :\n",
    "        _tmp.append(np.average(data[i]))\n",
    "    _tmp = np.array(_tmp)\n",
    "    \n",
    "    print('max : {} / min :{}'.format(np.argmax(_tmp),np.argmin(_tmp)))\n",
    "\n",
    "    _data = list()\n",
    "    for i in range(len(data)) :\n",
    "        if np.argmax(_tmp) != i and np.argmin(_tmp) != i :\n",
    "            _data.append(data[i])\n",
    "    \n",
    "    return np.array(_data),[np.argmax(_tmp),np.argmin(_tmp)]"
   ]
  },
  {
   "cell_type": "code",
   "execution_count": 12,
   "metadata": {},
   "outputs": [],
   "source": [
    "#data_h12 = load_data(_n=12,_n_file=5)\n",
    "data_h10 = load_data(_n=10,_n_file=10)\n",
    "data_h8 = load_data(_n=8,_n_file=7,start=1)\n",
    "data_h6 = load_data(_n=6,_n_file=10)\n",
    "data_h4 = load_data(_n=4,_n_file=10)\n",
    "data_h2 = load_data(_n=2,_n_file=10)"
   ]
  },
  {
   "cell_type": "code",
   "execution_count": null,
   "metadata": {},
   "outputs": [],
   "source": []
  },
  {
   "cell_type": "code",
   "execution_count": 13,
   "metadata": {},
   "outputs": [],
   "source": [
    "#result_h12 = cal_result(data=data_h12,_n_hist = _n_hist,_n_samples=_n_samples,std=std)\n",
    "result_h10 = cal_result(data=data_h10,_n_hist = _n_hist,_n_samples=_n_samples,std=std)\n",
    "result_h8 = cal_result(data=data_h8,_n_hist = _n_hist,_n_samples=_n_samples,std=std)\n",
    "result_h6 = cal_result(data=data_h6,_n_hist = _n_hist,_n_samples=_n_samples,std=std)\n",
    "result_h4 = cal_result(data=data_h4,_n_hist = _n_hist,_n_samples=_n_samples,std=std)\n",
    "result_h2 = cal_result(data=data_h2,_n_hist = _n_hist,_n_samples=_n_samples,std=std)"
   ]
  },
  {
   "cell_type": "code",
   "execution_count": 14,
   "metadata": {},
   "outputs": [
    {
     "name": "stdout",
     "output_type": "stream",
     "text": [
      "max : 3 / min :5\n",
      "max : 5 / min :1\n",
      "max : 7 / min :4\n",
      "max : 0 / min :4\n",
      "max : 0 / min :2\n"
     ]
    }
   ],
   "source": [
    "### H, F1, F2, F3, F4를 모델별로 구분 (5*5로 구성) type = 2\n",
    "#avg_h12_t2 ,std_h12_t2= find_average(type = 2, data=result_h12,_n_hist = _n_hist,_n_samples=_n_samples)\n",
    "avg_h10_t2 ,std_h10_t2= find_average(type = 2,data=result_h10,_n_hist = _n_hist,_n_samples=_n_samples)\n",
    "avg_h8_t2 ,std_h8_t2= find_average(type = 2, data=result_h8,_n_hist = _n_hist,_n_samples=_n_samples)\n",
    "avg_h6_t2 ,std_h6_t2= find_average(type = 2, data=result_h6,_n_hist = _n_hist,_n_samples=_n_samples)\n",
    "avg_h4_t2 ,std_h4_t2= find_average(type = 2, data=result_h4,_n_hist = _n_hist,_n_samples=_n_samples)\n",
    "avg_h2_t2 ,std_h2_t2= find_average(type = 2, data=result_h2,_n_hist = _n_hist,_n_samples=_n_samples)\n",
    "\n",
    "#avg_h12_t3,delete_list_h12 = temp_method(data=avg_h12_t2)\n",
    "avg_h10_t3,delete_list_h10 = temp_method(data=avg_h10_t2)\n",
    "avg_h8_t3,delete_list_h8 = temp_method(data=avg_h8_t2)\n",
    "avg_h6_t3,delete_list_h6 = temp_method(data=avg_h6_t2)\n",
    "avg_h4_t3,delete_list_h4 = temp_method(data=avg_h4_t2)\n",
    "avg_h2_t3,delete_list_h2 = temp_method(data=avg_h2_t2)"
   ]
  },
  {
   "cell_type": "code",
   "execution_count": 15,
   "metadata": {},
   "outputs": [
    {
     "name": "stdout",
     "output_type": "stream",
     "text": [
      "[[14.55636409 13.00909578 10.84678606  8.75641325  6.05067319]\n",
      " [14.60524466 13.32200116 11.01560987  8.66440413  6.13483699]\n",
      " [14.04078739 12.41900071 10.70214514  8.53043379  6.05565305]\n",
      " [17.31115195 15.33602856 12.40084855  9.76070168  6.34672172]\n",
      " [14.56229359 13.081235   11.12227557  8.70622461  6.21759593]\n",
      " [14.01714952 12.49476288 10.58741413  8.41357742  5.96057402]\n",
      " [14.74458876 13.22391009 10.95980904  8.69440084  6.223948  ]\n",
      " [14.79729681 13.20228634 10.8199579   8.68718284  6.04091356]\n",
      " [14.90656426 13.3237562  11.05599497  8.79484705  6.12725335]\n",
      " [16.7602772  15.00603237 12.38548453  9.77940053  6.49986283]]\n"
     ]
    }
   ],
   "source": [
    "print(avg_h10_t2)"
   ]
  },
  {
   "cell_type": "code",
   "execution_count": 11,
   "metadata": {},
   "outputs": [],
   "source": [
    "### Model들 전체 평균 -> H, F1, F2, F3, F4로 : type = 1\n",
    "#avg_h12 ,std_h12= find_average(type = 1,data=result_h12,_n_hist = _n_hist,_n_samples=_n_samples,\n",
    "#                              delete_list=delete_list_h12)\n",
    "avg_h10 ,std_h10= find_average(type = 1,data=result_h10,_n_hist = _n_hist,_n_samples=_n_samples,\n",
    "                              delete_list=delete_list_h10)\n",
    "avg_h8 ,std_h8= find_average(type = 1, data=result_h8,_n_hist = _n_hist,_n_samples=_n_samples,\n",
    "                            delete_list=delete_list_h8)\n",
    "avg_h6 ,std_h6= find_average(type = 1, data=result_h6,_n_hist = _n_hist,_n_samples=_n_samples,\n",
    "                            delete_list=delete_list_h6)\n",
    "avg_h4 ,std_h4= find_average(type = 1, data=result_h4,_n_hist = _n_hist,_n_samples=_n_samples,\n",
    "                            delete_list=delete_list_h4)\n",
    "avg_h2 ,std_h2= find_average(type = 1, data=result_h2,_n_hist = _n_hist,_n_samples=_n_samples,\n",
    "                            delete_list=delete_list_h2)\n"
   ]
  },
  {
   "cell_type": "code",
   "execution_count": 12,
   "metadata": {},
   "outputs": [],
   "source": [
    "#avg_err_h12,std_err_h12, error_h12 = average_error(avg = avg_h12,length = 9) \n",
    "avg_err_h10,std_err_h10, error_h10 = average_error(avg = avg_h10,length = 9) \n",
    "avg_err_h8,std_err_h8, error_h8 = average_error(avg = avg_h8,length = 9) \n",
    "avg_err_h6,std_err_h6, error_h6 = average_error(avg = avg_h6,length = 9) \n",
    "avg_err_h4,std_err_h4, error_h4 = average_error(avg = avg_h4,length = 9)\n",
    "avg_err_h2,std_err_h2, error_h2 = average_error(avg = avg_h2,length = 9) "
   ]
  },
  {
   "cell_type": "code",
   "execution_count": 13,
   "metadata": {},
   "outputs": [
    {
     "name": "stdout",
     "output_type": "stream",
     "text": [
      "[[14.55636409 13.00909578 10.84678606  8.75641325  6.05067319]\n",
      " [14.60524466 13.32200116 11.01560987  8.66440413  6.13483699]\n",
      " [14.04078739 12.41900071 10.70214514  8.53043379  6.05565305]\n",
      " [14.56229359 13.081235   11.12227557  8.70622461  6.21759593]\n",
      " [14.74458876 13.22391009 10.95980904  8.69440084  6.223948  ]]\n"
     ]
    }
   ],
   "source": [
    "print(avg_h10_t3)"
   ]
  },
  {
   "cell_type": "code",
   "execution_count": 28,
   "metadata": {},
   "outputs": [
    {
     "name": "stdout",
     "output_type": "stream",
     "text": [
      "[[15.82497253 14.36304674 11.50336007  9.28925055  6.23557197]\n",
      " [15.73224373 14.14239201 11.40889878  9.06835842  5.96908275]\n",
      " [15.58727123 14.01853687 11.65695524  9.07004065  6.231461  ]\n",
      " [15.40257882 13.63484402 11.48372066  8.93665202  6.12479882]\n",
      " [15.36497675 13.5148901  11.13974289  8.7341581   6.03779083]]\n"
     ]
    }
   ],
   "source": [
    "print(avg_h8_t3)"
   ]
  },
  {
   "cell_type": "markdown",
   "metadata": {},
   "source": [
    "6.05(2) 6.13(4) 6.05(2) 6.21 6.22 / 6.32 6.23 5.96(1) 6.23 6.12"
   ]
  },
  {
   "cell_type": "code",
   "execution_count": 13,
   "metadata": {},
   "outputs": [
    {
     "name": "stdout",
     "output_type": "stream",
     "text": [
      "0\n",
      "     10      6      2\n",
      "10  1.0  0.000  0.000\n",
      "6   0.0  1.000  0.239\n",
      "2   0.0  0.239  1.000\n",
      "2\n",
      "       10      6      2\n",
      "10  1.000  0.001  0.000\n",
      "6   0.001  1.000  0.138\n",
      "2   0.000  0.138  1.000\n",
      "4\n",
      "      10      6      2\n",
      "10  1.00  0.130  0.000\n",
      "6   0.13  1.000  0.003\n",
      "2   0.00  0.003  1.000\n"
     ]
    }
   ],
   "source": [
    "# _n = 로봇 (0 : H, 1 : F1 , 2 : F2, 3: F3, 4 : F4)\n",
    "for _n in range(0,5,2) :\n",
    "    Model_list = [avg_h10_t3[:,_n:_n+1],\n",
    "                  #avg_h8_t3[:,_n:_n+1],\n",
    "                  avg_h6_t3[:,_n:_n+1],\n",
    "                  #avg_h4_t3[:,_n:_n+1],\n",
    "                  avg_h2_t3[:,_n:_n+1]]\n",
    "    result = np.array(np.zeros((len(Model_list),len(Model_list))))\n",
    "    for i in range(0,len(Model_list)) :\n",
    "        for j in range(i,len(Model_list)) :\n",
    "            _result = stats.ttest_ind(Model_list[i],Model_list[j])\n",
    "            result[i][j] = \"%.3f\"%(_result[1])\n",
    "            result[j][i] = \"%.3f\"%(_result[1])\n",
    "\n",
    "#    result = pd.DataFrame(result, columns = ['10','8','6','4','2'],index=['10','8','6','4','2'])\n",
    "    result = pd.DataFrame(result, columns = ['10','6','2'],index=['10','6','2'])\n",
    "    print(_n)\n",
    "    print(result)"
   ]
  },
  {
   "cell_type": "markdown",
   "metadata": {},
   "source": [
    "## Draw Error bar"
   ]
  },
  {
   "cell_type": "code",
   "execution_count": 219,
   "metadata": {},
   "outputs": [],
   "source": [
    "data_h6 = load_data(_n=6,_n_file=10,start=0)\n",
    "result_h6 = cal_result(data=data_h6,_n_hist = _n_hist,_n_samples=_n_samples,std=std)\n",
    "avg_h6_t2 ,std_h6_t2= find_average(type = 2, data=result_h6,_n_hist = _n_hist,_n_samples=_n_samples)\n",
    "avg_h6_t3,delete_list_h6 = temp_method(data=avg_h6_t2)\n",
    "\n",
    "avg_h6 ,std_h6= find_average(type = 1, data=result_h6,_n_hist = _n_hist,_n_samples=_n_samples,\n",
    "                            delete_list=delete_list_h6)"
   ]
  },
  {
   "cell_type": "code",
   "execution_count": 220,
   "metadata": {},
   "outputs": [
    {
     "name": "stdout",
     "output_type": "stream",
     "text": [
      "[[15.66468644 14.10610853 11.62106739  8.80071271  5.84762413]\n",
      " [16.39318718 14.81643604 12.11051149  9.0902469   6.21992299]\n",
      " [16.3488307  14.75894254 11.90652423  9.39887294  5.9857516 ]\n",
      " [16.74739082 14.72278863 12.19676347  9.21590383  6.09939173]\n",
      " [14.64448123 13.04476275 10.87146446  8.57641716  5.90354619]\n",
      " [15.67382212 14.02690441 11.31213884  8.71428035  5.81022966]\n",
      " [16.68010299 14.71821217 12.22584115  9.52070061  6.19304258]\n",
      " [17.58366859 15.76160304 13.11689303 10.02745091  6.62190303]\n",
      " [17.03117511 15.22405875 12.4027037   9.65472929  6.53885408]\n",
      " [17.48460038 15.49579485 12.50180617  9.77401447  6.35396743]]\n"
     ]
    }
   ],
   "source": [
    "print(avg_h6_t2)"
   ]
  },
  {
   "cell_type": "code",
   "execution_count": 218,
   "metadata": {},
   "outputs": [],
   "source": [
    "data_h2 = load_data(_n=2,_n_file=7,start=0)\n",
    "result_h2 = cal_result(data=data_h2,_n_hist = _n_hist,_n_samples=_n_samples,std=std)\n",
    "avg_h2_t2 ,std_h2_t2= find_average(type = 2, data=result_h2,_n_hist = _n_hist,_n_samples=_n_samples)\n",
    "avg_h2_t3,delete_list_h2 = temp_method(data=avg_h2_t2)\n",
    "\n",
    "avg_h2 ,std_h2= find_average(type = 1, data=result_h2,_n_hist = _n_hist,_n_samples=_n_samples,\n",
    "                            delete_list=delete_list_h2)"
   ]
  },
  {
   "cell_type": "code",
   "execution_count": 186,
   "metadata": {},
   "outputs": [],
   "source": [
    "data_h10 = load_data(_n=10,_n_file=7,start=0)\n",
    "result_h10 = cal_result(data=data_h10,_n_hist = _n_hist,_n_samples=_n_samples,std=std)\n",
    "avg_h10_t2 ,std_h10_t2= find_average(type = 2, data=result_h10,_n_hist = _n_hist,_n_samples=_n_samples)\n",
    "avg_h10_t3,delete_list_h10 = temp_method(data=avg_h10_t2)\n",
    "\n",
    "avg_h10 ,std_h10= find_average(type = 1, data=result_h10,_n_hist = _n_hist,_n_samples=_n_samples,\n",
    "                            delete_list=delete_list_h10)"
   ]
  },
  {
   "cell_type": "code",
   "execution_count": 155,
   "metadata": {},
   "outputs": [],
   "source": [
    "### H, F1, F2, F3, F4를 모델별로 구분 (5*5로 구성) type = 2\n",
    "_back = 5\n",
    "_front = 0\n",
    "#avg_h12_t2 ,std_h12_t2= find_average(type = 2, data=result_h12,_n_hist = _n_hist,_n_samples=_n_samples)\n",
    "avg_h10_t2 ,std_h10_t2= find_average(type = 2,data=result_h10,_n_hist = _n_hist,_n_samples=_n_samples,back=_back,front=_front)\n",
    "avg_h8_t2 ,std_h8_t2= find_average(type = 2, data=result_h8,_n_hist = _n_hist,_n_samples=_n_samples,back=_back,front=_front)\n",
    "avg_h6_t2 ,std_h6_t2= find_average(type = 2, data=result_h6,_n_hist = _n_hist,_n_samples=_n_samples,back=_back,front=_front)\n",
    "avg_h4_t2 ,std_h4_t2= find_average(type = 2, data=result_h4,_n_hist = _n_hist,_n_samples=_n_samples,back=_back,front=_front)\n",
    "avg_h2_t2 ,std_h2_t2= find_average(type = 2, data=result_h2,_n_hist = _n_hist,_n_samples=_n_samples,back=_back,front=_front)\n",
    "\n",
    "#avg_h12_t3,delete_list_h12 = temp_method(data=avg_h12_t2)\n",
    "avg_h10_t3,delete_list_h10 = temp_method(data=avg_h10_t2)\n",
    "avg_h8_t3,delete_list_h8 = temp_method(data=avg_h8_t2)\n",
    "avg_h6_t3,delete_list_h6 = temp_method(data=avg_h6_t2)\n",
    "avg_h4_t3,delete_list_h4 = temp_method(data=avg_h4_t2)\n",
    "avg_h2_t3,delete_list_h2 = temp_method(data=avg_h2_t2)"
   ]
  },
  {
   "cell_type": "code",
   "execution_count": 14,
   "metadata": {},
   "outputs": [],
   "source": [
    "_x_avg = list()\n",
    "_x_std = list()\n",
    "'''\n",
    "for i in range(0,5) :\n",
    "    _x_tmp = [#np.average(avg_h12_t2[:,i]),\n",
    "             np.average(avg_h10_t2[:,i]),\n",
    "             np.average(avg_h8_t2[:,i]),\n",
    "             np.average(avg_h6_t2[:,i]),\n",
    "             np.average(avg_h4_t2[:,i]),\n",
    "             np.average(avg_h2_t2[:,i])]\n",
    "    _x_tmp_std = [#np.std(avg_h12_t2[:,i]),\n",
    "             np.std(avg_h10_t2[:,i]),\n",
    "             np.std(avg_h8_t2[:,i]),\n",
    "             np.std(avg_h6_t2[:,i]),\n",
    "             np.std(avg_h4_t2[:,i]),\n",
    "             np.std(avg_h2_t2[:,i])]\n",
    " '''\n",
    "for i in range(4,-1,-2) :\n",
    "    _x_tmp = [np.average(avg_h2_t3[:,i]),\n",
    "#             np.average(avg_h4_t3[:,i]),\n",
    "             np.average(avg_h6_t3[:,i]),\n",
    "#             np.average(avg_h8_t3[:,i]),\n",
    "             np.average(avg_h10_t3[:,i])]#,np.average(avg_h12_t2[:,i])]\n",
    "    _x_tmp_std = [np.std(avg_h2_t3[:,i]),\n",
    "#            np.std(avg_h4_t3[:,i]),\n",
    "             np.std(avg_h6_t3[:,i]),\n",
    "#           np.std(avg_h8_t3[:,i]),\n",
    "             np.std(avg_h10_t3[:,i])]#,np.std(avg_h12_t2[:,i])]\n",
    "    _x_avg.append(_x_tmp)\n",
    "    _x_std.append(_x_tmp_std)\n"
   ]
  },
  {
   "cell_type": "code",
   "execution_count": 15,
   "metadata": {
    "scrolled": true
   },
   "outputs": [
    {
     "data": {
      "text/plain": [
       "Text(0, 0.5, 'Average Error Distance(cm)')"
      ]
     },
     "execution_count": 15,
     "metadata": {},
     "output_type": "execute_result"
    },
    {
     "data": {
      "image/png": "[encoded data removed]",
      "text/plain": [
       "<Figure size 432x288 with 1 Axes>"
      ]
     },
     "metadata": {
      "needs_background": "light"
     },
     "output_type": "display_data"
    }
   ],
   "source": [
    "_x = pd.DataFrame(_x_avg,columns = pd.Index(['2','6','10'], name=\"hist length\"),index =['F2','F4','H'])\n",
    "_x_std = pd.DataFrame(_x_std,columns = [#'12',\n",
    "                                        '2','6','10'],index =['F2','F4','H'])\n",
    "ax1 = _x.plot(kind='bar',yerr=_x_std,capsize=2, rot=0,width=0.8, ylim=(4,18),figsize=(6,4))\n",
    "#ax1.set_title('Diffrences of history length')\n",
    "ax1.set_xlabel('Target Robots')\n",
    "ax1.set_ylabel('Average Error Distance(cm)')\n"
   ]
  },
  {
   "cell_type": "code",
   "execution_count": 31,
   "metadata": {},
   "outputs": [
    {
     "name": "stdout",
     "output_type": "stream",
     "text": [
      "hist length          2         4,          6          8         10\n",
      "F4            5.651216   5.963789   5.992584   6.119741   6.136541\n",
      "F3            8.782341   9.011615   9.044003   9.019692   8.670375\n",
      "F2           11.534062  11.799594  11.829401  11.438536  10.929325\n",
      "F1           14.407391  14.558028  14.486236  13.934742  13.011049\n",
      "H            16.469746  16.407351  16.165583  15.582409  14.501856\n"
     ]
    }
   ],
   "source": [
    "print(_x)"
   ]
  },
  {
   "cell_type": "code",
   "execution_count": 18,
   "metadata": {},
   "outputs": [
    {
     "name": "stdout",
     "output_type": "stream",
     "text": [
      "           2        4,         6         8        10\n",
      "F4  0.041780  0.261008  0.153235  0.121789  0.075005\n",
      "F3  0.077549  0.307089  0.255158  0.143734  0.076006\n",
      "F2  0.148878  0.418098  0.325849  0.140556  0.144241\n",
      "F1  0.260449  0.325016  0.344918  0.314369  0.315421\n",
      "H   0.212230  0.329147  0.428161  0.284743  0.240340\n"
     ]
    }
   ],
   "source": [
    "print(_x_std)"
   ]
  },
  {
   "cell_type": "code",
   "execution_count": null,
   "metadata": {},
   "outputs": [],
   "source": []
  },
  {
   "cell_type": "code",
   "execution_count": null,
   "metadata": {},
   "outputs": [],
   "source": [
    "6.92 7.74 8.2 8.39 8.729"
   ]
  },
  {
   "cell_type": "code",
   "execution_count": 26,
   "metadata": {},
   "outputs": [
    {
     "name": "stdout",
     "output_type": "stream",
     "text": [
      "2.1618718532783996\n",
      "1.6276140523982665\n",
      "1.8437335815185243\n",
      "1.2288995817401425\n",
      "---\n",
      "2.391079109477534\n",
      "1.8612566393097385\n",
      "2.069451601648044\n",
      "1.420003764204811\n",
      "---\n",
      "2.58644652933061\n",
      "2.1288593852485356\n",
      "2.119510919911093\n",
      "1.364264803739827\n",
      "---\n",
      "2.5516928421043445\n",
      "2.1035837878256114\n",
      "2.118423551259328\n",
      "1.6125068039216153\n",
      "---\n",
      "2.5884840166743013\n",
      "2.0796200827701874\n",
      "2.340125185321776\n",
      "1.7537142892591415\n",
      "---\n",
      "    F4        F3        F2        F1         H\n",
      "10   0  2.161872  3.789486  5.633219  6.862119\n",
      "8    0  2.391079  4.252336  6.321787  7.741791\n",
      "6    0  2.586447  4.715306  6.834817  8.199082\n",
      "4    0  2.551693  4.655277  6.773700  8.386207\n",
      "2    0  2.588484  4.668104  7.008229  8.761944\n"
     ]
    },
    {
     "data": {
      "text/plain": [
       "<matplotlib.legend.Legend at 0x3a90017f60>"
      ]
     },
     "execution_count": 26,
     "metadata": {},
     "output_type": "execute_result"
    },
    {
     "data": {
      "image/png": "[encoded data removed]",
      "text/plain": [
       "<Figure size 432x288 with 1 Axes>"
      ]
     },
     "metadata": {
      "needs_background": "light"
     },
     "output_type": "display_data"
    }
   ],
   "source": [
    "_robots = ['H','F1','F2','F3','F4']\n",
    "_hist_len = ['10','8','6','4','2']\n",
    "#_a = [5.1585, 5.3218, 5.2672, 5.0755, 4.8117]\n",
    "_a = [0,0,0,0,0]\n",
    "slope = list()\n",
    "for i in range(5) :\n",
    "    _tmp_slope = list()\n",
    "    _tmp_slope.append(_a[i])\n",
    "    for j in range(3,-1,-1) :\n",
    "        _slope = _x[_hist_len[i]][_robots[j]]-_x[_hist_len[i]][_robots[j+1]]\n",
    "        _a[i]+=_slope\n",
    "        _tmp_slope.append(_a[i])\n",
    "        print(_slope)\n",
    "    print('---')\n",
    "    slope.append(_tmp_slope)\n",
    "\n",
    "\n",
    "slopes = pd.DataFrame(slope, columns =['F4','F3','F2','F1','H'],index=['10','8','6','4','2'])\n",
    "print(slopes)\n",
    "slope = np.array(slope)\n",
    "for i in range(5) :\n",
    "    plt.plot(slope[:][i],label='{}'.format(_robots[i]))\n",
    "\n",
    "#plt.xticks(['F4->F3','F3->F2','F3->F2','F2->F1','F1->H'])\n",
    "plt.legend()"
   ]
  },
  {
   "cell_type": "code",
   "execution_count": 22,
   "metadata": {},
   "outputs": [
    {
     "data": {
      "text/plain": [
       "Text(0.5, 0, 'Robot')"
      ]
     },
     "execution_count": 22,
     "metadata": {},
     "output_type": "execute_result"
    },
    {
     "data": {
      "image/png": "[encoded data removed]",
      "text/plain": [
       "<Figure size 432x288 with 1 Axes>"
      ]
     },
     "metadata": {
      "needs_background": "light"
     },
     "output_type": "display_data"
    }
   ],
   "source": [
    "_x_name = ['F4','F3','F2','F1','H']\n",
    "\n",
    "\n",
    "for i in range(5) :\n",
    "    plt.errorbar(_x_name,slope[:][i],label='{}'.format(_robots[i]),fmt=\"o-\")\n",
    "    \n",
    "plt.legend()\n",
    "plt.ylabel('Sum of the slopes')\n",
    "plt.xlabel('Robot')\n"
   ]
  },
  {
   "cell_type": "code",
   "execution_count": 41,
   "metadata": {},
   "outputs": [
    {
     "name": "stdout",
     "output_type": "stream",
     "text": [
      "[6.86211907 7.74179111 8.19908164 8.38620699 8.76194357]\n"
     ]
    }
   ],
   "source": [
    "print(slope[:,4])"
   ]
  },
  {
   "cell_type": "code",
   "execution_count": 19,
   "metadata": {},
   "outputs": [
    {
     "ename": "IndexError",
     "evalue": "index 3 is out of bounds for axis 1 with size 3",
     "output_type": "error",
     "traceback": [
      "\u001b[1;31m---------------------------------------------------------------------------\u001b[0m",
      "\u001b[1;31mIndexError\u001b[0m                                Traceback (most recent call last)",
      "\u001b[1;32m<ipython-input-19-7a1a0fb2cfaa>\u001b[0m in \u001b[0;36m<module>\u001b[1;34m\u001b[0m\n\u001b[0;32m     12\u001b[0m \u001b[1;33m\u001b[0m\u001b[0m\n\u001b[0;32m     13\u001b[0m \u001b[1;32mfor\u001b[0m \u001b[0mi\u001b[0m \u001b[1;32min\u001b[0m \u001b[0mrange\u001b[0m\u001b[1;33m(\u001b[0m\u001b[1;36m0\u001b[0m\u001b[1;33m,\u001b[0m\u001b[1;36m5\u001b[0m\u001b[1;33m)\u001b[0m \u001b[1;33m:\u001b[0m\u001b[1;33m\u001b[0m\u001b[1;33m\u001b[0m\u001b[0m\n\u001b[1;32m---> 14\u001b[1;33m     \u001b[0mplt\u001b[0m\u001b[1;33m.\u001b[0m\u001b[0merrorbar\u001b[0m\u001b[1;33m(\u001b[0m\u001b[0mx\u001b[0m\u001b[1;33m,\u001b[0m\u001b[0m_x_avg\u001b[0m\u001b[1;33m[\u001b[0m\u001b[1;33m:\u001b[0m\u001b[1;33m,\u001b[0m\u001b[0mi\u001b[0m\u001b[1;33m]\u001b[0m\u001b[1;33m,\u001b[0m\u001b[0m_x_std\u001b[0m\u001b[1;33m[\u001b[0m\u001b[1;33m:\u001b[0m\u001b[1;33m,\u001b[0m\u001b[0mi\u001b[0m\u001b[1;33m]\u001b[0m\u001b[1;33m,\u001b[0m\u001b[0mfmt\u001b[0m\u001b[1;33m=\u001b[0m\u001b[1;34m\"o-\"\u001b[0m\u001b[1;33m,\u001b[0m\u001b[0mcapsize\u001b[0m\u001b[1;33m=\u001b[0m\u001b[1;36m1\u001b[0m\u001b[1;33m,\u001b[0m\u001b[0mlabel\u001b[0m \u001b[1;33m=\u001b[0m \u001b[1;34m'{}'\u001b[0m\u001b[1;33m.\u001b[0m\u001b[0mformat\u001b[0m\u001b[1;33m(\u001b[0m\u001b[0mlabels\u001b[0m\u001b[1;33m[\u001b[0m\u001b[0mi\u001b[0m\u001b[1;33m]\u001b[0m\u001b[1;33m)\u001b[0m\u001b[1;33m)\u001b[0m\u001b[1;33m\u001b[0m\u001b[1;33m\u001b[0m\u001b[0m\n\u001b[0m\u001b[0;32m     15\u001b[0m \u001b[0mplt\u001b[0m\u001b[1;33m.\u001b[0m\u001b[0mtitle\u001b[0m\u001b[1;33m(\u001b[0m\u001b[1;34m''\u001b[0m\u001b[1;33m)\u001b[0m\u001b[1;33m\u001b[0m\u001b[1;33m\u001b[0m\u001b[0m\n\u001b[0;32m     16\u001b[0m \u001b[0mplt\u001b[0m\u001b[1;33m.\u001b[0m\u001b[0mlegend\u001b[0m\u001b[1;33m(\u001b[0m\u001b[1;33m)\u001b[0m\u001b[1;33m\u001b[0m\u001b[1;33m\u001b[0m\u001b[0m\n",
      "\u001b[1;31mIndexError\u001b[0m: index 3 is out of bounds for axis 1 with size 3"
     ]
    },
    {
     "data": {
      "image/png": "[encoded data removed]",
      "text/plain": [
       "<Figure size 432x288 with 1 Axes>"
      ]
     },
     "metadata": {
      "needs_background": "light"
     },
     "output_type": "display_data"
    }
   ],
   "source": [
    "#x = list()\n",
    "#for i in range(0,len(avg_h12[0])) :\n",
    "#    x.append(i)\n",
    "title = ['H','F1','F2','F3','F4']\n",
    "\n",
    "x = ['F4','F3','F2','F1','H']\n",
    "labels = ['2','4','6','8','10']\n",
    "_num = 0\n",
    "\n",
    "_x_avg = np.array(_x_avg)\n",
    "_x_std = np.array(_x_std)\n",
    "\n",
    "for i in range(0,5) :\n",
    "    plt.errorbar(x,_x_avg[:,i],_x_std[:,i],fmt=\"o-\",capsize=1,label = '{}'.format(labels[i]))\n",
    "plt.title('')\n",
    "plt.legend()\n",
    "plt.xlabel('Target Robots')\n",
    "plt.ylabel('Average Error Distance(cm)')\n",
    "\n",
    "plt.show()"
   ]
  },
  {
   "cell_type": "code",
   "execution_count": 23,
   "metadata": {},
   "outputs": [
    {
     "data": {
      "image/png": "[encoded data removed]",
      "text/plain": [
       "<Figure size 432x288 with 1 Axes>"
      ]
     },
     "metadata": {
      "needs_background": "light"
     },
     "output_type": "display_data"
    }
   ],
   "source": [
    "_n = 4\n",
    "_title = ['H','F1','F2','F3','F4']\n",
    "\n",
    "_x = list()\n",
    "for i in range(0,_n+11):\n",
    "    _x.append(i)\n",
    "    \n",
    "    \n",
    "plt.errorbar(_x,avg_h10[_n,:11+_n],yerr=std_h10[_n,:11+_n],label='10',capsize=2,fmt=\"o-\")\n",
    "#plt.errorbar(_x,avg_h8[_n,:9+_n],yerr=std_h8[_n,:9+_n],label='8',capsize=2,fmt=\"o-\")\n",
    "plt.errorbar(_x,avg_h6[_n,:11+_n],yerr=std_h6[_n,:11+_n],label='6',capsize=2,fmt=\"o-\")\n",
    "#plt.errorbar(_x,avg_h4[_n,:9+_n],yerr=std_h4[_n,:9+_n],label='4',capsize=2,fmt=\"o-\")\n",
    "plt.errorbar(_x,avg_h2[_n,:11+_n],yerr=std_h2[_n,:11+_n],label='2',capsize=2,fmt=\"o-\")\n",
    "plt.legend()\n",
    "plt.ylim((0,15))\n",
    "\n",
    "plt.xlabel('Time step (0.5 sec)')\n",
    "plt.ylabel('Average Distance Error(cm)')\n",
    "plt.title('Target Robot : {}'.format(_title[_n]))\n",
    "plt.show()"
   ]
  },
  {
   "cell_type": "code",
   "execution_count": 31,
   "metadata": {},
   "outputs": [
    {
     "name": "stdout",
     "output_type": "stream",
     "text": [
      "[[1.10172654]\n",
      " [0.92898245]\n",
      " [0.8676439 ]\n",
      " [0.8174056 ]\n",
      " [0.83611389]\n",
      " [0.85953863]\n",
      " [0.96324895]\n",
      " [0.83986379]\n",
      " [0.71816259]\n",
      " [0.79880829]\n",
      " [0.87596488]\n",
      " [0.93667922]\n",
      " [0.97821799]\n",
      " [0.97283738]]\n",
      "[[1.0534522 ]\n",
      " [0.95899488]\n",
      " [0.75549676]\n",
      " [0.76164749]\n",
      " [0.87301466]\n",
      " [0.86392126]\n",
      " [0.93478257]\n",
      " [0.83036728]\n",
      " [0.73701012]\n",
      " [0.76245803]\n",
      " [0.8328676 ]\n",
      " [0.93222404]\n",
      " [0.94669522]\n",
      " [0.90950374]]\n",
      "[[0.99296211]\n",
      " [0.8046825 ]\n",
      " [0.71108421]\n",
      " [0.7278634 ]\n",
      " [0.86640906]\n",
      " [0.89086684]\n",
      " [0.93049008]\n",
      " [0.81183417]\n",
      " [0.71984257]\n",
      " [0.78919549]\n",
      " [0.89343441]\n",
      " [0.9710476 ]\n",
      " [0.9801294 ]\n",
      " [0.95707034]]\n"
     ]
    }
   ],
   "source": [
    "_n = 4\n",
    "h10_substract = list()\n",
    "h6_substract = list()\n",
    "h2_substract = list()\n",
    "for i in range(0,11+_n-1) :\n",
    "    h10_substract.append(avg_h10[_n,i+1:i+2]-avg_h10[_n,i:i+1])\n",
    "    h6_substract.append(avg_h6[_n,i+1:i+2]-avg_h6[_n,i:i+1])\n",
    "    h2_substract.append(avg_h2[_n,i+1:i+2]-avg_h2[_n,i:i+1])\n",
    "    \n",
    "h10_substract = np.array(h10_substract)\n",
    "h6_substract = np.array(h6_substract)\n",
    "h2_substract = np.array(h2_substract)\n",
    "\n",
    "print(h10_substract)\n",
    "print(h6_substract)\n",
    "print(h2_substract)"
   ]
  },
  {
   "cell_type": "code",
   "execution_count": 63,
   "metadata": {},
   "outputs": [
    {
     "name": "stdout",
     "output_type": "stream",
     "text": [
      "-0.30416303840471204\n",
      "16.165583451459895\n",
      "16.469746489864608\n"
     ]
    }
   ],
   "source": [
    "_n = 0\n",
    "print(np.average(avg_h6[_n,:11]-avg_h2[_n,:11]))\n",
    "print(np.average(avg_h6[_n,:11]))\n",
    "print(np.average(avg_h2[_n,:11]))"
   ]
  },
  {
   "cell_type": "code",
   "execution_count": 42,
   "metadata": {},
   "outputs": [
    {
     "data": {
      "image/png": "[encoded data removed]",
      "text/plain": [
       "<Figure size 432x288 with 1 Axes>"
      ]
     },
     "metadata": {
      "needs_background": "light"
     },
     "output_type": "display_data"
    }
   ],
   "source": [
    "_n = 0\n",
    "_title = ['H','F1','F2','F3','F4']\n",
    "\n",
    "_x = list()\n",
    "for i in range(0,_n+11):\n",
    "    _x.append(i)\n",
    "    \n",
    "    \n",
    "plt.errorbar(_x,avg_h10[_n,:11+_n],yerr=std_h10[_n,:11+_n],label='10',capsize=2,fmt=\"o-\")\n",
    "#plt.errorbar(_x,avg_h8[_n,:11+_n],yerr=std_h8[_n,:11+_n],label='8',capsize=2,fmt=\"o-\")\n",
    "plt.errorbar(_x,avg_h6[_n,:11+_n],yerr=std_h6[_n,:11+_n],label='6',capsize=2,fmt=\"o-\")\n",
    "#plt.errorbar(_x,avg_h4[_n,:11+_n],yerr=std_h4[_n,:11+_n],label='4',capsize=2,fmt=\"o-\")\n",
    "plt.errorbar(_x,avg_h2[_n,:11+_n],yerr=std_h2[_n,:11+_n],label='2',capsize=2,fmt=\"o-\")\n",
    "plt.legend()\n",
    "plt.ylim((0,35))\n",
    "plt.xlabel('Time step (0.5 sec)')\n",
    "plt.ylabel('Average Distance Error(cm)')\n",
    "plt.title('Target Robot : {}'.format(_title[_n]))\n",
    "plt.show()"
   ]
  },
  {
   "cell_type": "code",
   "execution_count": 35,
   "metadata": {},
   "outputs": [
    {
     "data": {
      "image/png": "[encoded data removed]",
      "text/plain": [
       "<Figure size 432x288 with 1 Axes>"
      ]
     },
     "metadata": {
      "needs_background": "light"
     },
     "output_type": "display_data"
    }
   ],
   "source": [
    "_n = 4\n",
    "_title = ['H','F1','F2','F3','F4']\n",
    "\n",
    "_x = list()\n",
    "for i in range(0,_n+11):\n",
    "    _x.append(i)\n",
    "    \n",
    "    \n",
    "plt.errorbar(_x,avg_h10[_n,:11+_n],yerr=std_h10[_n,:11+_n],label='10',capsize=2,fmt=\"o-\")\n",
    "#plt.errorbar(_x,avg_h8[_n,:9+_n],yerr=std_h8[_n,:9+_n],label='8',capsize=2,fmt=\"o-\")\n",
    "plt.errorbar(_x,avg_h6[_n,:11+_n],yerr=std_h6[_n,:11+_n],label='6',capsize=2,fmt=\"o-\")\n",
    "#plt.errorbar(_x,avg_h4[_n,:9+_n],yerr=std_h4[_n,:9+_n],label='4',capsize=2,fmt=\"o-\")\n",
    "plt.errorbar(_x,avg_h2[_n,:11+_n],yerr=std_h2[_n,:11+_n],label='2',capsize=2,fmt=\"o-\")\n",
    "plt.legend()\n",
    "plt.xlabel('Time step (0.5 sec)')\n",
    "plt.ylim((0,30))\n",
    "\n",
    "plt.ylabel('Average Distance Error(cm)')\n",
    "plt.title('Target Robot : {}'.format(_title[_n]))\n",
    "plt.show()"
   ]
  },
  {
   "cell_type": "code",
   "execution_count": 64,
   "metadata": {},
   "outputs": [
    {
     "data": {
      "image/png": "[encoded data removed]",
      "text/plain": [
       "<Figure size 720x432 with 1 Axes>"
      ]
     },
     "metadata": {
      "needs_background": "light"
     },
     "output_type": "display_data"
    }
   ],
   "source": [
    "s_line = ['o-','o--','o--','o','o-']\n",
    "\n",
    "fig, ax1 = plt.subplots(nrows=1,ncols=1, sharey=False, figsize=(10, 6))\n",
    "\n",
    "for _n in range(0,5,2) :\n",
    "    _x = list()\n",
    "    for i in range(0,_n+11):\n",
    "        _x.append(i)\n",
    "    ax1 = plt.errorbar(_x,avg_h10[_n,:11+_n],yerr=std_h10[_n,:11+_n],label='10',capsize=3,fmt=s_line[_n],color='blue')\n",
    "    #plt.errorbar(_x,avg_h8[_n,:9+_n],yerr=std_h8[_n,:9+_n],label='8',capsize=2,fmt=\"o-\")\n",
    "    ax1 = plt.errorbar(_x,avg_h6[_n,:11+_n],yerr=std_h6[_n,:11+_n],label='6',capsize=3,fmt=s_line[_n],color='orange')\n",
    "    #plt.errorbar(_x,avg_h4[_n,:9+_n],yerr=std_h4[_n,:9+_n],label='4',capsize=2,fmt=\"o-\")\n",
    "    ax1 = plt.errorbar(_x,avg_h2[_n,:11+_n],yerr=std_h2[_n,:11+_n],label='2',capsize=3,fmt=s_line[_n],color='g')\n",
    "    \n",
    "\n"
   ]
  },
  {
   "cell_type": "code",
   "execution_count": 29,
   "metadata": {},
   "outputs": [
    {
     "name": "stdout",
     "output_type": "stream",
     "text": [
      "0 --- 10 6 2 순\n",
      "[ 1.79603623  4.24526034  6.71139132  9.35849489 11.86208447 14.43782438\n",
      " 16.92411383 19.56619345 22.1878947  24.86444221 27.56667687]\n",
      "[ 1.90399965  4.60409224  7.43763853 10.31650554 13.12657748 16.09946004\n",
      " 18.95231369 21.93835957 24.84535785 27.81429906 30.78281432]\n",
      "[ 1.88505653  5.03698721  7.85150656 10.79750821 13.58984659 16.50595578\n",
      " 19.34537726 22.26209542 25.09292669 27.9612503  30.83870084]\n",
      "2 --- 10 6 2 순\n",
      "[ 1.7694081   3.5868066   5.44005068  7.36389785  9.2372677  11.05754833\n",
      " 12.74130222 14.53546552 16.33278188 18.15798863 20.00005898 21.92202635\n",
      " 23.85370715]\n",
      "[ 1.83194107  3.71620083  5.78268117  7.78172024  9.82911359 11.91599482\n",
      " 13.84255707 15.86280996 17.86295594 19.87489188 21.82254536 23.82969203\n",
      " 25.89418268]\n",
      "[ 1.67222728  3.78422034  5.68366185  7.69194755  9.66622486 11.63034369\n",
      " 13.45940449 15.42215819 17.35615381 19.29642252 21.21191805 23.15470451\n",
      " 25.13898438]\n",
      "4 --- 10 6 2 순\n",
      "[ 1.59443279  2.69615934  3.62514179  4.49278569  5.31019129  6.14630518\n",
      "  7.00584381  7.96909275  8.80895654  9.52711914 10.32592742 11.2018923\n",
      " 12.13857152 13.11678952 14.08962689]\n",
      "[ 1.57754882  2.63100103  3.58999591  4.34549267  5.10714016  5.98015482\n",
      "  6.84407608  7.77885866  8.60922594  9.34623607 10.10869409 10.9415617\n",
      " 11.87378573 12.82048095 13.72998469]\n",
      "[ 1.46988738  2.46284949  3.26753199  3.9786162   4.7064796   5.57288866\n",
      "  6.46375551  7.39424558  8.20607975  8.92592232  9.71511781 10.60855222\n",
      " 11.57959982 12.55972922 13.51679955]\n"
     ]
    }
   ],
   "source": [
    "_n = 0\n",
    "for _n in range(0,5,2) :\n",
    "    print( '{} --- 10 6 2 순'.format(_n))\n",
    "    print(avg_h10[_n,:11+_n])\n",
    "    print(avg_h6[_n,:11+_n])\n",
    "    print(avg_h2[_n,:11+_n])"
   ]
  },
  {
   "cell_type": "markdown",
   "metadata": {},
   "source": [
    "# slopes"
   ]
  },
  {
   "cell_type": "code",
   "execution_count": 29,
   "metadata": {},
   "outputs": [
    {
     "name": "stdout",
     "output_type": "stream",
     "text": [
      "H\n",
      "H10 = 0 : 1.6688786363741432  // 8 : 22.366707531530242 // dist = 20.6978288951561, slope = 2.2997587661284555\n",
      "H8 = 0 : 1.807039903136256  // 8 : 24.495460490235484 // dist = 22.688420587099227, slope = 2.520935620788803\n",
      "H6 = 0 : 1.9128729584895325  // 8 : 25.19942901042917 // dist = 23.286556051939638, slope = 2.587395116882182\n",
      "H4 = 0 : 1.8427573881694013  // 8 : 25.018878097760876 // dist = 23.176120709591473, slope = 2.5751245232879416\n",
      "H2 = 0 : 1.817928896321474  // 8 : 25.161959624284147 // dist = 23.344030727962675, slope = 2.593781191995853\n",
      "------------\n",
      "F1\n",
      "H10 = 0 : 1.632578054213261  // 9 : 22.092686800919655 // dist = 20.460108746706393, slope = 2.0460108746706394\n",
      "H8 = 0 : 1.73166332381356  // 9 : 23.978568358709936 // dist = 22.246905034896375, slope = 2.2246905034896374\n",
      "H6 = 0 : 1.8438314258211062  // 9 : 24.98918710520378 // dist = 23.145355679382675, slope = 2.3145355679382673\n",
      "H4 = 0 : 1.7419687276882856  // 9 : 24.33176875658653 // dist = 22.589800028898246, slope = 2.2589800028898246\n",
      "H2 = 0 : 1.7072455712642192  // 9 : 24.224037955056406 // dist = 22.516792383792186, slope = 2.251679238379219\n",
      "------------\n",
      "F2\n",
      "H10 = 0 : 1.6112829001976072  // 10 : 19.72995060036366 // dist = 18.118667700166053, slope = 1.6471516091060048\n",
      "H8 = 0 : 1.6977256482415768  // 10 : 21.17568139878173 // dist = 19.477955750540154, slope = 1.770723250049105\n",
      "H6 = 0 : 1.7441129897483412  // 10 : 22.183375425566826 // dist = 20.439262435818485, slope = 1.8581147668925895\n",
      "H4 = 0 : 1.675329049938037  // 10 : 21.67289954558071 // dist = 19.997570495642673, slope = 1.817960954149334\n",
      "H2 = 0 : 1.561127439651682  // 10 : 21.089320981032945 // dist = 19.528193541381263, slope = 1.7752903219437512\n",
      "------------\n",
      "F3\n",
      "H10 = 0 : 1.5726171763523826  // 11 : 16.703047643547368 // dist = 15.130430467194985, slope = 1.260869205599582\n",
      "H8 = 0 : 1.6094940248480227  // 11 : 17.7432182217262 // dist = 16.133724196878177, slope = 1.3444770164065147\n",
      "H6 = 0 : 1.64153307963044  // 11 : 18.108033184210733 // dist = 16.46650010458029, slope = 1.3722083420483575\n",
      "H4 = 0 : 1.6053981524178413  // 11 : 17.90361644385058 // dist = 16.29821829143274, slope = 1.358184857619395\n",
      "H2 = 0 : 1.5217517395491094  // 11 : 17.40338927592898 // dist = 15.88163753637987, slope = 1.3234697946983225\n",
      "------------\n",
      "F4\n",
      "H10 = 0 : 1.44101750191375  // 12 : 12.069935502655014 // dist = 10.628918000741264, slope = 0.8176090769800972\n",
      "H8 = 0 : 1.5217911062789502  // 12 : 12.242346729493832 // dist = 10.720555623214882, slope = 0.8246581248626832\n",
      "H6 = 0 : 1.4914607894526863  // 12 : 12.175640078310712 // dist = 10.684179288858026, slope = 0.8218599452967712\n",
      "H4 = 0 : 1.489462052227652  // 12 : 11.967402431509713 // dist = 10.47794037928206, slope = 0.8059954137909278\n",
      "H2 = 0 : 1.3317845503689638  // 12 : 11.65159474038866 // dist = 10.319810190019696, slope = 0.7938315530784382\n",
      "------------\n"
     ]
    }
   ],
   "source": [
    "_n_steps = 8\n",
    "_t_robot = ['H','F1','F2','F3','F4']\n",
    "for i in range(0,5) :\n",
    "    print(_t_robot[i])\n",
    "    print('H10 = 0 : {}  // {} : {} // dist = {}, slope = {}'.format(avg_h10[i][0],\n",
    "                                                                    _n_steps+i,\n",
    "                                                                    avg_h10[i][_n_steps+i],\n",
    "                                                                    avg_h10[i][_n_steps+i]-avg_h10[i][0],\n",
    "                                                                    (avg_h10[i][_n_steps+i]-avg_h10[i][0])/(_n_steps+i+1)))\n",
    "    print('H8 = 0 : {}  // {} : {} // dist = {}, slope = {}'.format(avg_h8[i][0],\n",
    "                                                                    _n_steps+i,\n",
    "                                                                    avg_h8[i][_n_steps+i],\n",
    "                                                                    avg_h8[i][_n_steps+i]-avg_h8[i][0],\n",
    "                                                                    (avg_h8[i][_n_steps+i]-avg_h8[i][0])/(_n_steps+i+1)))\n",
    "    print('H6 = 0 : {}  // {} : {} // dist = {}, slope = {}'.format(avg_h6[i][0],\n",
    "                                                                    _n_steps+i,\n",
    "                                                                    avg_h6[i][_n_steps+i],\n",
    "                                                                    avg_h6[i][_n_steps+i]-avg_h6[i][0],\n",
    "                                                                    (avg_h6[i][_n_steps+i]-avg_h6[i][0])/(_n_steps+i+1)))\n",
    "    print('H4 = 0 : {}  // {} : {} // dist = {}, slope = {}'.format(avg_h4[i][0],\n",
    "                                                                    _n_steps+i,\n",
    "                                                                    avg_h4[i][_n_steps+i],\n",
    "                                                                    avg_h4[i][_n_steps+i]-avg_h4[i][0],\n",
    "                                                                    (avg_h4[i][_n_steps+i]-avg_h4[i][0])/(_n_steps+i+1)))\n",
    "    print('H2 = 0 : {}  // {} : {} // dist = {}, slope = {}'.format(avg_h2[i][0],\n",
    "                                                                    _n_steps+i,\n",
    "                                                                    avg_h2[i][_n_steps+i],\n",
    "                                                                    avg_h2[i][_n_steps+i]-avg_h2[i][0],\n",
    "                                                                    (avg_h2[i][_n_steps+i]-avg_h2[i][0])/(_n_steps+i+1)))\n",
    "    print('------------')"
   ]
  },
  {
   "cell_type": "markdown",
   "metadata": {},
   "source": [
    "### Total average error"
   ]
  },
  {
   "cell_type": "code",
   "execution_count": 130,
   "metadata": {},
   "outputs": [],
   "source": [
    "def total_error(data='',length = 9) :\n",
    "    _sums = list()\n",
    "    for i in range(len(data)) :\n",
    "        _sum = 0\n",
    "#        _n = 0\n",
    "        for j in range(len(data[i])) :\n",
    "            _sum += data[i][j]*length\n",
    "#            _n += j\n",
    "        _sum /= length*len(data)\n",
    "        _sums.append(_sum)\n",
    "    return _sums, np.average(_sums), np.std(_sums)"
   ]
  },
  {
   "cell_type": "code",
   "execution_count": 131,
   "metadata": {},
   "outputs": [
    {
     "name": "stdout",
     "output_type": "stream",
     "text": [
      "[0, 1, 2, 3, 4, 5, 6, 7, 8, 9, 10, 11, 12]\n"
     ]
    }
   ],
   "source": [
    "print(_x)"
   ]
  },
  {
   "cell_type": "code",
   "execution_count": 134,
   "metadata": {},
   "outputs": [],
   "source": [
    "#_err_h12,_err_avg_h12,_err_std_h12 = total_error(data=avg_h12_t2,length=9)\n",
    "_err_h10,_err_avg_h10,_err_std_h10 = total_error(data=avg_h10_t2,length=9)\n",
    "_err_h8,_err_avg_h8,_err_std_h8 = total_error(data=avg_h8_t2,length=9)\n",
    "_err_h6,_err_avg_h6,_err_std_h6 = total_error(data=avg_h6_t2,length=9)\n",
    "_err_h4,_err_avg_h4,_err_std_h4 = total_error(data=avg_h4_t2,length=9)\n",
    "_err_h2,_err_avg_h2,_err_std_h2 = total_error(data=avg_h2_t2,length=9)"
   ]
  },
  {
   "cell_type": "code",
   "execution_count": 146,
   "metadata": {},
   "outputs": [
    {
     "name": "stdout",
     "output_type": "stream",
     "text": [
      "[6.274776323567874, 6.407933135263247, 6.16292697591676, 7.151624722311605, 6.161210639901734, 6.187722991102686, 6.450538396522844]\n",
      "[6.821547864225267, 6.896330907286384, 6.435259902603737, 6.68809121826789, 6.6748472589018295, 6.716475025740859, 7.019806394619217]\n"
     ]
    }
   ],
   "source": [
    "print(_err_h10)\n",
    "print(_err_h8)"
   ]
  },
  {
   "cell_type": "code",
   "execution_count": 140,
   "metadata": {},
   "outputs": [
    {
     "name": "stdout",
     "output_type": "stream",
     "text": [
      "4\n",
      "       10      8      6      4      2\n",
      "10  1.000  0.038  0.006  0.032  0.037\n",
      "8   0.038  1.000  0.126  0.497  0.849\n",
      "6   0.006  0.126  1.000  0.603  0.202\n",
      "4   0.032  0.497  0.603  1.000  0.605\n",
      "2   0.037  0.849  0.202  0.605  1.000\n"
     ]
    }
   ],
   "source": [
    "# _n = 로봇 (0 : H, 1 : F1 , 2 : F2, 3: F3, 4 : F4)\n",
    "Model_list = [_err_h10,_err_h8,_err_h6,_err_h4,_err_h2]\n",
    "result = np.array(np.zeros((5,5)))\n",
    "for i in range(0,5) :\n",
    "    for j in range(i,5) :\n",
    "        _result = stats.ttest_ind(Model_list[i],Model_list[j])\n",
    "        result[i][j] = \"%.3f\"%(_result[1])\n",
    "        result[j][i] = \"%.3f\"%(_result[1])\n",
    "        \n",
    "result = pd.DataFrame(result, columns = ['10','8','6','4','2'],index=['10','8','6','4','2'])\n",
    "print(_n)\n",
    "print(result)"
   ]
  },
  {
   "cell_type": "code",
   "execution_count": 141,
   "metadata": {},
   "outputs": [
    {
     "data": {
      "image/png": "[encoded data removed]",
      "text/plain": [
       "<Figure size 432x288 with 1 Axes>"
      ]
     },
     "metadata": {
      "needs_background": "light"
     },
     "output_type": "display_data"
    }
   ],
   "source": [
    "y = [_err_avg_h2,_err_avg_h4,_err_avg_h6,_err_avg_h10, _err_avg_h10]\n",
    "y_std = [_err_std_h2, _err_std_h4,_err_std_h6, _err_std_h8, _err_std_h10]\n",
    "plt.bar(('2','4','6','8','10'),y,yerr=y_std,capsize=3)\n",
    "plt.show()"
   ]
  },
  {
   "cell_type": "code",
   "execution_count": 31,
   "metadata": {},
   "outputs": [
    {
     "name": "stdout",
     "output_type": "stream",
     "text": [
      "[12.44218682405544, 12.310234991228146, 11.165278150760239, 9.613928821189576, 6.941146140112695]\n",
      "[12.30992270747948, 12.196881012126934, 11.048746141872178, 9.384620974801004, 6.880178745298116]\n",
      "[12.906406799760033, 12.801994526986713, 11.398650988462787, 9.819112239930162, 7.056302409573396]\n",
      "[13.294213867394243, 13.240431634885647, 11.862132352307993, 9.94735040897505, 6.916688435522271]\n",
      "[13.662237014594615, 13.280540925859645, 11.855396093637166, 9.95506422531625, 6.833654534199933]\n",
      "[13.695491901464239, 13.152771061844215, 11.527015975895829, 9.641508042385022, 6.594737030670194]\n"
     ]
    }
   ],
   "source": [
    "print(avg_err_h12)\n",
    "print(avg_err_h10)\n",
    "print(avg_err_h8)\n",
    "print(avg_err_h6)\n",
    "print(avg_err_h4)\n",
    "print(avg_err_h2)"
   ]
  },
  {
   "cell_type": "code",
   "execution_count": 32,
   "metadata": {},
   "outputs": [
    {
     "name": "stdout",
     "output_type": "stream",
     "text": [
      "10.494554985469218\n",
      "10.364069916315541\n",
      "10.796493392942619\n",
      "11.052163339817039\n",
      "11.117378558721521\n",
      "10.9223048024519\n"
     ]
    }
   ],
   "source": [
    "print(np.average(avg_err_h12))\n",
    "print(np.average(avg_err_h10))\n",
    "print(np.average(avg_err_h8))\n",
    "print(np.average(avg_err_h6))\n",
    "print(np.average(avg_err_h4))\n",
    "print(np.average(avg_err_h2))"
   ]
  },
  {
   "cell_type": "code",
   "execution_count": 127,
   "metadata": {},
   "outputs": [
    {
     "data": {
      "image/png": "[encoded data removed]",
      "text/plain": [
       "<Figure size 432x288 with 1 Axes>"
      ]
     },
     "metadata": {
      "needs_background": "light"
     },
     "output_type": "display_data"
    }
   ],
   "source": [
    "x = list()\n",
    "for i in range(0,len(avg_h12[0])) :\n",
    "    x.append(i)\n",
    "\n",
    "title = ['H','F1','F2','F3','F4']\n",
    "_num = 0\n",
    "\n",
    "#plt.errorbar(x[:len(avg_h12[0])-5+_num],avg_h12[_num,:len(avg_h12[0])-5+_num],std_h12[_num,:len(avg_h12[0])-5+_num],\n",
    "#                fmt=\"o-\",capsize=1,label = '12')\n",
    "plt.errorbar(x[:len(avg_h12[0])-5+_num],avg_h10[_num,:len(avg_h12[0])-5+_num],std_h10[_num,:len(avg_h12[0])-5+_num],\n",
    "                fmt=\"o-\",capsize=1,label = '10')\n",
    "plt.errorbar(x[:len(avg_h12[0])-5+_num],avg_h8[_num,:len(avg_h12[0])-5+_num],std_h8[_num,:len(avg_h12[0])-5+_num],\n",
    "                fmt=\"o-\",capsize=1,label = '8')\n",
    "#plt.errorbar(x[:len(avg_h12[0])-5+_num],avg_h6[_num,:len(avg_h6[0])-5+_num],std_h6[_num,:len(avg_h12[0])-5+_num],\n",
    "#                fmt=\"o-\",capsize=1,label = '6')\n",
    "plt.errorbar(x[:len(avg_h12[0])-5+_num],avg_h4[_num,:len(avg_h6[0])-5+_num],std_h4[_num,:len(avg_h12[0])-5+_num],\n",
    "               fmt=\"o-\",capsize=1,label = '4')\n",
    "#plt.errorbar(x[:len(avg_h12[0])-5+_num],avg_h2[_num,:len(avg_h6[0])-5+_num],std_h2[_num,:len(avg_h12[0])-5+_num],\n",
    "#               fmt=\"o-\",capsize=1,label = '2')\n",
    "#for i in range(0,len(avg_h12)) :\n",
    "#    plt.errorbar(x[:len(avg_h12[0])-5+i],avg_h12[i,:len(avg_h12[0])-5+i],std_h12[i,:len(avg_h12[0])-5+i],\n",
    "#                 fmt=\"o-\",capsize=3,label = '{}'.format(i))\n",
    "plt.title('{}'.format(title[_num]))\n",
    "plt.legend()\n",
    "plt.show()"
   ]
  },
  {
   "cell_type": "code",
   "execution_count": 125,
   "metadata": {},
   "outputs": [
    {
     "data": {
      "image/png": "[encoded data removed]",
      "text/plain": [
       "<Figure size 432x288 with 1 Axes>"
      ]
     },
     "metadata": {
      "needs_background": "light"
     },
     "output_type": "display_data"
    }
   ],
   "source": [
    "title = ['H','F1','F2','F3','F4']\n",
    "_num = 0\n",
    "\n",
    "#plt.plot(avg_h12[_num,:9+_num],label='12')\n",
    "plt.plot(avg_h10[_num,:9+_num],label='10')\n",
    "#plt.plot(avg_h8[_num,:9+_num],label='8')\n",
    "#plt.plot(avg_h6[_num,:9+_num],label='6')\n",
    "plt.plot(avg_h4[_num,:9+_num],label='4')\n",
    "#plt.plot(avg_h2[_num,:9+_num],label='2')\n",
    "\n",
    "plt.title('{}'.format(title[_num]))\n",
    "plt.legend()\n",
    "plt.show()\n"
   ]
  },
  {
   "cell_type": "code",
   "execution_count": 99,
   "metadata": {},
   "outputs": [
    {
     "name": "stdout",
     "output_type": "stream",
     "text": [
      "[4.59382440e+00 6.95970914e+00 9.37850775e+00 1.17810443e+01\n",
      " 1.42903600e+01 1.71090755e+01 2.00203165e+01 2.31482015e+01\n",
      " 2.61321616e+01 2.93718890e+01 3.29284286e+01 3.66212569e+01\n",
      " 4.01406024e+01 4.82843073e-16]\n",
      "[4.97193828e+00 7.78393950e+00 1.02082326e+01 1.24745225e+01\n",
      " 1.48124692e+01 1.74699366e+01 2.01371830e+01 2.29296228e+01\n",
      " 2.57155299e+01 2.87151276e+01 3.21168041e+01 3.56652474e+01\n",
      " 3.92739466e+01 4.82843073e-16]\n",
      "[5.30076451e+00 8.40726308e+00 1.11590078e+01 1.35117147e+01\n",
      " 1.60083852e+01 1.89471100e+01 2.17981162e+01 2.48206271e+01\n",
      " 2.77946647e+01 3.09543481e+01 3.45243805e+01 3.83634800e+01\n",
      " 4.21036852e+01 4.82843073e-16]\n",
      "[5.29678984e+00 8.22481885e+00 1.08202200e+01 1.35724632e+01\n",
      " 1.63734185e+01 1.93301195e+01 2.24648255e+01 2.56087727e+01\n",
      " 2.85392424e+01 3.19518567e+01 3.57067758e+01 3.95294086e+01\n",
      " 4.32094945e+01 4.82843073e-16]\n",
      "[5.27637791e+00 8.01284121e+00 1.06103069e+01 1.33291630e+01\n",
      " 1.62668577e+01 1.94184806e+01 2.26734377e+01 2.59558475e+01\n",
      " 2.92880746e+01 3.28515300e+01 3.65690703e+01 4.06008302e+01\n",
      " 4.44601995e+01 4.82843073e-16]\n",
      "[5.35784081e+00 8.08482306e+00 1.07196525e+01 1.33350325e+01\n",
      " 1.58483835e+01 1.87104195e+01 2.15607692e+01 2.45006414e+01\n",
      " 2.74709386e+01 3.07085240e+01 3.41238882e+01 3.77286336e+01\n",
      " 4.13062530e+01 4.82843073e-16]\n"
     ]
    }
   ],
   "source": [
    "print(avg_h2[_num])\n",
    "print(avg_h4[_num])\n",
    "print(avg_h6[_num])\n",
    "print(avg_h8[_num])\n",
    "print(avg_h10[_num])\n",
    "print(avg_h12[_num])"
   ]
  },
  {
   "cell_type": "code",
   "execution_count": null,
   "metadata": {},
   "outputs": [],
   "source": []
  }
 ],
 "metadata": {
  "kernelspec": {
   "display_name": "Python 3",
   "language": "python",
   "name": "python3"
  },
  "language_info": {
   "codemirror_mode": {
    "name": "ipython",
    "version": 3
   },
   "file_extension": ".py",
   "mimetype": "text/x-python",
   "name": "python",
   "nbconvert_exporter": "python",
   "pygments_lexer": "ipython3",
   "version": "3.6.8"
  }
 },
 "nbformat": 4,
 "nbformat_minor": 4
}
