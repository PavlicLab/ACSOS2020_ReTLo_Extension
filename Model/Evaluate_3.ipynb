{
 "cells": [
  {
   "cell_type": "code",
   "execution_count": null,
   "metadata": {},
   "outputs": [],
   "source": [
    "import numpy as np\n",
    "import pandas as pd\n",
    "import time\n",
    "import os\n",
    "import pathlib\n",
    "import copy\n",
    "\n",
    "import tensorflow as tf\n",
    "from matplotlib import pyplot as plt\n",
    "from tensorflow.keras import backend as K\n",
    "from tensorflow.keras import losses, optimizers\n",
    "from tensorflow.keras.models import Sequential, load_model\n",
    "import tensorflow.keras.layers as layers\n",
    "from tensorflow.keras.layers import Input, Activation, Dense, TimeDistributed,Conv2D,MaxPooling2D, Lambda,UpSampling2D\n",
    "from tensorflow.keras.layers import add, dot, concatenate, LSTM, Bidirectional,Reshape,Flatten\n",
    "import tensorflow.keras as keras\n",
    "from tensorflow.compat.v1.keras.layers import CuDNNLSTM, CuDNNGRU\n",
    "#from tf.compat.v1.keras.layers.CuDNNLSTM\n",
    "from Utils.PlotLosses import PlotLosses\n",
    "from Utils.Utils import dist_coordinates, TrainModel, s_DataFrame, s_relative_and_std, cal_accuracy, euclidean_distance_loss,set_input,s_labels, change_relative_coordinates, get_reculsive_error, re_coordinates\n",
    "from Utils.Utils import get_reculsive_error_m3_diff_timestep, get_reculsive_error_m123, get_reculsive_error_m3_only_nearest,cal_accuracy_tmp, dist_euclidean\n",
    "path = './Data_v2.0/7Robots/TestSet'\n",
    "data_test = pd.read_csv(path+'/Test.csv')\n",
    "\n",
    "std_coordinates = 500\n",
    "std_orientation = 180\n",
    "\n",
    "robots = ['H','F1','F2','F3','F4','F5','T']\n",
    "std_robot = 'T'\n",
    "coordinates = ['x','y']\n",
    "orientation = ['o']\n",
    "_n_hist = 10\n",
    "_n_samples = 26"
   ]
  },
  {
   "cell_type": "code",
   "execution_count": null,
   "metadata": {},
   "outputs": [],
   "source": [
    "K.clear_session()"
   ]
  },
  {
   "cell_type": "markdown",
   "metadata": {},
   "source": [
    "## Load model"
   ]
  },
  {
   "cell_type": "code",
   "execution_count": null,
   "metadata": {},
   "outputs": [],
   "source": [
    "Model_hist = list()\n",
    "_n = 8\n",
    "for i in range(0,10) :\n",
    "    _model = keras.models.load_model('./SaveModels/Modified_Models/Model1_hist_{}_{}.h'.format(_n,i), custom_objects={'euclidean_distance_loss': euclidean_distance_loss})\n",
    "    Model_hist.append(_model)"
   ]
  },
  {
   "cell_type": "code",
   "execution_count": null,
   "metadata": {},
   "outputs": [],
   "source": [
    "## concatenates pred_result and original data\n",
    "## Change std_robot and change relative coordinates \n",
    "## calculate error"
   ]
  },
  {
   "cell_type": "markdown",
   "metadata": {},
   "source": [
    "## Reculsive Error"
   ]
  },
  {
   "cell_type": "markdown",
   "metadata": {},
   "source": [
    "### Model1"
   ]
  },
  {
   "cell_type": "code",
   "execution_count": null,
   "metadata": {},
   "outputs": [],
   "source": [
    "#_obs_list = [['_F3_x','_F3_y','_T_o'],['_F2_x','_F2_y','_F3_o'],['_F1_x','_F1_y','_F2_o']]\n",
    "#pred_list = [['_F2_x','_F2_y','_F3_o','_F2_o'],['_F1_x','_F1_y','_F2_o','_F1_o'],['_H_x','_H_y','_F1_o','_H_o']]\n",
    "#robots = ['H','F1','F2','F3','T']\n",
    "std_coordinates = 260\n",
    "std_orientation = 180\n",
    "\n",
    "_obs_list = [['_F5_x','_F5_y'],['_F4_x','_F4_y'],\n",
    "             ['_F3_x','_F3_y'],['_F2_x','_F2_y'],\n",
    "             ['_F1_x','_F1_y']]\n",
    "pred_list = [['_F4_x','_F4_y','_F5_o','_F4_o'],['_F3_x','_F3_y','_F4_o','_F3_o'],\n",
    "            ['_F2_x','_F2_y','_F3_o','_F2_o'],['_F1_x','_F1_y','_F2_o','_F1_o'],\n",
    "            ['_H_x','_H_y','_F1_o','_H_o']]\n",
    "robots = ['H','F1','F2','F3','F4','F5','T']"
   ]
  },
  {
   "cell_type": "code",
   "execution_count": null,
   "metadata": {},
   "outputs": [],
   "source": [
    "_errs = list()\n",
    "_results = list()\n",
    "for i in range(0,len(Model_hist)) :\n",
    "    _result = get_reculsive_error(_Model=Model_hist[i],start = _n_hist-_n,_n_model = 1,std_robot='T',_obs_list=_obs_list,pred_list=pred_list,robots=['H','F1','F2','F3','F4','F5','T'],data_test = data_test,_n_samples=_n_samples,_n_hist=_n_hist,std_coordinates=std_coordinates)\n",
    "    _error, _pred_result = cal_accuracy_tmp(data=_result,model_n = 1,data_test=data_test,std_coordinates=std_coordinates, _n_samples=_n_samples)\n",
    "    _errs.append(_error)\n",
    "    _results.append(_pred_result)\n",
    "    print('Model {} complete'.format(i))"
   ]
  },
  {
   "cell_type": "markdown",
   "metadata": {},
   "source": [
    "## Save Results"
   ]
  },
  {
   "cell_type": "code",
   "execution_count": null,
   "metadata": {},
   "outputs": [],
   "source": [
    "for i in range(0,len(_results)) :\n",
    "#    _err1[i].to_csv('Error_1_{}.csv'.format(i))\n",
    "    _results[i].to_csv('Results/Diff_History_{}_{}_Predict_v2.csv'.format(_n,i))    "
   ]
  },
  {
   "cell_type": "code",
   "execution_count": null,
   "metadata": {},
   "outputs": [],
   "source": []
  }
 ],
 "metadata": {
  "kernelspec": {
   "display_name": "Python 3",
   "language": "python",
   "name": "python3"
  },
  "language_info": {
   "codemirror_mode": {
    "name": "ipython",
    "version": 3
   },
   "file_extension": ".py",
   "mimetype": "text/x-python",
   "name": "python",
   "nbconvert_exporter": "python",
   "pygments_lexer": "ipython3",
   "version": "3.6.8"
  }
 },
 "nbformat": 4,
 "nbformat_minor": 2
}
