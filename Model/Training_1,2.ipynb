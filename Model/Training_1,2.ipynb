{
 "cells": [
  {
   "cell_type": "code",
   "execution_count": 7,
   "metadata": {},
   "outputs": [],
   "source": [
    "import numpy as np\n",
    "import pandas as pd\n",
    "import time\n",
    "import os\n",
    "import pathlib\n",
    "\n",
    "import tensorflow as tf\n",
    "from matplotlib import pyplot as plt\n",
    "from tensorflow.keras import backend as K\n",
    "from tensorflow.keras import losses, optimizers\n",
    "from tensorflow.keras.models import Sequential, load_model\n",
    "import tensorflow.keras.layers as layers\n",
    "from tensorflow.keras.layers import Input, Activation, Dense, TimeDistributed,Conv2D,MaxPooling2D, Lambda,UpSampling2D\n",
    "from tensorflow.keras.layers import add, dot, concatenate, LSTM, Bidirectional,Reshape,Flatten\n",
    "import tensorflow.keras as keras\n",
    "from tensorflow.compat.v1.keras.layers import CuDNNLSTM, CuDNNGRU\n",
    "#from tf.compat.v1.keras.layers.CuDNNLSTM\n",
    "from Utils.PlotLosses import PlotLosses\n",
    "from Utils.Utils import dist_coordinates, TrainModel, s_DataFrame, s_relative_and_std, euclidean_distance_loss,set_input\n",
    "\n",
    "K.clear_session()"
   ]
  },
  {
   "cell_type": "markdown",
   "metadata": {},
   "source": [
    "## Methods"
   ]
  },
  {
   "cell_type": "code",
   "execution_count": 8,
   "metadata": {},
   "outputs": [],
   "source": [
    "def model_LSTM(size = []) :\n",
    "    K.clear_session()\n",
    "    \n",
    "    history_input = Input(shape=(size[0]))\n",
    "    observed_input = Input(shape=(size[1],))\n",
    "    \n",
    "    history_hidden1 = Bidirectional(LSTM(size[2], return_sequences = False),name ='History_Hidden1')(history_input)\n",
    "    \n",
    "    observed_hidden1 = Dense(size[3],activation='relu',name = 'Observer_Hidden1')(observed_input)\n",
    "    observed_hidden2 = Dense(size[4],activation='relu',name = 'Observer_Hidden2')(observed_hidden1)\n",
    "    \n",
    "    concat_1 = concatenate([history_hidden1,observed_hidden2],axis = -1, name = 'Concatenate')\n",
    "    \n",
    "    hidden1 = Dense(size[5], activation = 'relu', name = 'Concat-Hidden1')(concat_1)\n",
    "    \n",
    "    hidden2_1 = Dense(size[6], activation = 'relu', name = 'Conat-Hidden2_1')(hidden1)\n",
    "    hidden2_2 = Dense(size[6], activation = 'relu', name = 'Conat-Hidden2_2')(hidden1)\n",
    "    \n",
    "    y_head = Dense(size[7], activation = 'tanh',name='Output_head')(hidden2_1) \n",
    "    y_orientation = Dense(size[8],activation = 'tanh',name='Output_orientation')(hidden2_2)\n",
    "\n",
    "    _model = keras.Model(inputs=[history_input, observed_input], outputs=[y_head,y_orientation])\n",
    "    print(_model.summary())\n",
    "    \n",
    "    return _model"
   ]
  },
  {
   "cell_type": "code",
   "execution_count": 9,
   "metadata": {},
   "outputs": [],
   "source": [
    "def s_labels(_label_list=[],data='') :\n",
    "    y_label = list()\n",
    "    for i in range(0,len(_label_list)) :\n",
    "        y_data = s_DataFrame(index = _label_list[i],data = data)\n",
    "        y_label.append(y_data)\n",
    "    return y_label"
   ]
  },
  {
   "cell_type": "markdown",
   "metadata": {},
   "source": [
    "## inputs"
   ]
  },
  {
   "cell_type": "code",
   "execution_count": 15,
   "metadata": {},
   "outputs": [],
   "source": [
    "std_coordinates = 500\n",
    "std_orientation = 180\n",
    "\n",
    "_n_hist = 10\n",
    "_n_samples = 12"
   ]
  },
  {
   "cell_type": "code",
   "execution_count": 11,
   "metadata": {},
   "outputs": [],
   "source": [
    "path = './Data_v2.0/3Robots/TrainSet'\n",
    "data_train = pd.read_csv(path+'/Train.csv')\n",
    "data_test = pd.read_csv(path+'/Test.csv')\n",
    "data_val = pd.read_csv(path+'/Val.csv')\n",
    "\n",
    "robots = ['H','F1','T']\n",
    "std_robot = 'T'\n",
    "coordinates = ['x','y']\n",
    "orientation = ['o']\n"
   ]
  },
  {
   "cell_type": "code",
   "execution_count": 12,
   "metadata": {},
   "outputs": [],
   "source": [
    "train_data = s_relative_and_std(data = data_train, std_coordinates = std_coordinates,n_time_in_instance=_n_samples,std_robot ='T',other_robots=['H','F1'])\n",
    "val_data = s_relative_and_std(data = data_val, std_coordinates = std_coordinates,n_time_in_instance=_n_samples,std_robot ='T',other_robots=['H','F1'])\n",
    "test_data = s_relative_and_std(data = data_test, std_coordinates = std_coordinates,n_time_in_instance=_n_samples,std_robot ='T',other_robots=['H','F1'])"
   ]
  },
  {
   "cell_type": "code",
   "execution_count": 20,
   "metadata": {},
   "outputs": [
    {
     "data": {
      "image/png": "[encoded data removed]",
      "text/plain": [
       "<Figure size 1728x360 with 1 Axes>"
      ]
     },
     "metadata": {
      "needs_background": "light"
     },
     "output_type": "display_data"
    },
    {
     "name": "stdout",
     "output_type": "stream",
     "text": [
      "\n",
      "Epoch 00001: val_loss improved from inf to 0.06101, saving model to ./SaveModels/CompareHistory/Model1_hist_2_0.h\n",
      "\b\b\b\b\b\b\b\b\b\b\b\b\b\b\b\b\b\b\b\b\b\b\b\b\b\b\b\b\b\b\b\b\b\b\b\b\b\b\b\b\b\b\b\b\b\b\b\b\b\b\b\b\b\b\b\b\b\b\b\b\b\b\b\b\b\b\b\b\b\b\b\b\b\b\b\b\b\b\b\b\b\b\b\b\b\b\b\b\b\b\b\b\b\b\b\b\b\b\b\b\b\b\b\b\b\b\b\b\b\b\b\b\b\b\b\b\b\b\b\b\b\b\b\b\b\b\b\b\b\b\r",
      "10624/10624 [==============================] - 4s 365us/sample - loss: 0.2433 - Output_head_loss: 0.1113 - Output_orientation_loss: 0.1320 - val_loss: 0.0610 - val_Output_head_loss: 0.0250 - val_Output_orientation_loss: 0.0360\n"
     ]
    }
   ],
   "source": [
    "_obs_list = ['_F1_x','_F1_y','_T_o']\n",
    "pred_list = ['_H_x','_H_y','_F1_o','_H_o']\n",
    "\n",
    "_label_list = [['{}_H_x'.format(_n_hist),'{}_H_y'.format(_n_hist)],\n",
    "            ['{}_F1_o'.format(_n_hist),'{}_H_o'.format(_n_hist)]]\n",
    "step = 0\n",
    "\n",
    "for start in range(0,_n_hist,2) :\n",
    "    ## Set inputs\n",
    "    x_train = set_input(_obs_list = _obs_list, start = start, \n",
    "                        pred_list= pred_list,step = step, \n",
    "                        _hist_len = _n_hist,_n_samples = _n_samples, data1 = train_data,data2 = train_data)\n",
    "    x_val = set_input(_obs_list = _obs_list, start = start,\n",
    "                      pred_list= pred_list,step = step,  \n",
    "                      _hist_len = _n_hist,_n_samples = _n_samples, data1 = val_data,data2 = val_data)\n",
    "    x_test = set_input(_obs_list = _obs_list, start = start,\n",
    "                       pred_list= pred_list,step = step,  \n",
    "                       _hist_len = _n_hist,_n_samples = _n_samples, data1 = test_data,data2 = test_data)\n",
    "    \n",
    "    ## Set Labels\n",
    "    y_train = s_labels(_label_list = _label_list, data = train_data)\n",
    "    y_val = s_labels(_label_list = _label_list, data = val_data)\n",
    "    y_test = s_labels(_label_list = _label_list, data = test_data)\n",
    "    \n",
    "    ## Training \n",
    "    size = [(10-start,7),6,30,10,10,50,30,2,2]\n",
    "    lr = 0.00025\n",
    "    epochs = 500\n",
    "    for i in range(0,5) :\n",
    "        save_path = './SaveModels/CompareHistory/Model1_hist_{}_{}.h'.format(10-start,i)\n",
    "\n",
    "        _model1 = model_LSTM(size)\n",
    "        Model1,history1 = TrainModel(_model = _model1,save_path = save_path, lr = lr,epochs=epochs,\n",
    "        #                             losses = ['mean_squared_error'],\n",
    "                                     losses = [euclidean_distance_loss,'mean_squared_error'],\n",
    "                                     train_x = x_train, train_y =y_train,\n",
    "                                    val_x = x_val, val_y =y_val )\n"
   ]
  },
  {
   "cell_type": "code",
   "execution_count": null,
   "metadata": {},
   "outputs": [],
   "source": []
  }
 ],
 "metadata": {
  "kernelspec": {
   "display_name": "Python 3",
   "language": "python",
   "name": "python3"
  },
  "language_info": {
   "codemirror_mode": {
    "name": "ipython",
    "version": 3
   },
   "file_extension": ".py",
   "mimetype": "text/x-python",
   "name": "python",
   "nbconvert_exporter": "python",
   "pygments_lexer": "ipython3",
   "version": "3.6.8"
  }
 },
 "nbformat": 4,
 "nbformat_minor": 2
}
