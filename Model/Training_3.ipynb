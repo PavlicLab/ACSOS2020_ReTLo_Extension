{
 "cells": [
  {
   "cell_type": "code",
   "execution_count": 1,
   "metadata": {},
   "outputs": [],
   "source": [
    "import numpy as np\n",
    "import pandas as pd\n",
    "import time\n",
    "import os\n",
    "import pathlib\n",
    "\n",
    "import tensorflow as tf\n",
    "from matplotlib import pyplot as plt\n",
    "from tensorflow.keras import backend as K\n",
    "from tensorflow.keras import losses, optimizers\n",
    "from tensorflow.keras.models import Sequential, load_model\n",
    "import tensorflow.keras.layers as layers\n",
    "from tensorflow.keras.layers import Input, Activation, Dense, TimeDistributed,Conv2D,MaxPooling2D, Lambda,UpSampling2D\n",
    "from tensorflow.keras.layers import add, dot, concatenate, LSTM, Bidirectional,Reshape,Flatten\n",
    "import tensorflow.keras as keras\n",
    "from tensorflow.compat.v1.keras.layers import CuDNNLSTM, CuDNNGRU\n",
    "#from tf.compat.v1.keras.layers.CuDNNLSTM\n",
    "from Utils.PlotLosses import PlotLosses\n",
    "from Utils.Utils import dist_coordinates, TrainModel, s_DataFrame, s_relative_and_std, euclidean_distance_loss,set_input,s_labels\n",
    "\n",
    "K.clear_session()"
   ]
  },
  {
   "cell_type": "code",
   "execution_count": 2,
   "metadata": {},
   "outputs": [],
   "source": [
    "std_coordinates = 260\n",
    "std_orientation = 180\n",
    "\n",
    "_n_hist = 10\n",
    "_n_samples = 12"
   ]
  },
  {
   "cell_type": "markdown",
   "metadata": {},
   "source": [
    "## Methods"
   ]
  },
  {
   "cell_type": "code",
   "execution_count": 3,
   "metadata": {},
   "outputs": [],
   "source": [
    "def model_LSTM(size = []) :\n",
    "    K.clear_session()\n",
    "    \n",
    "    history_input = Input(shape=(size[0]))\n",
    "    observed_input = Input(shape=(size[1],))\n",
    "    \n",
    "    history_hidden1 = Bidirectional(LSTM(size[2], return_sequences = False),name ='History_Hidden1')(history_input)\n",
    "    \n",
    "    observed_hidden1 = Dense(size[3],activation='relu',name = 'Observer_Hidden1')(observed_input)\n",
    "    \n",
    "    concat_1 = concatenate([history_hidden1,observed_hidden1],axis = -1, name = 'Concatenate')    \n",
    "    hidden1 = Dense(size[4], activation = 'relu', name = 'Concat-Hidden1')(concat_1)\n",
    "        \n",
    "    y_head = Dense(size[5], activation = 'tanh',name='Output_head')(hidden1) \n",
    "    y_orientation = Dense(size[6],activation = 'tanh',name='Output_orientation')(hidden1)\n",
    "\n",
    "    _model = keras.Model(inputs=[history_input, observed_input], outputs=[y_head,y_orientation])\n",
    "    print(_model.summary())\n",
    "    \n",
    "    return _model"
   ]
  },
  {
   "cell_type": "markdown",
   "metadata": {},
   "source": [
    "# Model 1 : Using 1 teammate (ICRA model)"
   ]
  },
  {
   "cell_type": "markdown",
   "metadata": {},
   "source": [
    "## inputs"
   ]
  },
  {
   "cell_type": "code",
   "execution_count": 4,
   "metadata": {},
   "outputs": [],
   "source": [
    "path = './Data_v2.0/3Robots/TrainSet'\n",
    "data_train = pd.read_csv(path+'/Train.csv')\n",
    "data_test = pd.read_csv(path+'/Test.csv')\n",
    "data_val = pd.read_csv(path+'/Val.csv')\n",
    "\n",
    "robots = ['H','F1','T']\n",
    "std_robot = 'T'\n",
    "coordinates = ['x','y']\n",
    "orientation = ['o']\n"
   ]
  },
  {
   "cell_type": "code",
   "execution_count": 5,
   "metadata": {},
   "outputs": [
    {
     "name": "stdout",
     "output_type": "stream",
     "text": [
      "253\n"
     ]
    }
   ],
   "source": [
    "_max = 0\n",
    "for i in range(_n_samples) :\n",
    "    _tmp = np.max(np.abs(data_train['{}_H_x'.format(i)]-data_train['{}_T_x'.format(i)]))\n",
    "    if _tmp >= _max :\n",
    "        _max = _tmp\n",
    "print(_max)"
   ]
  },
  {
   "cell_type": "code",
   "execution_count": 6,
   "metadata": {},
   "outputs": [],
   "source": [
    "train_data = s_relative_and_std(data = data_train, std_coordinates = std_coordinates,n_time_in_instance=_n_samples,std_robot ='T',other_robots=['H','F1'])\n",
    "val_data = s_relative_and_std(data = data_val, std_coordinates = std_coordinates,n_time_in_instance=_n_samples,std_robot ='T',other_robots=['H','F1'])\n",
    "test_data = s_relative_and_std(data = data_test, std_coordinates = std_coordinates,n_time_in_instance=_n_samples,std_robot ='T',other_robots=['H','F1'])"
   ]
  },
  {
   "cell_type": "code",
   "execution_count": 7,
   "metadata": {},
   "outputs": [
    {
     "name": "stdout",
     "output_type": "stream",
     "text": [
      "History : [['0_F1_x', '0_F1_y'], ['0_H_x', '0_H_y', '0_F1_o', '0_H_o'], []]\n",
      "History : [['1_F1_x', '1_F1_y'], ['1_H_x', '1_H_y', '1_F1_o', '1_H_o'], []]\n",
      "History : [['2_F1_x', '2_F1_y'], ['2_H_x', '2_H_y', '2_F1_o', '2_H_o'], []]\n",
      "History : [['3_F1_x', '3_F1_y'], ['3_H_x', '3_H_y', '3_F1_o', '3_H_o'], []]\n",
      "History : [['4_F1_x', '4_F1_y'], ['4_H_x', '4_H_y', '4_F1_o', '4_H_o'], []]\n",
      "History : [['5_F1_x', '5_F1_y'], ['5_H_x', '5_H_y', '5_F1_o', '5_H_o'], []]\n",
      "History : [['6_F1_x', '6_F1_y'], ['6_H_x', '6_H_y', '6_F1_o', '6_H_o'], []]\n",
      "History : [['7_F1_x', '7_F1_y'], ['7_H_x', '7_H_y', '7_F1_o', '7_H_o'], []]\n",
      "History : [['8_F1_x', '8_F1_y'], ['8_H_x', '8_H_y', '8_F1_o', '8_H_o'], []]\n",
      "History : [['9_F1_x', '9_F1_y'], ['9_H_x', '9_H_y', '9_F1_o', '9_H_o'], []]\n",
      "Observed : ['10_F1_x', '10_F1_y', '11_F1_x', '11_F1_y']\n",
      "History : [['0_F1_x', '0_F1_y'], ['0_H_x', '0_H_y', '0_F1_o', '0_H_o'], []]\n",
      "History : [['1_F1_x', '1_F1_y'], ['1_H_x', '1_H_y', '1_F1_o', '1_H_o'], []]\n",
      "History : [['2_F1_x', '2_F1_y'], ['2_H_x', '2_H_y', '2_F1_o', '2_H_o'], []]\n",
      "History : [['3_F1_x', '3_F1_y'], ['3_H_x', '3_H_y', '3_F1_o', '3_H_o'], []]\n",
      "History : [['4_F1_x', '4_F1_y'], ['4_H_x', '4_H_y', '4_F1_o', '4_H_o'], []]\n",
      "History : [['5_F1_x', '5_F1_y'], ['5_H_x', '5_H_y', '5_F1_o', '5_H_o'], []]\n",
      "History : [['6_F1_x', '6_F1_y'], ['6_H_x', '6_H_y', '6_F1_o', '6_H_o'], []]\n",
      "History : [['7_F1_x', '7_F1_y'], ['7_H_x', '7_H_y', '7_F1_o', '7_H_o'], []]\n",
      "History : [['8_F1_x', '8_F1_y'], ['8_H_x', '8_H_y', '8_F1_o', '8_H_o'], []]\n",
      "History : [['9_F1_x', '9_F1_y'], ['9_H_x', '9_H_y', '9_F1_o', '9_H_o'], []]\n",
      "Observed : ['10_F1_x', '10_F1_y', '11_F1_x', '11_F1_y']\n",
      "History : [['0_F1_x', '0_F1_y'], ['0_H_x', '0_H_y', '0_F1_o', '0_H_o'], []]\n",
      "History : [['1_F1_x', '1_F1_y'], ['1_H_x', '1_H_y', '1_F1_o', '1_H_o'], []]\n",
      "History : [['2_F1_x', '2_F1_y'], ['2_H_x', '2_H_y', '2_F1_o', '2_H_o'], []]\n",
      "History : [['3_F1_x', '3_F1_y'], ['3_H_x', '3_H_y', '3_F1_o', '3_H_o'], []]\n",
      "History : [['4_F1_x', '4_F1_y'], ['4_H_x', '4_H_y', '4_F1_o', '4_H_o'], []]\n",
      "History : [['5_F1_x', '5_F1_y'], ['5_H_x', '5_H_y', '5_F1_o', '5_H_o'], []]\n",
      "History : [['6_F1_x', '6_F1_y'], ['6_H_x', '6_H_y', '6_F1_o', '6_H_o'], []]\n",
      "History : [['7_F1_x', '7_F1_y'], ['7_H_x', '7_H_y', '7_F1_o', '7_H_o'], []]\n",
      "History : [['8_F1_x', '8_F1_y'], ['8_H_x', '8_H_y', '8_F1_o', '8_H_o'], []]\n",
      "History : [['9_F1_x', '9_F1_y'], ['9_H_x', '9_H_y', '9_F1_o', '9_H_o'], []]\n",
      "Observed : ['10_F1_x', '10_F1_y', '11_F1_x', '11_F1_y']\n"
     ]
    }
   ],
   "source": [
    "_obs_list = ['_F1_x','_F1_y']\n",
    "pred_list = ['_H_x','_H_y','_F1_o','_H_o']\n",
    "step = 0\n",
    "x_train = set_input(_obs_list = _obs_list, pred_list= pred_list,step = step,  _hist_len = _n_hist,_n_samples = _n_samples, data1 = train_data,data2 = train_data)\n",
    "x_val = set_input(_obs_list = _obs_list, pred_list= pred_list,step = step,  _hist_len = _n_hist,_n_samples = _n_samples, data1 = val_data,data2 = val_data)\n",
    "x_test = set_input(_obs_list = _obs_list, pred_list= pred_list,step = step,  _hist_len = _n_hist,_n_samples = _n_samples, data1 = test_data,data2 = test_data)"
   ]
  },
  {
   "cell_type": "markdown",
   "metadata": {},
   "source": [
    "## labels"
   ]
  },
  {
   "cell_type": "code",
   "execution_count": 8,
   "metadata": {},
   "outputs": [],
   "source": [
    "_label_list = [['{}_H_x'.format(_n_hist),'{}_H_y'.format(_n_hist)],\n",
    "            ['{}_F1_o'.format(_n_hist),'{}_F1_o'.format(_n_hist+1),'{}_H_o'.format(_n_hist)]]\n",
    "\n",
    "y_train = s_labels(_label_list = _label_list, data = train_data)\n",
    "y_val = s_labels(_label_list = _label_list, data = val_data)\n",
    "y_test = s_labels(_label_list = _label_list, data = test_data)"
   ]
  },
  {
   "cell_type": "code",
   "execution_count": 9,
   "metadata": {},
   "outputs": [
    {
     "name": "stdout",
     "output_type": "stream",
     "text": [
      "[['10_H_x', '10_H_y'], ['10_F1_o', '11_F1_o', '10_H_o']]\n"
     ]
    }
   ],
   "source": [
    "print(_label_list)"
   ]
  },
  {
   "cell_type": "markdown",
   "metadata": {},
   "source": [
    "## training"
   ]
  },
  {
   "cell_type": "code",
   "execution_count": 10,
   "metadata": {},
   "outputs": [
    {
     "data": {
      "image/png": "[encoded data removed]",
      "text/plain": [
       "<Figure size 1728x360 with 1 Axes>"
      ]
     },
     "metadata": {
      "needs_background": "light"
     },
     "output_type": "display_data"
    },
    {
     "name": "stdout",
     "output_type": "stream",
     "text": [
      "\n",
      "Epoch 00600: val_loss did not improve from 0.02876\n",
      "\b\b\b\b\b\b\b\b\b\b\b\b\b\b\b\b\b\b\b\b\b\b\b\b\b\b\b\b\b\b\b\b\b\b\b\b\b\b\b\b\b\b\b\b\b\b\b\b\b\b\b\b\b\b\b\b\b\b\b\b\b\b\b\b\b\b\b\b\b\b\b\b\b\b\b\b\b\b\b\b\b\b\b\b\b\b\b\b\b\b\b\b\b\b\b\b\b\b\b\b\b\b\b\b\b\b\b\b\b\b\b\b\b\b\b\b\b\b\b\b\b\b\b\b\b\b\b\b\b\b\r",
      "10624/10624 [==============================] - 12s 1ms/sample - loss: 0.0116 - Output_head_loss: 0.0056 - Output_orientation_loss: 0.0060 - val_loss: 0.0368 - val_Output_head_loss: 0.0075 - val_Output_orientation_loss: 0.0293\n"
     ]
    }
   ],
   "source": [
    "size = [(10,6),4,160,80,160,2,3]\n",
    "lr = 0.0003\n",
    "epochs = 600\n",
    "\n",
    "for i in range(0,1) :\n",
    "    save_path = './SaveModels/Modified_Models/Model1_{}.h'.format(i)\n",
    "\n",
    "    _model1 = model_LSTM(size)\n",
    "    Model1,history1 = TrainModel(_model = _model1,save_path = save_path, lr = lr,epochs=epochs,\n",
    "    #                             losses = ['mean_squared_error'],\n",
    "                                 losses = [euclidean_distance_loss,'mean_squared_error'],\n",
    "                                 train_x = x_train, train_y =y_train,\n",
    "                                val_x = x_val, val_y =y_val )\n"
   ]
  },
  {
   "cell_type": "markdown",
   "metadata": {},
   "source": [
    "\n",
    "# Model 2 : 2 teammates"
   ]
  },
  {
   "cell_type": "markdown",
   "metadata": {},
   "source": [
    "### inputs"
   ]
  },
  {
   "cell_type": "code",
   "execution_count": 11,
   "metadata": {},
   "outputs": [],
   "source": [
    "std_coordinates = 310\n",
    "std_orientation = 180\n",
    "\n",
    "_n_hist = 10\n",
    "_n_samples = 13"
   ]
  },
  {
   "cell_type": "code",
   "execution_count": 12,
   "metadata": {},
   "outputs": [],
   "source": [
    "path = './Data_v2.0/4Robots/TrainSet2'\n",
    "data_train = pd.read_csv(path+'/Train.csv')\n",
    "data_test = pd.read_csv(path+'/Test.csv')\n",
    "data_val = pd.read_csv(path+'/Val.csv')\n",
    "\n",
    "robots = ['H','F1','F2','T']\n",
    "std_robot = 'T'\n",
    "coordinates = ['x','y']\n",
    "orientation = ['o']\n"
   ]
  },
  {
   "cell_type": "code",
   "execution_count": 13,
   "metadata": {},
   "outputs": [
    {
     "name": "stdout",
     "output_type": "stream",
     "text": [
      "301\n"
     ]
    }
   ],
   "source": [
    "_max = 0\n",
    "for i in range(_n_samples) :\n",
    "    _tmp = np.max(np.abs(data_train['{}_H_x'.format(i)]-data_train['{}_T_x'.format(i)]))\n",
    "    if _tmp >= _max :\n",
    "        _max = _tmp\n",
    "print(_max)"
   ]
  },
  {
   "cell_type": "code",
   "execution_count": 14,
   "metadata": {},
   "outputs": [],
   "source": [
    "train_data = s_relative_and_std(data = data_train, std_coordinates = std_coordinates,n_time_in_instance=_n_samples,std_robot ='T',other_robots=['H','F1','F2'])\n",
    "val_data = s_relative_and_std(data = data_val, std_coordinates = std_coordinates,n_time_in_instance=_n_samples,std_robot ='T',other_robots=['H','F1','F2'])\n",
    "test_data = s_relative_and_std(data = data_test, std_coordinates = std_coordinates,n_time_in_instance=_n_samples,std_robot ='T',other_robots=['H','F1','F2'])"
   ]
  },
  {
   "cell_type": "code",
   "execution_count": 15,
   "metadata": {},
   "outputs": [
    {
     "name": "stdout",
     "output_type": "stream",
     "text": [
      "History : [['0_F2_x', '0_F2_y', '0_F1_x', '0_F1_y'], ['0_H_x', '0_H_y', '0_H_o', '0_F1_o', '0_F2_o'], []]\n",
      "History : [['1_F2_x', '1_F2_y', '1_F1_x', '1_F1_y'], ['1_H_x', '1_H_y', '1_H_o', '1_F1_o', '1_F2_o'], []]\n",
      "History : [['2_F2_x', '2_F2_y', '2_F1_x', '2_F1_y'], ['2_H_x', '2_H_y', '2_H_o', '2_F1_o', '2_F2_o'], []]\n",
      "History : [['3_F2_x', '3_F2_y', '3_F1_x', '3_F1_y'], ['3_H_x', '3_H_y', '3_H_o', '3_F1_o', '3_F2_o'], []]\n",
      "History : [['4_F2_x', '4_F2_y', '4_F1_x', '4_F1_y'], ['4_H_x', '4_H_y', '4_H_o', '4_F1_o', '4_F2_o'], []]\n",
      "History : [['5_F2_x', '5_F2_y', '5_F1_x', '5_F1_y'], ['5_H_x', '5_H_y', '5_H_o', '5_F1_o', '5_F2_o'], []]\n",
      "History : [['6_F2_x', '6_F2_y', '6_F1_x', '6_F1_y'], ['6_H_x', '6_H_y', '6_H_o', '6_F1_o', '6_F2_o'], []]\n",
      "History : [['7_F2_x', '7_F2_y', '7_F1_x', '7_F1_y'], ['7_H_x', '7_H_y', '7_H_o', '7_F1_o', '7_F2_o'], []]\n",
      "History : [['8_F2_x', '8_F2_y', '8_F1_x', '8_F1_y'], ['8_H_x', '8_H_y', '8_H_o', '8_F1_o', '8_F2_o'], []]\n",
      "History : [['9_F2_x', '9_F2_y', '9_F1_x', '9_F1_y'], ['9_H_x', '9_H_y', '9_H_o', '9_F1_o', '9_F2_o'], []]\n",
      "Observed : ['11_F2_x', '11_F2_y', '10_F1_x', '10_F1_y', '12_F2_x', '12_F2_y', '11_F1_x', '11_F1_y']\n",
      "History : [['0_F2_x', '0_F2_y', '0_F1_x', '0_F1_y'], ['0_H_x', '0_H_y', '0_H_o', '0_F1_o', '0_F2_o'], []]\n",
      "History : [['1_F2_x', '1_F2_y', '1_F1_x', '1_F1_y'], ['1_H_x', '1_H_y', '1_H_o', '1_F1_o', '1_F2_o'], []]\n",
      "History : [['2_F2_x', '2_F2_y', '2_F1_x', '2_F1_y'], ['2_H_x', '2_H_y', '2_H_o', '2_F1_o', '2_F2_o'], []]\n",
      "History : [['3_F2_x', '3_F2_y', '3_F1_x', '3_F1_y'], ['3_H_x', '3_H_y', '3_H_o', '3_F1_o', '3_F2_o'], []]\n",
      "History : [['4_F2_x', '4_F2_y', '4_F1_x', '4_F1_y'], ['4_H_x', '4_H_y', '4_H_o', '4_F1_o', '4_F2_o'], []]\n",
      "History : [['5_F2_x', '5_F2_y', '5_F1_x', '5_F1_y'], ['5_H_x', '5_H_y', '5_H_o', '5_F1_o', '5_F2_o'], []]\n",
      "History : [['6_F2_x', '6_F2_y', '6_F1_x', '6_F1_y'], ['6_H_x', '6_H_y', '6_H_o', '6_F1_o', '6_F2_o'], []]\n",
      "History : [['7_F2_x', '7_F2_y', '7_F1_x', '7_F1_y'], ['7_H_x', '7_H_y', '7_H_o', '7_F1_o', '7_F2_o'], []]\n",
      "History : [['8_F2_x', '8_F2_y', '8_F1_x', '8_F1_y'], ['8_H_x', '8_H_y', '8_H_o', '8_F1_o', '8_F2_o'], []]\n",
      "History : [['9_F2_x', '9_F2_y', '9_F1_x', '9_F1_y'], ['9_H_x', '9_H_y', '9_H_o', '9_F1_o', '9_F2_o'], []]\n",
      "Observed : ['11_F2_x', '11_F2_y', '10_F1_x', '10_F1_y', '12_F2_x', '12_F2_y', '11_F1_x', '11_F1_y']\n",
      "History : [['0_F2_x', '0_F2_y', '0_F1_x', '0_F1_y'], ['0_H_x', '0_H_y', '0_H_o', '0_F1_o', '0_F2_o'], []]\n",
      "History : [['1_F2_x', '1_F2_y', '1_F1_x', '1_F1_y'], ['1_H_x', '1_H_y', '1_H_o', '1_F1_o', '1_F2_o'], []]\n",
      "History : [['2_F2_x', '2_F2_y', '2_F1_x', '2_F1_y'], ['2_H_x', '2_H_y', '2_H_o', '2_F1_o', '2_F2_o'], []]\n",
      "History : [['3_F2_x', '3_F2_y', '3_F1_x', '3_F1_y'], ['3_H_x', '3_H_y', '3_H_o', '3_F1_o', '3_F2_o'], []]\n",
      "History : [['4_F2_x', '4_F2_y', '4_F1_x', '4_F1_y'], ['4_H_x', '4_H_y', '4_H_o', '4_F1_o', '4_F2_o'], []]\n",
      "History : [['5_F2_x', '5_F2_y', '5_F1_x', '5_F1_y'], ['5_H_x', '5_H_y', '5_H_o', '5_F1_o', '5_F2_o'], []]\n",
      "History : [['6_F2_x', '6_F2_y', '6_F1_x', '6_F1_y'], ['6_H_x', '6_H_y', '6_H_o', '6_F1_o', '6_F2_o'], []]\n",
      "History : [['7_F2_x', '7_F2_y', '7_F1_x', '7_F1_y'], ['7_H_x', '7_H_y', '7_H_o', '7_F1_o', '7_F2_o'], []]\n",
      "History : [['8_F2_x', '8_F2_y', '8_F1_x', '8_F1_y'], ['8_H_x', '8_H_y', '8_H_o', '8_F1_o', '8_F2_o'], []]\n",
      "History : [['9_F2_x', '9_F2_y', '9_F1_x', '9_F1_y'], ['9_H_x', '9_H_y', '9_H_o', '9_F1_o', '9_F2_o'], []]\n",
      "Observed : ['11_F2_x', '11_F2_y', '10_F1_x', '10_F1_y', '12_F2_x', '12_F2_y', '11_F1_x', '11_F1_y']\n"
     ]
    }
   ],
   "source": [
    "_obs_list = ['_F2_x','_F2_y','_F1_x','_F1_y']\n",
    "pred_list = ['_H_x','_H_y','_H_o','_F1_o','_F2_o']\n",
    "step = 0\n",
    "x_train = set_input(timedifference=[1,1,0,0],_obs_list = _obs_list, pred_list= pred_list,step = step,  _hist_len = _n_hist,_n_samples = _n_samples, data1 = train_data,data2 = train_data)\n",
    "x_val = set_input(timedifference=[1,1,0,0],_obs_list = _obs_list, pred_list= pred_list,step = step,  _hist_len = _n_hist,_n_samples = _n_samples, data1 = val_data,data2 = val_data)\n",
    "x_test = set_input(timedifference=[1,1,0,0],_obs_list = _obs_list, pred_list= pred_list,step = step,  _hist_len = _n_hist,_n_samples = _n_samples, data1 = test_data,data2 = test_data)"
   ]
  },
  {
   "cell_type": "markdown",
   "metadata": {},
   "source": [
    "### labels"
   ]
  },
  {
   "cell_type": "code",
   "execution_count": 16,
   "metadata": {},
   "outputs": [],
   "source": [
    "_label_list = [['{}_H_x'.format(_n_hist),'{}_H_y'.format(_n_hist)],\n",
    "            ['{}_H_o'.format(_n_hist),'{}_F1_o'.format(_n_hist),'{}_F2_o'.format(_n_hist),'{}_F2_o'.format(_n_hist+1)]]\n",
    "\n",
    "y_train = s_labels(_label_list = _label_list, data = train_data)\n",
    "y_val = s_labels(_label_list = _label_list, data = val_data)\n",
    "y_test = s_labels(_label_list = _label_list, data = test_data)"
   ]
  },
  {
   "cell_type": "code",
   "execution_count": 17,
   "metadata": {},
   "outputs": [
    {
     "name": "stdout",
     "output_type": "stream",
     "text": [
      "[['10_H_x', '10_H_y'], ['10_H_o', '10_F1_o', '10_F2_o', '11_F2_o']]\n"
     ]
    }
   ],
   "source": [
    "print(_label_list)"
   ]
  },
  {
   "cell_type": "markdown",
   "metadata": {},
   "source": [
    "### Training"
   ]
  },
  {
   "cell_type": "code",
   "execution_count": 18,
   "metadata": {
    "scrolled": true
   },
   "outputs": [
    {
     "data": {
      "image/png": "[encoded data removed]",
      "text/plain": [
       "<Figure size 1728x360 with 1 Axes>"
      ]
     },
     "metadata": {
      "needs_background": "light"
     },
     "output_type": "display_data"
    },
    {
     "name": "stdout",
     "output_type": "stream",
     "text": [
      "\n",
      "Epoch 00600: val_loss did not improve from 0.05591\n",
      "\b\b\b\b\b\b\b\b\b\b\b\b\b\b\b\b\b\b\b\b\b\b\b\b\b\b\b\b\b\b\b\b\b\b\b\b\b\b\b\b\b\b\b\b\b\b\b\b\b\b\b\b\b\b\b\b\b\b\b\b\b\b\b\b\b\b\b\b\b\b\b\b\b\b\b\b\b\b\b\b\b\b\b\b\b\b\b\b\b\b\b\b\b\b\b\b\b\b\b\b\b\b\b\b\b\b\b\b\b\b\b\b\b\b\b\b\b\b\b\b\b\b\b\b\b\b\b\b\b\b\r",
      "12031/12031 [==============================] - 13s 1ms/sample - loss: 0.0129 - Output_head_loss: 0.0068 - Output_orientation_loss: 0.0061 - val_loss: 0.0592 - val_Output_head_loss: 0.0098 - val_Output_orientation_loss: 0.0494\n"
     ]
    }
   ],
   "source": [
    "size = [(10,9),8,160,80,160,2,4]\n",
    "lr = 0.0003\n",
    "epochs = 600\n",
    "\n",
    "for i in range(0,1) :\n",
    "    save_path = './SaveModels/Modified_Models/Model2_difftime_{}.h'.format(i)\n",
    "\n",
    "    _model1 = model_LSTM(size)\n",
    "    Model1,history1 = TrainModel(_model = _model1,save_path = save_path, lr = lr,epochs=epochs,\n",
    "    #                             losses = ['mean_squared_error'],\n",
    "                                 losses = [euclidean_distance_loss,'mean_squared_error'],\n",
    "                                 train_x = x_train, train_y =y_train,\n",
    "                                val_x = x_val, val_y =y_val )\n"
   ]
  },
  {
   "cell_type": "markdown",
   "metadata": {},
   "source": [
    "# Model3 : using 3 teammates"
   ]
  },
  {
   "cell_type": "markdown",
   "metadata": {},
   "source": [
    "### inputs"
   ]
  },
  {
   "cell_type": "code",
   "execution_count": null,
   "metadata": {},
   "outputs": [],
   "source": [
    "path = './Data_v2.0/5Robots/TrainSet'\n",
    "data_train = pd.read_csv(path+'/Train.csv')\n",
    "data_test = pd.read_csv(path+'/Test.csv')\n",
    "data_val = pd.read_csv(path+'/Val.csv')\n",
    "\n",
    "robots = ['H','F1','F2','F3','T']\n",
    "std_robot = 'T'\n",
    "coordinates = ['x','y']\n",
    "orientation = ['o']\n"
   ]
  },
  {
   "cell_type": "code",
   "execution_count": null,
   "metadata": {},
   "outputs": [],
   "source": [
    "train_data = s_relative_and_std(data = data_train, std_coordinates = std_coordinates,n_time_in_instance=_n_samples,std_robot ='T',other_robots=['H','F1','F3','F2'])\n",
    "val_data = s_relative_and_std(data = data_val, std_coordinates = std_coordinates,n_time_in_instance=_n_samples,std_robot ='T',other_robots=['H','F1','F3','F2'])\n",
    "test_data = s_relative_and_std(data = data_test, std_coordinates = std_coordinates,n_time_in_instance=_n_samples,std_robot ='T',other_robots=['H','F1','F3','F2'])"
   ]
  },
  {
   "cell_type": "code",
   "execution_count": null,
   "metadata": {},
   "outputs": [],
   "source": [
    "_obs_list = ['_F3_x','_F3_y','_T_o','_F2_x','_F2_y','_F1_x','_F1_y']\n",
    "pred_list = ['_H_x','_H_y','_H_o','_F1_o','_F2_o','_F3_o']\n",
    "#_obs_list = ['_F1_x','_F1_y','_T_o']\n",
    "# !!!!!!!!!!!!!!!!!!!!!!!! '_T_o' 추가 필요 !!!!!!!!!!!!!!!!\n",
    "#pred_list = ['_H_x','_H_y','_H_o','_F1_o','_F2_o','_F3_o']\n",
    "step = 0\n",
    "x_train = set_input(_obs_list = _obs_list, pred_list= pred_list,step = step,  _hist_len = _n_hist,_n_samples = _n_samples, data1 = train_data,data2 = train_data)\n",
    "x_val = set_input(_obs_list = _obs_list, pred_list= pred_list,step = step,  _hist_len = _n_hist,_n_samples = _n_samples, data1 = val_data,data2 = val_data)\n",
    "x_test = set_input(_obs_list = _obs_list, pred_list= pred_list,step = step,  _hist_len = _n_hist,_n_samples = _n_samples, data1 = test_data,data2 = test_data)"
   ]
  },
  {
   "cell_type": "markdown",
   "metadata": {},
   "source": [
    "### labels"
   ]
  },
  {
   "cell_type": "code",
   "execution_count": null,
   "metadata": {},
   "outputs": [],
   "source": [
    "_label_list = [['{}_H_x'.format(_n_hist),'{}_H_y'.format(_n_hist)],\n",
    "            ['{}_H_o'.format(_n_hist),'{}_F1_o'.format(_n_hist),'{}_F2_o'.format(_n_hist),'{}_F3_o'.format(_n_hist)]]\n",
    "\n",
    "#_label_list = [['{}_H_x'.format(_n_hist),'{}_H_y'.format(_n_hist)],\n",
    "#            ['{}_H_o'.format(_n_hist),'{}_F1_o'.format(_n_hist)]]\n",
    "\n",
    "y_train = s_labels(_label_list = _label_list, data = train_data)\n",
    "y_val = s_labels(_label_list = _label_list, data = val_data)\n",
    "y_test = s_labels(_label_list = _label_list, data = test_data)"
   ]
  },
  {
   "cell_type": "code",
   "execution_count": null,
   "metadata": {},
   "outputs": [],
   "source": [
    "size = [(10,9),6,30,10,10,50,30,2,2]\n",
    "lr = 0.00025\n",
    "epochs = 500\n",
    "\n",
    "for i in range(0,5) :\n",
    "    save_path = './SaveModels/Test/Model3_{}.h'.format(i)\n",
    "\n",
    "    _model1 = model_LSTM(size)\n",
    "    Model1,history1 = TrainModel(_model = _model1,save_path = save_path, lr = lr,epochs=epochs,\n",
    "    #                             losses = ['mean_squared_error'],\n",
    "                                 losses = [euclidean_distance_loss,'mean_squared_error'],\n",
    "                                 train_x = x_train, train_y =y_train,\n",
    "                                val_x = x_val, val_y =y_val )\n"
   ]
  },
  {
   "cell_type": "markdown",
   "metadata": {},
   "source": [
    "# Model3_2 : Model3 + different time step"
   ]
  },
  {
   "cell_type": "code",
   "execution_count": 19,
   "metadata": {},
   "outputs": [],
   "source": [
    "std_coordinates = 400\n",
    "std_orientation = 180\n",
    "\n",
    "_n_hist = 10\n",
    "_n_samples = 14"
   ]
  },
  {
   "cell_type": "markdown",
   "metadata": {},
   "source": [
    "### inputs"
   ]
  },
  {
   "cell_type": "code",
   "execution_count": 20,
   "metadata": {},
   "outputs": [],
   "source": [
    "path = './Data_v2.0/5Robots/TrainSet_2'\n",
    "data_train = pd.read_csv(path+'/Train.csv')\n",
    "data_test = pd.read_csv(path+'/Test.csv')\n",
    "data_val = pd.read_csv(path+'/Val.csv')\n",
    "\n",
    "robots = ['H','F1','F2','F3','T']\n",
    "std_robot = 'T'\n",
    "coordinates = ['x','y']\n",
    "orientation = ['o']\n"
   ]
  },
  {
   "cell_type": "code",
   "execution_count": 21,
   "metadata": {},
   "outputs": [
    {
     "name": "stdout",
     "output_type": "stream",
     "text": [
      "382\n"
     ]
    }
   ],
   "source": [
    "_max = 0\n",
    "for i in range(_n_samples) :\n",
    "    _tmp = np.max(np.abs(data_train['{}_H_y'.format(i)]-data_train['{}_T_y'.format(i)]))\n",
    "    if _tmp >= _max :\n",
    "        _max = _tmp\n",
    "print(_max)"
   ]
  },
  {
   "cell_type": "code",
   "execution_count": 22,
   "metadata": {},
   "outputs": [],
   "source": [
    "train_data = s_relative_and_std(data = data_train, std_coordinates = std_coordinates,n_time_in_instance=_n_samples,std_robot ='T',other_robots=['H','F1','F2','F3'])\n",
    "val_data = s_relative_and_std(data = data_val, std_coordinates = std_coordinates,n_time_in_instance=_n_samples,std_robot ='T',other_robots=['H','F1','F2','F3'])\n",
    "test_data = s_relative_and_std(data = data_test, std_coordinates = std_coordinates,n_time_in_instance=_n_samples,std_robot ='T',other_robots=['H','F1','F2','F3'])"
   ]
  },
  {
   "cell_type": "code",
   "execution_count": 23,
   "metadata": {},
   "outputs": [
    {
     "name": "stdout",
     "output_type": "stream",
     "text": [
      "History : [['0_F3_x', '0_F3_y', '0_F2_x', '0_F2_y', '0_F1_x', '0_F1_y'], ['0_H_x', '0_H_y', '0_H_o', '0_F1_o', '0_F2_o', '0_F3_o'], []]\n",
      "History : [['1_F3_x', '1_F3_y', '1_F2_x', '1_F2_y', '1_F1_x', '1_F1_y'], ['1_H_x', '1_H_y', '1_H_o', '1_F1_o', '1_F2_o', '1_F3_o'], []]\n",
      "History : [['2_F3_x', '2_F3_y', '2_F2_x', '2_F2_y', '2_F1_x', '2_F1_y'], ['2_H_x', '2_H_y', '2_H_o', '2_F1_o', '2_F2_o', '2_F3_o'], []]\n",
      "History : [['3_F3_x', '3_F3_y', '3_F2_x', '3_F2_y', '3_F1_x', '3_F1_y'], ['3_H_x', '3_H_y', '3_H_o', '3_F1_o', '3_F2_o', '3_F3_o'], []]\n",
      "History : [['4_F3_x', '4_F3_y', '4_F2_x', '4_F2_y', '4_F1_x', '4_F1_y'], ['4_H_x', '4_H_y', '4_H_o', '4_F1_o', '4_F2_o', '4_F3_o'], []]\n",
      "History : [['5_F3_x', '5_F3_y', '5_F2_x', '5_F2_y', '5_F1_x', '5_F1_y'], ['5_H_x', '5_H_y', '5_H_o', '5_F1_o', '5_F2_o', '5_F3_o'], []]\n",
      "History : [['6_F3_x', '6_F3_y', '6_F2_x', '6_F2_y', '6_F1_x', '6_F1_y'], ['6_H_x', '6_H_y', '6_H_o', '6_F1_o', '6_F2_o', '6_F3_o'], []]\n",
      "History : [['7_F3_x', '7_F3_y', '7_F2_x', '7_F2_y', '7_F1_x', '7_F1_y'], ['7_H_x', '7_H_y', '7_H_o', '7_F1_o', '7_F2_o', '7_F3_o'], []]\n",
      "History : [['8_F3_x', '8_F3_y', '8_F2_x', '8_F2_y', '8_F1_x', '8_F1_y'], ['8_H_x', '8_H_y', '8_H_o', '8_F1_o', '8_F2_o', '8_F3_o'], []]\n",
      "History : [['9_F3_x', '9_F3_y', '9_F2_x', '9_F2_y', '9_F1_x', '9_F1_y'], ['9_H_x', '9_H_y', '9_H_o', '9_F1_o', '9_F2_o', '9_F3_o'], []]\n",
      "Observed : ['12_F3_x', '12_F3_y', '11_F2_x', '11_F2_y', '10_F1_x', '10_F1_y', '13_F3_x', '13_F3_y', '12_F2_x', '12_F2_y', '11_F1_x', '11_F1_y']\n",
      "History : [['0_F3_x', '0_F3_y', '0_F2_x', '0_F2_y', '0_F1_x', '0_F1_y'], ['0_H_x', '0_H_y', '0_H_o', '0_F1_o', '0_F2_o', '0_F3_o'], []]\n",
      "History : [['1_F3_x', '1_F3_y', '1_F2_x', '1_F2_y', '1_F1_x', '1_F1_y'], ['1_H_x', '1_H_y', '1_H_o', '1_F1_o', '1_F2_o', '1_F3_o'], []]\n",
      "History : [['2_F3_x', '2_F3_y', '2_F2_x', '2_F2_y', '2_F1_x', '2_F1_y'], ['2_H_x', '2_H_y', '2_H_o', '2_F1_o', '2_F2_o', '2_F3_o'], []]\n",
      "History : [['3_F3_x', '3_F3_y', '3_F2_x', '3_F2_y', '3_F1_x', '3_F1_y'], ['3_H_x', '3_H_y', '3_H_o', '3_F1_o', '3_F2_o', '3_F3_o'], []]\n",
      "History : [['4_F3_x', '4_F3_y', '4_F2_x', '4_F2_y', '4_F1_x', '4_F1_y'], ['4_H_x', '4_H_y', '4_H_o', '4_F1_o', '4_F2_o', '4_F3_o'], []]\n",
      "History : [['5_F3_x', '5_F3_y', '5_F2_x', '5_F2_y', '5_F1_x', '5_F1_y'], ['5_H_x', '5_H_y', '5_H_o', '5_F1_o', '5_F2_o', '5_F3_o'], []]\n",
      "History : [['6_F3_x', '6_F3_y', '6_F2_x', '6_F2_y', '6_F1_x', '6_F1_y'], ['6_H_x', '6_H_y', '6_H_o', '6_F1_o', '6_F2_o', '6_F3_o'], []]\n",
      "History : [['7_F3_x', '7_F3_y', '7_F2_x', '7_F2_y', '7_F1_x', '7_F1_y'], ['7_H_x', '7_H_y', '7_H_o', '7_F1_o', '7_F2_o', '7_F3_o'], []]\n",
      "History : [['8_F3_x', '8_F3_y', '8_F2_x', '8_F2_y', '8_F1_x', '8_F1_y'], ['8_H_x', '8_H_y', '8_H_o', '8_F1_o', '8_F2_o', '8_F3_o'], []]\n",
      "History : [['9_F3_x', '9_F3_y', '9_F2_x', '9_F2_y', '9_F1_x', '9_F1_y'], ['9_H_x', '9_H_y', '9_H_o', '9_F1_o', '9_F2_o', '9_F3_o'], []]\n",
      "Observed : ['12_F3_x', '12_F3_y', '11_F2_x', '11_F2_y', '10_F1_x', '10_F1_y', '13_F3_x', '13_F3_y', '12_F2_x', '12_F2_y', '11_F1_x', '11_F1_y']\n",
      "History : [['0_F3_x', '0_F3_y', '0_F2_x', '0_F2_y', '0_F1_x', '0_F1_y'], ['0_H_x', '0_H_y', '0_H_o', '0_F1_o', '0_F2_o', '0_F3_o'], []]\n",
      "History : [['1_F3_x', '1_F3_y', '1_F2_x', '1_F2_y', '1_F1_x', '1_F1_y'], ['1_H_x', '1_H_y', '1_H_o', '1_F1_o', '1_F2_o', '1_F3_o'], []]\n",
      "History : [['2_F3_x', '2_F3_y', '2_F2_x', '2_F2_y', '2_F1_x', '2_F1_y'], ['2_H_x', '2_H_y', '2_H_o', '2_F1_o', '2_F2_o', '2_F3_o'], []]\n",
      "History : [['3_F3_x', '3_F3_y', '3_F2_x', '3_F2_y', '3_F1_x', '3_F1_y'], ['3_H_x', '3_H_y', '3_H_o', '3_F1_o', '3_F2_o', '3_F3_o'], []]\n",
      "History : [['4_F3_x', '4_F3_y', '4_F2_x', '4_F2_y', '4_F1_x', '4_F1_y'], ['4_H_x', '4_H_y', '4_H_o', '4_F1_o', '4_F2_o', '4_F3_o'], []]\n",
      "History : [['5_F3_x', '5_F3_y', '5_F2_x', '5_F2_y', '5_F1_x', '5_F1_y'], ['5_H_x', '5_H_y', '5_H_o', '5_F1_o', '5_F2_o', '5_F3_o'], []]\n",
      "History : [['6_F3_x', '6_F3_y', '6_F2_x', '6_F2_y', '6_F1_x', '6_F1_y'], ['6_H_x', '6_H_y', '6_H_o', '6_F1_o', '6_F2_o', '6_F3_o'], []]\n",
      "History : [['7_F3_x', '7_F3_y', '7_F2_x', '7_F2_y', '7_F1_x', '7_F1_y'], ['7_H_x', '7_H_y', '7_H_o', '7_F1_o', '7_F2_o', '7_F3_o'], []]\n",
      "History : [['8_F3_x', '8_F3_y', '8_F2_x', '8_F2_y', '8_F1_x', '8_F1_y'], ['8_H_x', '8_H_y', '8_H_o', '8_F1_o', '8_F2_o', '8_F3_o'], []]\n",
      "History : [['9_F3_x', '9_F3_y', '9_F2_x', '9_F2_y', '9_F1_x', '9_F1_y'], ['9_H_x', '9_H_y', '9_H_o', '9_F1_o', '9_F2_o', '9_F3_o'], []]\n",
      "Observed : ['12_F3_x', '12_F3_y', '11_F2_x', '11_F2_y', '10_F1_x', '10_F1_y', '13_F3_x', '13_F3_y', '12_F2_x', '12_F2_y', '11_F1_x', '11_F1_y']\n"
     ]
    }
   ],
   "source": [
    "_obs_list = ['_F3_x','_F3_y','_F2_x','_F2_y','_F1_x','_F1_y']\n",
    "pred_list = ['_H_x','_H_y','_H_o','_F1_o','_F2_o','_F3_o']\n",
    "step = 0\n",
    "x_train = set_input(timedifference=[2,2,1,1,0,0],_obs_list = _obs_list, pred_list= pred_list,step = step,  _hist_len = _n_hist,_n_samples = _n_samples, data1 = train_data,data2 = train_data)\n",
    "x_val = set_input(timedifference=[2,2,1,1,0,0],_obs_list = _obs_list, pred_list= pred_list,step = step,  _hist_len = _n_hist,_n_samples = _n_samples, data1 = val_data,data2 = val_data)\n",
    "x_test = set_input(timedifference=[2,2,1,1,0,0],_obs_list = _obs_list, pred_list= pred_list,step = step,  _hist_len = _n_hist,_n_samples = _n_samples, data1 = test_data,data2 = test_data)"
   ]
  },
  {
   "cell_type": "markdown",
   "metadata": {},
   "source": [
    "### labels"
   ]
  },
  {
   "cell_type": "code",
   "execution_count": 24,
   "metadata": {},
   "outputs": [],
   "source": [
    "_label_list = [['{}_H_x'.format(_n_hist),'{}_H_y'.format(_n_hist)],\n",
    "            ['{}_H_o'.format(_n_hist),'{}_F1_o'.format(_n_hist),'{}_F2_o'.format(_n_hist),'{}_F3_o'.format(_n_hist),'{}_F3_o'.format(_n_hist+1)]]\n",
    "\n",
    "y_train = s_labels(_label_list = _label_list, data = train_data)\n",
    "y_val = s_labels(_label_list = _label_list, data = val_data)\n",
    "y_test = s_labels(_label_list = _label_list, data = test_data)"
   ]
  },
  {
   "cell_type": "code",
   "execution_count": 25,
   "metadata": {},
   "outputs": [
    {
     "name": "stdout",
     "output_type": "stream",
     "text": [
      "[['10_H_x', '10_H_y'], ['10_H_o', '10_F1_o', '10_F2_o', '10_F3_o', '11_F3_o']]\n"
     ]
    }
   ],
   "source": [
    "print(_label_list)"
   ]
  },
  {
   "cell_type": "markdown",
   "metadata": {},
   "source": [
    "### Training"
   ]
  },
  {
   "cell_type": "code",
   "execution_count": 26,
   "metadata": {},
   "outputs": [
    {
     "data": {
      "image/png": "[encoded data removed]",
      "text/plain": [
       "<Figure size 1728x360 with 1 Axes>"
      ]
     },
     "metadata": {
      "needs_background": "light"
     },
     "output_type": "display_data"
    },
    {
     "name": "stdout",
     "output_type": "stream",
     "text": [
      "\n",
      "Epoch 00600: val_loss did not improve from 0.05149\n",
      "\b\b\b\b\b\b\b\b\b\b\b\b\b\b\b\b\b\b\b\b\b\b\b\b\b\b\b\b\b\b\b\b\b\b\b\b\b\b\b\b\b\b\b\b\b\b\b\b\b\b\b\b\b\b\b\b\b\b\b\b\b\b\b\b\b\b\b\b\b\b\b\b\b\b\b\b\b\b\b\b\b\b\b\b\b\b\b\b\b\b\b\b\b\b\b\b\b\b\b\b\b\b\b\b\b\b\b\b\b\b\b\b\b\b\b\b\b\b\b\b\b\b\b\b\b\b\b\b\b\b\r",
      "11048/11048 [==============================] - 12s 1ms/sample - loss: 0.0113 - Output_head_loss: 0.0056 - Output_orientation_loss: 0.0057 - val_loss: 0.0574 - val_Output_head_loss: 0.0087 - val_Output_orientation_loss: 0.0487\n"
     ]
    }
   ],
   "source": [
    "size = [(10,12),12,160,80,160,2,5]\n",
    "lr = 0.0003\n",
    "epochs = 600\n",
    "\n",
    "for i in range(0,1) :\n",
    "    save_path = './SaveModels/Modified_Models/Model3_difftime_{}.h'.format(i)\n",
    "\n",
    "    _model1 = model_LSTM(size)\n",
    "    Model1,history1 = TrainModel(_model = _model1,save_path = save_path, lr = lr,epochs=epochs,\n",
    "    #                             losses = ['mean_squared_error'],\n",
    "                                 losses = [euclidean_distance_loss,'mean_squared_error'],\n",
    "                                 train_x = x_train, train_y =y_train,\n",
    "                                val_x = x_val, val_y =y_val )\n"
   ]
  },
  {
   "cell_type": "code",
   "execution_count": null,
   "metadata": {},
   "outputs": [],
   "source": []
  }
 ],
 "metadata": {
  "kernelspec": {
   "display_name": "Python 3",
   "language": "python",
   "name": "python3"
  },
  "language_info": {
   "codemirror_mode": {
    "name": "ipython",
    "version": 3
   },
   "file_extension": ".py",
   "mimetype": "text/x-python",
   "name": "python",
   "nbconvert_exporter": "python",
   "pygments_lexer": "ipython3",
   "version": "3.6.8"
  }
 },
 "nbformat": 4,
 "nbformat_minor": 2
}
